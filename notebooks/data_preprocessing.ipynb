{
 "cells": [
  {
   "cell_type": "code",
   "execution_count": 1,
   "metadata": {},
   "outputs": [],
   "source": [
    "import os\n",
    "import pandas as pd\n",
    "import numpy as np\n",
    "import pgeocode\n",
    "from typing import defaultdict\n",
    "from pandarallel import pandarallel"
   ]
  },
  {
   "cell_type": "code",
   "execution_count": 2,
   "metadata": {},
   "outputs": [],
   "source": [
    "data_path = '..\\\\data\\\\'"
   ]
  },
  {
   "cell_type": "code",
   "execution_count": 3,
   "metadata": {},
   "outputs": [],
   "source": [
    "clients_data = pd.read_csv(data_path + 'train_data_npo\\\\npo_clnts.csv')\n",
    "contributors_data = pd.read_csv(data_path + 'train_data_npo\\\\npo_cntrbtrs.csv')\n",
    "transactions_data = pd.read_csv(data_path + 'train_data_npo\\\\npo_trnsctns.csv')"
   ]
  },
  {
   "cell_type": "markdown",
   "metadata": {},
   "source": [
    "## Data Preprocessing"
   ]
  },
  {
   "cell_type": "code",
   "execution_count": 4,
   "metadata": {},
   "outputs": [],
   "source": [
    "def columns_report(data: pd.DataFrame) -> None:\n",
    "\n",
    "    print('Rows:', data.shape[0], end='\\n'*2)\n",
    "\n",
    "    stats = defaultdict(list)\n",
    "    for col in data.columns:\n",
    "        stats['Column'].append(col)\n",
    "        stats['Unique'].append(data[col].nunique())\n",
    "        stats['Duplicates'].append(data[col].duplicated().sum())\n",
    "        stats['Missing'].append(data[col].isna().sum())\n",
    "        stats['Missing%'].append(data[col].isna().mean() * 100)\n",
    "        stats['HitRate%'].append((1 - data[col].isna().mean()) * 100)\n",
    "    stats = pd.DataFrame(stats)\n",
    "\n",
    "    print(stats.to_string(index=False))"
   ]
  },
  {
   "cell_type": "markdown",
   "metadata": {},
   "source": [
    "### Clients"
   ]
  },
  {
   "cell_type": "code",
   "execution_count": 5,
   "metadata": {},
   "outputs": [],
   "source": [
    "clients_cleaned = clients_data.copy()"
   ]
  },
  {
   "cell_type": "code",
   "execution_count": 6,
   "metadata": {},
   "outputs": [
    {
     "name": "stdout",
     "output_type": "stream",
     "text": [
      "<class 'pandas.core.frame.DataFrame'>\n",
      "RangeIndex: 230446 entries, 0 to 230445\n",
      "Data columns (total 7 columns):\n",
      " #   Column      Non-Null Count   Dtype  \n",
      "---  ------      --------------   -----  \n",
      " 0   clnt_id     230446 non-null  object \n",
      " 1   gndr        230442 non-null  float64\n",
      " 2   slctn_nmbr  230446 non-null  int64  \n",
      " 3   age         230423 non-null  float64\n",
      " 4   brth_yr     230423 non-null  float64\n",
      " 5   pstl_code   220185 non-null  object \n",
      " 6   city        230446 non-null  int64  \n",
      "dtypes: float64(3), int64(2), object(2)\n",
      "memory usage: 12.3+ MB\n"
     ]
    }
   ],
   "source": [
    "clients_cleaned.info()"
   ]
  },
  {
   "cell_type": "code",
   "execution_count": 7,
   "metadata": {},
   "outputs": [],
   "source": [
    "postal_code_pattern = r'^\\d{6}$'\n",
    "clients_cleaned['pstl_code'] = clients_cleaned.pstl_code.str.replace('.0', '')\n",
    "clients_cleaned.loc[~(clients_cleaned.pstl_code.str.match(postal_code_pattern, na=False)), 'pstl_code'] = np.nan\n",
    "clients_cleaned['pstl_code'] = clients_cleaned.pstl_code.astype(float).fillna(-1).astype(int).astype(str).replace('-1', '_MISSING_')\n",
    "pcode_mode = clients_cleaned.loc[clients_cleaned.pstl_code != '_MISSING_', 'pstl_code'].mode()[0]\n",
    "clients_cleaned['pstl_code']= clients_cleaned.pstl_code.replace('_MISSING_', pcode_mode)"
   ]
  },
  {
   "cell_type": "code",
   "execution_count": 8,
   "metadata": {},
   "outputs": [],
   "source": [
    "postal_decoder = pgeocode.Nominatim('ru')\n",
    "\n",
    "def get_geosub_from_postalcode(postal_code: str, decoder=postal_decoder) -> str:\n",
    "\n",
    "    geo = decoder.query_postal_code(postal_code).state_name\n",
    "\n",
    "    return geo"
   ]
  },
  {
   "cell_type": "code",
   "execution_count": 9,
   "metadata": {},
   "outputs": [
    {
     "name": "stdout",
     "output_type": "stream",
     "text": [
      "16\n"
     ]
    }
   ],
   "source": [
    "print(os.cpu_count())"
   ]
  },
  {
   "cell_type": "code",
   "execution_count": 10,
   "metadata": {},
   "outputs": [
    {
     "name": "stdout",
     "output_type": "stream",
     "text": [
      "INFO: Pandarallel will run on 12 workers.\n",
      "INFO: Pandarallel will use standard multiprocessing data transfer (pipe) to transfer data between the main process and workers.\n",
      "\n",
      "WARNING: You are on Windows. If you detect any issue with pandarallel, be sure you checked out the Troubleshooting page:\n",
      "https://nalepae.github.io/pandarallel/troubleshooting/\n"
     ]
    },
    {
     "data": {
      "application/vnd.jupyter.widget-view+json": {
       "model_id": "92fd7ffccc694fc0bb9c2ce0960bc5e5",
       "version_major": 2,
       "version_minor": 0
      },
      "text/plain": [
       "VBox(children=(HBox(children=(IntProgress(value=0, description='0.00%', max=19204), Label(value='0 / 19204')))…"
      ]
     },
     "metadata": {},
     "output_type": "display_data"
    }
   ],
   "source": [
    "# pandarallel.initialize(progress_bar=True, nb_workers=12)\n",
    "# clients_cleaned['geo'] = clients_cleaned.pstl_code.parallel_apply(get_geosub_from_postalcode)"
   ]
  },
  {
   "cell_type": "code",
   "execution_count": 16,
   "metadata": {},
   "outputs": [
    {
     "name": "stderr",
     "output_type": "stream",
     "text": [
      "d:\\Programs\\Python\\Python311\\Lib\\site-packages\\pyarrow\\pandas_compat.py:373: FutureWarning: is_sparse is deprecated and will be removed in a future version. Check `isinstance(dtype, pd.SparseDtype)` instead.\n",
      "  if _pandas_api.is_sparse(col):\n"
     ]
    }
   ],
   "source": [
    "# clients_cleaned.to_feather('../data/interim/clnts.frt')"
   ]
  },
  {
   "cell_type": "code",
   "execution_count": 17,
   "metadata": {},
   "outputs": [],
   "source": [
    "clients_cleaned = pd.read_feather('../data/interim/clnts.frt')"
   ]
  },
  {
   "cell_type": "code",
   "execution_count": 21,
   "metadata": {},
   "outputs": [
    {
     "data": {
      "text/html": [
       "<div>\n",
       "<style scoped>\n",
       "    .dataframe tbody tr th:only-of-type {\n",
       "        vertical-align: middle;\n",
       "    }\n",
       "\n",
       "    .dataframe tbody tr th {\n",
       "        vertical-align: top;\n",
       "    }\n",
       "\n",
       "    .dataframe thead th {\n",
       "        text-align: right;\n",
       "    }\n",
       "</style>\n",
       "<table border=\"1\" class=\"dataframe\">\n",
       "  <thead>\n",
       "    <tr style=\"text-align: right;\">\n",
       "      <th></th>\n",
       "      <th>clnt_id</th>\n",
       "      <th>gndr</th>\n",
       "      <th>slctn_nmbr</th>\n",
       "      <th>age</th>\n",
       "      <th>brth_yr</th>\n",
       "      <th>pstl_code</th>\n",
       "      <th>city</th>\n",
       "      <th>geo</th>\n",
       "    </tr>\n",
       "  </thead>\n",
       "  <tbody>\n",
       "    <tr>\n",
       "      <th>0</th>\n",
       "      <td>0xD1930AC934CD0D4AB6141DF45637EFE4</td>\n",
       "      <td>1.0</td>\n",
       "      <td>2</td>\n",
       "      <td>74.0</td>\n",
       "      <td>1949.0</td>\n",
       "      <td>188544</td>\n",
       "      <td>0</td>\n",
       "      <td>Ленинградская Область</td>\n",
       "    </tr>\n",
       "    <tr>\n",
       "      <th>1</th>\n",
       "      <td>0x25DCE99C94913C42A49F739DDA3AE81A</td>\n",
       "      <td>0.0</td>\n",
       "      <td>2</td>\n",
       "      <td>62.0</td>\n",
       "      <td>1961.0</td>\n",
       "      <td>398046</td>\n",
       "      <td>0</td>\n",
       "      <td>Липецкая Область</td>\n",
       "    </tr>\n",
       "    <tr>\n",
       "      <th>2</th>\n",
       "      <td>0xCF29021EFE24454693866565B7CAB0D8</td>\n",
       "      <td>1.0</td>\n",
       "      <td>0</td>\n",
       "      <td>69.0</td>\n",
       "      <td>1954.0</td>\n",
       "      <td>162609</td>\n",
       "      <td>0</td>\n",
       "      <td>Вологодская Область</td>\n",
       "    </tr>\n",
       "    <tr>\n",
       "      <th>3</th>\n",
       "      <td>0xA6D80BE13B6FEB4591C5E93F715C0B98</td>\n",
       "      <td>0.0</td>\n",
       "      <td>0</td>\n",
       "      <td>38.0</td>\n",
       "      <td>1984.0</td>\n",
       "      <td>162623</td>\n",
       "      <td>0</td>\n",
       "      <td>Вологодская Область</td>\n",
       "    </tr>\n",
       "    <tr>\n",
       "      <th>4</th>\n",
       "      <td>0x88C8CB57D2D6B14393894C0CBB8A9A4A</td>\n",
       "      <td>0.0</td>\n",
       "      <td>2</td>\n",
       "      <td>38.0</td>\n",
       "      <td>1984.0</td>\n",
       "      <td>173025</td>\n",
       "      <td>0</td>\n",
       "      <td>Новгородская Область</td>\n",
       "    </tr>\n",
       "  </tbody>\n",
       "</table>\n",
       "</div>"
      ],
      "text/plain": [
       "                              clnt_id  gndr  slctn_nmbr   age  brth_yr  \\\n",
       "0  0xD1930AC934CD0D4AB6141DF45637EFE4   1.0           2  74.0   1949.0   \n",
       "1  0x25DCE99C94913C42A49F739DDA3AE81A   0.0           2  62.0   1961.0   \n",
       "2  0xCF29021EFE24454693866565B7CAB0D8   1.0           0  69.0   1954.0   \n",
       "3  0xA6D80BE13B6FEB4591C5E93F715C0B98   0.0           0  38.0   1984.0   \n",
       "4  0x88C8CB57D2D6B14393894C0CBB8A9A4A   0.0           2  38.0   1984.0   \n",
       "\n",
       "  pstl_code  city                    geo  \n",
       "0    188544     0  Ленинградская Область  \n",
       "1    398046     0       Липецкая Область  \n",
       "2    162609     0    Вологодская Область  \n",
       "3    162623     0    Вологодская Область  \n",
       "4    173025     0   Новгородская Область  "
      ]
     },
     "execution_count": 21,
     "metadata": {},
     "output_type": "execute_result"
    }
   ],
   "source": [
    "clients_cleaned.head()"
   ]
  },
  {
   "cell_type": "code",
   "execution_count": 22,
   "metadata": {},
   "outputs": [
    {
     "name": "stdout",
     "output_type": "stream",
     "text": [
      "Rows: 230446\n",
      "\n",
      "    Column  Unique  Duplicates  Missing  Missing%   HitRate%\n",
      "   clnt_id  230407          39        0  0.000000 100.000000\n",
      "      gndr       2      230443        4  0.001736  99.998264\n",
      "slctn_nmbr       4      230442        0  0.000000 100.000000\n",
      "       age     120      230325       23  0.009981  99.990019\n",
      "   brth_yr     120      230325       23  0.009981  99.990019\n",
      " pstl_code   14493      215953        0  0.000000 100.000000\n",
      "      city       2      230444        0  0.000000 100.000000\n",
      "       geo      78      230367     5640  2.447428  97.552572\n"
     ]
    }
   ],
   "source": [
    "columns_report(clients_cleaned)"
   ]
  },
  {
   "cell_type": "code",
   "execution_count": 54,
   "metadata": {},
   "outputs": [],
   "source": [
    "clients_data.dropna(subset=['gndr', 'age', 'brth_yr'], inplace=True)"
   ]
  },
  {
   "cell_type": "code",
   "execution_count": 64,
   "metadata": {},
   "outputs": [
    {
     "data": {
      "text/plain": [
       "162600"
      ]
     },
     "execution_count": 64,
     "metadata": {},
     "output_type": "execute_result"
    }
   ],
   "source": [
    "int(float(clients_data.pstl_code.mode()[0]))"
   ]
  },
  {
   "cell_type": "code",
   "execution_count": 52,
   "metadata": {},
   "outputs": [
    {
     "data": {
      "text/plain": [
       "(1,)"
      ]
     },
     "execution_count": 52,
     "metadata": {},
     "output_type": "execute_result"
    }
   ],
   "source": [
    "clients_data[clients_data.gndr.isna()].clnt_id.unique().shape"
   ]
  },
  {
   "cell_type": "code",
   "execution_count": 51,
   "metadata": {},
   "outputs": [
    {
     "data": {
      "text/plain": [
       "(20,)"
      ]
     },
     "execution_count": 51,
     "metadata": {},
     "output_type": "execute_result"
    }
   ],
   "source": [
    "clients_data[clients_data.age.isna()].clnt_id.unique().shape"
   ]
  },
  {
   "cell_type": "code",
   "execution_count": 53,
   "metadata": {},
   "outputs": [
    {
     "data": {
      "text/plain": [
       "(20,)"
      ]
     },
     "execution_count": 53,
     "metadata": {},
     "output_type": "execute_result"
    }
   ],
   "source": [
    "clients_data[clients_data.brth_yr.isna()].clnt_id.unique().shape"
   ]
  },
  {
   "cell_type": "code",
   "execution_count": null,
   "metadata": {},
   "outputs": [],
   "source": []
  },
  {
   "cell_type": "code",
   "execution_count": null,
   "metadata": {},
   "outputs": [],
   "source": []
  },
  {
   "cell_type": "code",
   "execution_count": null,
   "metadata": {},
   "outputs": [],
   "source": [
    "clients_data['gndr'] = clients_data.gndr.astype(int)\n",
    "clients_data['age'] = clients_data.age.astype(int)\n",
    "clients_data['brth_yr'] = clients_data.brth_yr.astype(int)\n",
    "clients_data['pstl_code'] = clients_data.pstl_code.astype(int)"
   ]
  },
  {
   "cell_type": "code",
   "execution_count": 26,
   "metadata": {},
   "outputs": [],
   "source": [
    "clients_data.drop_duplicates(keep='first', inplace=True)"
   ]
  },
  {
   "cell_type": "code",
   "execution_count": 27,
   "metadata": {},
   "outputs": [
    {
     "name": "stdout",
     "output_type": "stream",
     "text": [
      "Rows: 230417\n",
      "\n",
      "    Column  Unique  Duplicates  Missing%   HitRate%\n",
      "   clnt_id  230407          10  0.000000 100.000000\n",
      "      gndr       2      230414  0.001736  99.998264\n",
      "slctn_nmbr       4      230413  0.000000 100.000000\n",
      "       age     120      230296  0.009982  99.990018\n",
      "   brth_yr     120      230296  0.009982  99.990018\n",
      " pstl_code   20869      209547  4.453230  95.546770\n",
      "      city       2      230415  0.000000 100.000000\n"
     ]
    }
   ],
   "source": [
    "columns_report(clients_data)"
   ]
  },
  {
   "cell_type": "code",
   "execution_count": 29,
   "metadata": {},
   "outputs": [
    {
     "data": {
      "text/html": [
       "<div>\n",
       "<style scoped>\n",
       "    .dataframe tbody tr th:only-of-type {\n",
       "        vertical-align: middle;\n",
       "    }\n",
       "\n",
       "    .dataframe tbody tr th {\n",
       "        vertical-align: top;\n",
       "    }\n",
       "\n",
       "    .dataframe thead th {\n",
       "        text-align: right;\n",
       "    }\n",
       "</style>\n",
       "<table border=\"1\" class=\"dataframe\">\n",
       "  <thead>\n",
       "    <tr style=\"text-align: right;\">\n",
       "      <th></th>\n",
       "      <th>clnt_id</th>\n",
       "      <th>gndr</th>\n",
       "      <th>slctn_nmbr</th>\n",
       "      <th>age</th>\n",
       "      <th>brth_yr</th>\n",
       "      <th>pstl_code</th>\n",
       "      <th>city</th>\n",
       "    </tr>\n",
       "  </thead>\n",
       "  <tbody>\n",
       "    <tr>\n",
       "      <th>12290</th>\n",
       "      <td>0x8AFF8023389707479E4C8411AD581878</td>\n",
       "      <td>1.0</td>\n",
       "      <td>1</td>\n",
       "      <td>42.0</td>\n",
       "      <td>1981.0</td>\n",
       "      <td>143009.0</td>\n",
       "      <td>1</td>\n",
       "    </tr>\n",
       "    <tr>\n",
       "      <th>12291</th>\n",
       "      <td>0x8AFF8023389707479E4C8411AD581878</td>\n",
       "      <td>1.0</td>\n",
       "      <td>1</td>\n",
       "      <td>42.0</td>\n",
       "      <td>1981.0</td>\n",
       "      <td>143009</td>\n",
       "      <td>1</td>\n",
       "    </tr>\n",
       "    <tr>\n",
       "      <th>13424</th>\n",
       "      <td>0x6C8B491B724CC64CAD0054961C3CB732</td>\n",
       "      <td>0.0</td>\n",
       "      <td>1</td>\n",
       "      <td>32.0</td>\n",
       "      <td>1991.0</td>\n",
       "      <td>157202.0</td>\n",
       "      <td>0</td>\n",
       "    </tr>\n",
       "    <tr>\n",
       "      <th>13425</th>\n",
       "      <td>0x6C8B491B724CC64CAD0054961C3CB732</td>\n",
       "      <td>0.0</td>\n",
       "      <td>1</td>\n",
       "      <td>32.0</td>\n",
       "      <td>1991.0</td>\n",
       "      <td>157202</td>\n",
       "      <td>0</td>\n",
       "    </tr>\n",
       "    <tr>\n",
       "      <th>21856</th>\n",
       "      <td>0xA977088158E02044A0BD07B6A2DAD606</td>\n",
       "      <td>0.0</td>\n",
       "      <td>1</td>\n",
       "      <td>36.0</td>\n",
       "      <td>1986.0</td>\n",
       "      <td>0</td>\n",
       "      <td>0</td>\n",
       "    </tr>\n",
       "    <tr>\n",
       "      <th>21857</th>\n",
       "      <td>0xA977088158E02044A0BD07B6A2DAD606</td>\n",
       "      <td>0.0</td>\n",
       "      <td>1</td>\n",
       "      <td>36.0</td>\n",
       "      <td>1986.0</td>\n",
       "      <td>0.0</td>\n",
       "      <td>0</td>\n",
       "    </tr>\n",
       "    <tr>\n",
       "      <th>36579</th>\n",
       "      <td>0x11839E6B65F4334588180E7C2412ED28</td>\n",
       "      <td>1.0</td>\n",
       "      <td>1</td>\n",
       "      <td>56.0</td>\n",
       "      <td>1966.0</td>\n",
       "      <td>391430.0</td>\n",
       "      <td>0</td>\n",
       "    </tr>\n",
       "    <tr>\n",
       "      <th>36580</th>\n",
       "      <td>0x11839E6B65F4334588180E7C2412ED28</td>\n",
       "      <td>1.0</td>\n",
       "      <td>1</td>\n",
       "      <td>56.0</td>\n",
       "      <td>1966.0</td>\n",
       "      <td>391430</td>\n",
       "      <td>0</td>\n",
       "    </tr>\n",
       "    <tr>\n",
       "      <th>66835</th>\n",
       "      <td>0xB135FCE001FEE94AB39B077230F8616F</td>\n",
       "      <td>0.0</td>\n",
       "      <td>1</td>\n",
       "      <td>47.0</td>\n",
       "      <td>1976.0</td>\n",
       "      <td>185509</td>\n",
       "      <td>1</td>\n",
       "    </tr>\n",
       "    <tr>\n",
       "      <th>66836</th>\n",
       "      <td>0xB135FCE001FEE94AB39B077230F8616F</td>\n",
       "      <td>0.0</td>\n",
       "      <td>1</td>\n",
       "      <td>47.0</td>\n",
       "      <td>1976.0</td>\n",
       "      <td>185509.0</td>\n",
       "      <td>1</td>\n",
       "    </tr>\n",
       "    <tr>\n",
       "      <th>70736</th>\n",
       "      <td>0x80D0005056AB16F911E696FC6749698B</td>\n",
       "      <td>NaN</td>\n",
       "      <td>3</td>\n",
       "      <td>NaN</td>\n",
       "      <td>NaN</td>\n",
       "      <td>NaN</td>\n",
       "      <td>1</td>\n",
       "    </tr>\n",
       "    <tr>\n",
       "      <th>70737</th>\n",
       "      <td>0x80D0005056AB16F911E696FC6749698B</td>\n",
       "      <td>NaN</td>\n",
       "      <td>0</td>\n",
       "      <td>NaN</td>\n",
       "      <td>NaN</td>\n",
       "      <td>NaN</td>\n",
       "      <td>1</td>\n",
       "    </tr>\n",
       "    <tr>\n",
       "      <th>70738</th>\n",
       "      <td>0x80D0005056AB16F911E696FC6749698B</td>\n",
       "      <td>NaN</td>\n",
       "      <td>2</td>\n",
       "      <td>NaN</td>\n",
       "      <td>NaN</td>\n",
       "      <td>NaN</td>\n",
       "      <td>1</td>\n",
       "    </tr>\n",
       "    <tr>\n",
       "      <th>70739</th>\n",
       "      <td>0x80D0005056AB16F911E696FC6749698B</td>\n",
       "      <td>NaN</td>\n",
       "      <td>1</td>\n",
       "      <td>NaN</td>\n",
       "      <td>NaN</td>\n",
       "      <td>NaN</td>\n",
       "      <td>1</td>\n",
       "    </tr>\n",
       "    <tr>\n",
       "      <th>84606</th>\n",
       "      <td>0xE14B70174D54FF4CB8E818CE6D675D80</td>\n",
       "      <td>0.0</td>\n",
       "      <td>1</td>\n",
       "      <td>29.0</td>\n",
       "      <td>1994.0</td>\n",
       "      <td>127247</td>\n",
       "      <td>0</td>\n",
       "    </tr>\n",
       "    <tr>\n",
       "      <th>84607</th>\n",
       "      <td>0xE14B70174D54FF4CB8E818CE6D675D80</td>\n",
       "      <td>0.0</td>\n",
       "      <td>1</td>\n",
       "      <td>29.0</td>\n",
       "      <td>1994.0</td>\n",
       "      <td>127247.0</td>\n",
       "      <td>0</td>\n",
       "    </tr>\n",
       "    <tr>\n",
       "      <th>91983</th>\n",
       "      <td>0x8A2BAFD8B314AF49B9B571772C4004B3</td>\n",
       "      <td>1.0</td>\n",
       "      <td>1</td>\n",
       "      <td>28.0</td>\n",
       "      <td>1995.0</td>\n",
       "      <td>667901.0</td>\n",
       "      <td>1</td>\n",
       "    </tr>\n",
       "    <tr>\n",
       "      <th>91984</th>\n",
       "      <td>0x8A2BAFD8B314AF49B9B571772C4004B3</td>\n",
       "      <td>1.0</td>\n",
       "      <td>1</td>\n",
       "      <td>28.0</td>\n",
       "      <td>1995.0</td>\n",
       "      <td>667901</td>\n",
       "      <td>1</td>\n",
       "    </tr>\n",
       "  </tbody>\n",
       "</table>\n",
       "</div>"
      ],
      "text/plain": [
       "                                  clnt_id  gndr  slctn_nmbr   age  brth_yr   \n",
       "12290  0x8AFF8023389707479E4C8411AD581878   1.0           1  42.0   1981.0  \\\n",
       "12291  0x8AFF8023389707479E4C8411AD581878   1.0           1  42.0   1981.0   \n",
       "13424  0x6C8B491B724CC64CAD0054961C3CB732   0.0           1  32.0   1991.0   \n",
       "13425  0x6C8B491B724CC64CAD0054961C3CB732   0.0           1  32.0   1991.0   \n",
       "21856  0xA977088158E02044A0BD07B6A2DAD606   0.0           1  36.0   1986.0   \n",
       "21857  0xA977088158E02044A0BD07B6A2DAD606   0.0           1  36.0   1986.0   \n",
       "36579  0x11839E6B65F4334588180E7C2412ED28   1.0           1  56.0   1966.0   \n",
       "36580  0x11839E6B65F4334588180E7C2412ED28   1.0           1  56.0   1966.0   \n",
       "66835  0xB135FCE001FEE94AB39B077230F8616F   0.0           1  47.0   1976.0   \n",
       "66836  0xB135FCE001FEE94AB39B077230F8616F   0.0           1  47.0   1976.0   \n",
       "70736  0x80D0005056AB16F911E696FC6749698B   NaN           3   NaN      NaN   \n",
       "70737  0x80D0005056AB16F911E696FC6749698B   NaN           0   NaN      NaN   \n",
       "70738  0x80D0005056AB16F911E696FC6749698B   NaN           2   NaN      NaN   \n",
       "70739  0x80D0005056AB16F911E696FC6749698B   NaN           1   NaN      NaN   \n",
       "84606  0xE14B70174D54FF4CB8E818CE6D675D80   0.0           1  29.0   1994.0   \n",
       "84607  0xE14B70174D54FF4CB8E818CE6D675D80   0.0           1  29.0   1994.0   \n",
       "91983  0x8A2BAFD8B314AF49B9B571772C4004B3   1.0           1  28.0   1995.0   \n",
       "91984  0x8A2BAFD8B314AF49B9B571772C4004B3   1.0           1  28.0   1995.0   \n",
       "\n",
       "      pstl_code  city  \n",
       "12290  143009.0     1  \n",
       "12291    143009     1  \n",
       "13424  157202.0     0  \n",
       "13425    157202     0  \n",
       "21856         0     0  \n",
       "21857       0.0     0  \n",
       "36579  391430.0     0  \n",
       "36580    391430     0  \n",
       "66835    185509     1  \n",
       "66836  185509.0     1  \n",
       "70736       NaN     1  \n",
       "70737       NaN     1  \n",
       "70738       NaN     1  \n",
       "70739       NaN     1  \n",
       "84606    127247     0  \n",
       "84607  127247.0     0  \n",
       "91983  667901.0     1  \n",
       "91984    667901     1  "
      ]
     },
     "execution_count": 29,
     "metadata": {},
     "output_type": "execute_result"
    }
   ],
   "source": [
    "clients_data[clients_data.clnt_id.duplicated(keep=False)]"
   ]
  },
  {
   "cell_type": "code",
   "execution_count": null,
   "metadata": {},
   "outputs": [],
   "source": []
  },
  {
   "cell_type": "code",
   "execution_count": null,
   "metadata": {},
   "outputs": [],
   "source": [
    "clients_data.reset_index(drop=True)"
   ]
  }
 ],
 "metadata": {
  "kernelspec": {
   "display_name": "Python 3",
   "language": "python",
   "name": "python3"
  },
  "language_info": {
   "codemirror_mode": {
    "name": "ipython",
    "version": 3
   },
   "file_extension": ".py",
   "mimetype": "text/x-python",
   "name": "python",
   "nbconvert_exporter": "python",
   "pygments_lexer": "ipython3",
   "version": "3.11.2"
  },
  "orig_nbformat": 4
 },
 "nbformat": 4,
 "nbformat_minor": 2
}
