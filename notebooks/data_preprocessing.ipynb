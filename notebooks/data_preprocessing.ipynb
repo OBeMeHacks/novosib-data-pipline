{
 "cells": [
  {
   "cell_type": "code",
   "execution_count": 1,
   "metadata": {},
   "outputs": [],
   "source": [
    "import os\n",
    "import pandas as pd\n",
    "import numpy as np\n",
    "import pgeocode\n",
    "from typing import defaultdict\n",
    "from pandarallel import pandarallel"
   ]
  },
  {
   "cell_type": "code",
   "execution_count": 2,
   "metadata": {},
   "outputs": [],
   "source": [
    "data_path = '..\\\\data\\\\'"
   ]
  },
  {
   "cell_type": "code",
   "execution_count": 3,
   "metadata": {},
   "outputs": [],
   "source": [
    "clients_data = pd.read_csv(data_path + 'train_data_npo\\\\npo_clnts.csv')\n",
    "contributors_data = pd.read_csv(data_path + 'train_data_npo\\\\npo_cntrbtrs.csv')\n",
    "transactions_data = pd.read_csv(data_path + 'train_data_npo\\\\npo_trnsctns.csv')"
   ]
  },
  {
   "cell_type": "markdown",
   "metadata": {},
   "source": [
    "## Data Preprocessing"
   ]
  },
  {
   "cell_type": "code",
   "execution_count": 42,
   "metadata": {},
   "outputs": [],
   "source": [
    "def columns_report(data: pd.DataFrame) -> None:\n",
    "\n",
    "    print('Rows:', data.shape[0], end='\\n'*2)\n",
    "\n",
    "    stats = defaultdict(list)\n",
    "    for col in data.columns:\n",
    "        stats['Column'].append(col)\n",
    "        stats['Unique'].append(data[col].nunique())\n",
    "        stats['Duplicates'].append(data[col].duplicated().sum())\n",
    "        stats['Missing'].append(data[col].isna().sum())\n",
    "        stats['Missing%'].append(data[col].isna().mean() * 100)\n",
    "        stats['HitRate%'].append((1 - data[col].isna().mean()) * 100)\n",
    "    stats = pd.DataFrame(stats)\n",
    "\n",
    "    print(stats.to_string(index=False))"
   ]
  },
  {
   "cell_type": "markdown",
   "metadata": {},
   "source": [
    "### Clients"
   ]
  },
  {
   "cell_type": "code",
   "execution_count": 70,
   "metadata": {},
   "outputs": [],
   "source": [
    "clients_cleaned = clients_data.copy()"
   ]
  },
  {
   "cell_type": "code",
   "execution_count": 44,
   "metadata": {},
   "outputs": [
    {
     "name": "stdout",
     "output_type": "stream",
     "text": [
      "<class 'pandas.core.frame.DataFrame'>\n",
      "RangeIndex: 230446 entries, 0 to 230445\n",
      "Data columns (total 7 columns):\n",
      " #   Column      Non-Null Count   Dtype  \n",
      "---  ------      --------------   -----  \n",
      " 0   clnt_id     230446 non-null  object \n",
      " 1   gndr        230442 non-null  float64\n",
      " 2   slctn_nmbr  230446 non-null  int64  \n",
      " 3   age         230423 non-null  float64\n",
      " 4   brth_yr     230423 non-null  float64\n",
      " 5   pstl_code   220185 non-null  object \n",
      " 6   city        230446 non-null  int64  \n",
      "dtypes: float64(3), int64(2), object(2)\n",
      "memory usage: 12.3+ MB\n"
     ]
    }
   ],
   "source": [
    "clients_cleaned.info()"
   ]
  },
  {
   "cell_type": "code",
   "execution_count": 71,
   "metadata": {},
   "outputs": [
    {
     "name": "stdout",
     "output_type": "stream",
     "text": [
      "Rows: 230446\n",
      "\n",
      "    Column  Unique  Duplicates  Missing  Missing%   HitRate%\n",
      "   clnt_id  230407          39        0  0.000000 100.000000\n",
      "      gndr       2      230443        4  0.001736  99.998264\n",
      "slctn_nmbr       4      230442        0  0.000000 100.000000\n",
      "       age     120      230325       23  0.009981  99.990019\n",
      "   brth_yr     120      230325       23  0.009981  99.990019\n",
      " pstl_code   20869      209576    10261  4.452670  95.547330\n",
      "      city       2      230444        0  0.000000 100.000000\n"
     ]
    }
   ],
   "source": [
    "columns_report(clients_cleaned)"
   ]
  },
  {
   "cell_type": "code",
   "execution_count": 45,
   "metadata": {},
   "outputs": [],
   "source": [
    "postal_code_pattern = r'^\\d{6}$'\n",
    "clients_cleaned['pstl_code'] = clients_cleaned.pstl_code.str.replace('.0', '')\n",
    "clients_cleaned.loc[~(clients_cleaned.pstl_code.str.match(postal_code_pattern, na=False)), 'pstl_code'] = np.nan\n",
    "clients_cleaned['pstl_code'] = clients_cleaned.pstl_code.astype(float).fillna(-1).astype(int).astype(str).replace('-1', '_MISSING_')\n",
    "pcode_mode = clients_cleaned.loc[clients_cleaned.pstl_code != '_MISSING_', 'pstl_code'].mode()[0]\n",
    "clients_cleaned['pstl_code']= clients_cleaned.pstl_code.replace('_MISSING_', pcode_mode)"
   ]
  },
  {
   "cell_type": "code",
   "execution_count": 46,
   "metadata": {},
   "outputs": [],
   "source": [
    "postal_decoder = pgeocode.Nominatim('ru')\n",
    "\n",
    "def get_geosub_from_postalcode(postal_code: str, decoder=postal_decoder) -> str:\n",
    "\n",
    "    geo = decoder.query_postal_code(postal_code).state_name\n",
    "\n",
    "    return geo"
   ]
  },
  {
   "cell_type": "code",
   "execution_count": 47,
   "metadata": {},
   "outputs": [
    {
     "name": "stdout",
     "output_type": "stream",
     "text": [
      "16\n"
     ]
    }
   ],
   "source": [
    "print(os.cpu_count())"
   ]
  },
  {
   "cell_type": "code",
   "execution_count": 48,
   "metadata": {},
   "outputs": [],
   "source": [
    "# получение геопозиции по почтовому индексу\n",
    "pandarallel.initialize(progress_bar=True, nb_workers=12)\n",
    "clients_cleaned['geo'] = clients_cleaned.pstl_code.parallel_apply(get_geosub_from_postalcode)"
   ]
  },
  {
   "cell_type": "code",
   "execution_count": 56,
   "metadata": {},
   "outputs": [],
   "source": [
    "# заполнение недостающих геопозиций по индексам с такой же частью, отвечающей за код города\n",
    "no_geo_pstl_codes = clients_cleaned.loc[clients_cleaned.geo.isna(), 'pstl_code'].unique().tolist()\n",
    "\n",
    "for pstl_code in no_geo_pstl_codes:\n",
    "    no_geo_city_code = pstl_code[:3]\n",
    "    try:\n",
    "        twin_geo = clients_cleaned.loc[(clients_cleaned.pstl_code.str[:3] == no_geo_city_code) &\\\n",
    "            (clients_cleaned.geo.notna()), 'geo'].unique()[0]\n",
    "    except IndexError:\n",
    "        twin_geo = None\n",
    "    clients_cleaned.loc[clients_cleaned.pstl_code == pstl_code, 'geo'] = twin_geo"
   ]
  },
  {
   "cell_type": "code",
   "execution_count": 65,
   "metadata": {},
   "outputs": [],
   "source": [
    "clients_cleaned.dropna(subset=['gndr', 'age', 'brth_yr', 'geo'], inplace=True)\n",
    "clients_cleaned.drop_duplicates(subset=['clnt_id'], keep='first', inplace=True)\n",
    "clients_cleaned.reset_index(drop=True, inplace=True)"
   ]
  },
  {
   "cell_type": "code",
   "execution_count": 85,
   "metadata": {},
   "outputs": [],
   "source": [
    "clients_cleaned['gndr'] = clients_cleaned.gndr.astype(int)\n",
    "clients_cleaned['age'] = clients_cleaned.age.astype(int)\n",
    "clients_cleaned['brth_yr'] = clients_cleaned.brth_yr.astype(int)"
   ]
  },
  {
   "cell_type": "code",
   "execution_count": 186,
   "metadata": {},
   "outputs": [
    {
     "name": "stdout",
     "output_type": "stream",
     "text": [
      "Rows: 229519\n",
      "\n",
      "    Column  Unique  Duplicates  Missing  Missing%  HitRate%\n",
      "   clnt_id  229519           0        0       0.0     100.0\n",
      "      gndr       2      229517        0       0.0     100.0\n",
      "slctn_nmbr       4      229515        0       0.0     100.0\n",
      "       age     120      229399        0       0.0     100.0\n",
      "   brth_yr     120      229399        0       0.0     100.0\n",
      " pstl_code   14211      215308        0       0.0     100.0\n",
      "      city       2      229517        0       0.0     100.0\n",
      "       geo      78      229441        0       0.0     100.0\n"
     ]
    }
   ],
   "source": [
    "columns_report(clients_cleaned)"
   ]
  },
  {
   "cell_type": "code",
   "execution_count": 187,
   "metadata": {},
   "outputs": [
    {
     "data": {
      "text/html": [
       "<div>\n",
       "<style scoped>\n",
       "    .dataframe tbody tr th:only-of-type {\n",
       "        vertical-align: middle;\n",
       "    }\n",
       "\n",
       "    .dataframe tbody tr th {\n",
       "        vertical-align: top;\n",
       "    }\n",
       "\n",
       "    .dataframe thead th {\n",
       "        text-align: right;\n",
       "    }\n",
       "</style>\n",
       "<table border=\"1\" class=\"dataframe\">\n",
       "  <thead>\n",
       "    <tr style=\"text-align: right;\">\n",
       "      <th></th>\n",
       "      <th>gndr</th>\n",
       "      <th>slctn_nmbr</th>\n",
       "      <th>age</th>\n",
       "      <th>brth_yr</th>\n",
       "      <th>city</th>\n",
       "    </tr>\n",
       "  </thead>\n",
       "  <tbody>\n",
       "    <tr>\n",
       "      <th>count</th>\n",
       "      <td>229519.000000</td>\n",
       "      <td>229519.000000</td>\n",
       "      <td>229519.000000</td>\n",
       "      <td>229519.000000</td>\n",
       "      <td>229519.000000</td>\n",
       "    </tr>\n",
       "    <tr>\n",
       "      <th>mean</th>\n",
       "      <td>0.439454</td>\n",
       "      <td>1.438896</td>\n",
       "      <td>55.755876</td>\n",
       "      <td>1966.907912</td>\n",
       "      <td>0.242202</td>\n",
       "    </tr>\n",
       "    <tr>\n",
       "      <th>std</th>\n",
       "      <td>0.496322</td>\n",
       "      <td>0.848230</td>\n",
       "      <td>21.520319</td>\n",
       "      <td>21.531225</td>\n",
       "      <td>0.428417</td>\n",
       "    </tr>\n",
       "    <tr>\n",
       "      <th>min</th>\n",
       "      <td>0.000000</td>\n",
       "      <td>0.000000</td>\n",
       "      <td>-976.000000</td>\n",
       "      <td>1.000000</td>\n",
       "      <td>0.000000</td>\n",
       "    </tr>\n",
       "    <tr>\n",
       "      <th>1%</th>\n",
       "      <td>0.000000</td>\n",
       "      <td>0.000000</td>\n",
       "      <td>30.000000</td>\n",
       "      <td>1931.000000</td>\n",
       "      <td>0.000000</td>\n",
       "    </tr>\n",
       "    <tr>\n",
       "      <th>10%</th>\n",
       "      <td>0.000000</td>\n",
       "      <td>0.000000</td>\n",
       "      <td>38.000000</td>\n",
       "      <td>1951.000000</td>\n",
       "      <td>0.000000</td>\n",
       "    </tr>\n",
       "    <tr>\n",
       "      <th>25%</th>\n",
       "      <td>0.000000</td>\n",
       "      <td>1.000000</td>\n",
       "      <td>46.000000</td>\n",
       "      <td>1958.000000</td>\n",
       "      <td>0.000000</td>\n",
       "    </tr>\n",
       "    <tr>\n",
       "      <th>50%</th>\n",
       "      <td>0.000000</td>\n",
       "      <td>2.000000</td>\n",
       "      <td>56.000000</td>\n",
       "      <td>1966.000000</td>\n",
       "      <td>0.000000</td>\n",
       "    </tr>\n",
       "    <tr>\n",
       "      <th>75%</th>\n",
       "      <td>1.000000</td>\n",
       "      <td>2.000000</td>\n",
       "      <td>65.000000</td>\n",
       "      <td>1977.000000</td>\n",
       "      <td>0.000000</td>\n",
       "    </tr>\n",
       "    <tr>\n",
       "      <th>90%</th>\n",
       "      <td>1.000000</td>\n",
       "      <td>2.000000</td>\n",
       "      <td>71.000000</td>\n",
       "      <td>1984.000000</td>\n",
       "      <td>1.000000</td>\n",
       "    </tr>\n",
       "    <tr>\n",
       "      <th>99%</th>\n",
       "      <td>1.000000</td>\n",
       "      <td>3.000000</td>\n",
       "      <td>91.000000</td>\n",
       "      <td>1993.000000</td>\n",
       "      <td>1.000000</td>\n",
       "    </tr>\n",
       "    <tr>\n",
       "      <th>max</th>\n",
       "      <td>1.000000</td>\n",
       "      <td>3.000000</td>\n",
       "      <td>2022.000000</td>\n",
       "      <td>2999.000000</td>\n",
       "      <td>1.000000</td>\n",
       "    </tr>\n",
       "  </tbody>\n",
       "</table>\n",
       "</div>"
      ],
      "text/plain": [
       "                gndr     slctn_nmbr            age        brth_yr  \\\n",
       "count  229519.000000  229519.000000  229519.000000  229519.000000   \n",
       "mean        0.439454       1.438896      55.755876    1966.907912   \n",
       "std         0.496322       0.848230      21.520319      21.531225   \n",
       "min         0.000000       0.000000    -976.000000       1.000000   \n",
       "1%          0.000000       0.000000      30.000000    1931.000000   \n",
       "10%         0.000000       0.000000      38.000000    1951.000000   \n",
       "25%         0.000000       1.000000      46.000000    1958.000000   \n",
       "50%         0.000000       2.000000      56.000000    1966.000000   \n",
       "75%         1.000000       2.000000      65.000000    1977.000000   \n",
       "90%         1.000000       2.000000      71.000000    1984.000000   \n",
       "99%         1.000000       3.000000      91.000000    1993.000000   \n",
       "max         1.000000       3.000000    2022.000000    2999.000000   \n",
       "\n",
       "                city  \n",
       "count  229519.000000  \n",
       "mean        0.242202  \n",
       "std         0.428417  \n",
       "min         0.000000  \n",
       "1%          0.000000  \n",
       "10%         0.000000  \n",
       "25%         0.000000  \n",
       "50%         0.000000  \n",
       "75%         0.000000  \n",
       "90%         1.000000  \n",
       "99%         1.000000  \n",
       "max         1.000000  "
      ]
     },
     "execution_count": 187,
     "metadata": {},
     "output_type": "execute_result"
    }
   ],
   "source": [
    "clients_cleaned.describe(percentiles=[.01, .1, .25, .5, .75, .9, .99])"
   ]
  },
  {
   "cell_type": "code",
   "execution_count": 188,
   "metadata": {},
   "outputs": [],
   "source": [
    "clients_cleaned = clients_cleaned.loc[(clients_cleaned.age >= 14) & (clients_cleaned.age <= 90)].reset_index(drop=True)"
   ]
  },
  {
   "cell_type": "code",
   "execution_count": 189,
   "metadata": {},
   "outputs": [
    {
     "data": {
      "text/html": [
       "<div>\n",
       "<style scoped>\n",
       "    .dataframe tbody tr th:only-of-type {\n",
       "        vertical-align: middle;\n",
       "    }\n",
       "\n",
       "    .dataframe tbody tr th {\n",
       "        vertical-align: top;\n",
       "    }\n",
       "\n",
       "    .dataframe thead th {\n",
       "        text-align: right;\n",
       "    }\n",
       "</style>\n",
       "<table border=\"1\" class=\"dataframe\">\n",
       "  <thead>\n",
       "    <tr style=\"text-align: right;\">\n",
       "      <th></th>\n",
       "      <th>gndr</th>\n",
       "      <th>slctn_nmbr</th>\n",
       "      <th>age</th>\n",
       "      <th>brth_yr</th>\n",
       "      <th>city</th>\n",
       "    </tr>\n",
       "  </thead>\n",
       "  <tbody>\n",
       "    <tr>\n",
       "      <th>count</th>\n",
       "      <td>227007.000000</td>\n",
       "      <td>227007.000000</td>\n",
       "      <td>227007.000000</td>\n",
       "      <td>227007.000000</td>\n",
       "      <td>227007.000000</td>\n",
       "    </tr>\n",
       "    <tr>\n",
       "      <th>mean</th>\n",
       "      <td>0.437418</td>\n",
       "      <td>1.443088</td>\n",
       "      <td>55.386274</td>\n",
       "      <td>1967.281392</td>\n",
       "      <td>0.237993</td>\n",
       "    </tr>\n",
       "    <tr>\n",
       "      <th>std</th>\n",
       "      <td>0.496069</td>\n",
       "      <td>0.851188</td>\n",
       "      <td>12.430646</td>\n",
       "      <td>12.428508</td>\n",
       "      <td>0.425856</td>\n",
       "    </tr>\n",
       "    <tr>\n",
       "      <th>min</th>\n",
       "      <td>0.000000</td>\n",
       "      <td>0.000000</td>\n",
       "      <td>14.000000</td>\n",
       "      <td>1932.000000</td>\n",
       "      <td>0.000000</td>\n",
       "    </tr>\n",
       "    <tr>\n",
       "      <th>1%</th>\n",
       "      <td>0.000000</td>\n",
       "      <td>0.000000</td>\n",
       "      <td>30.000000</td>\n",
       "      <td>1938.000000</td>\n",
       "      <td>0.000000</td>\n",
       "    </tr>\n",
       "    <tr>\n",
       "      <th>5%</th>\n",
       "      <td>0.000000</td>\n",
       "      <td>0.000000</td>\n",
       "      <td>35.000000</td>\n",
       "      <td>1948.000000</td>\n",
       "      <td>0.000000</td>\n",
       "    </tr>\n",
       "    <tr>\n",
       "      <th>10%</th>\n",
       "      <td>0.000000</td>\n",
       "      <td>0.000000</td>\n",
       "      <td>38.000000</td>\n",
       "      <td>1952.000000</td>\n",
       "      <td>0.000000</td>\n",
       "    </tr>\n",
       "    <tr>\n",
       "      <th>25%</th>\n",
       "      <td>0.000000</td>\n",
       "      <td>1.000000</td>\n",
       "      <td>46.000000</td>\n",
       "      <td>1958.000000</td>\n",
       "      <td>0.000000</td>\n",
       "    </tr>\n",
       "    <tr>\n",
       "      <th>50%</th>\n",
       "      <td>0.000000</td>\n",
       "      <td>2.000000</td>\n",
       "      <td>56.000000</td>\n",
       "      <td>1966.000000</td>\n",
       "      <td>0.000000</td>\n",
       "    </tr>\n",
       "    <tr>\n",
       "      <th>75%</th>\n",
       "      <td>1.000000</td>\n",
       "      <td>2.000000</td>\n",
       "      <td>64.000000</td>\n",
       "      <td>1977.000000</td>\n",
       "      <td>0.000000</td>\n",
       "    </tr>\n",
       "    <tr>\n",
       "      <th>90%</th>\n",
       "      <td>1.000000</td>\n",
       "      <td>2.000000</td>\n",
       "      <td>71.000000</td>\n",
       "      <td>1984.000000</td>\n",
       "      <td>1.000000</td>\n",
       "    </tr>\n",
       "    <tr>\n",
       "      <th>95%</th>\n",
       "      <td>1.000000</td>\n",
       "      <td>2.000000</td>\n",
       "      <td>74.000000</td>\n",
       "      <td>1988.000000</td>\n",
       "      <td>1.000000</td>\n",
       "    </tr>\n",
       "    <tr>\n",
       "      <th>99%</th>\n",
       "      <td>1.000000</td>\n",
       "      <td>3.000000</td>\n",
       "      <td>85.000000</td>\n",
       "      <td>1993.000000</td>\n",
       "      <td>1.000000</td>\n",
       "    </tr>\n",
       "    <tr>\n",
       "      <th>max</th>\n",
       "      <td>1.000000</td>\n",
       "      <td>3.000000</td>\n",
       "      <td>90.000000</td>\n",
       "      <td>2009.000000</td>\n",
       "      <td>1.000000</td>\n",
       "    </tr>\n",
       "  </tbody>\n",
       "</table>\n",
       "</div>"
      ],
      "text/plain": [
       "                gndr     slctn_nmbr            age        brth_yr  \\\n",
       "count  227007.000000  227007.000000  227007.000000  227007.000000   \n",
       "mean        0.437418       1.443088      55.386274    1967.281392   \n",
       "std         0.496069       0.851188      12.430646      12.428508   \n",
       "min         0.000000       0.000000      14.000000    1932.000000   \n",
       "1%          0.000000       0.000000      30.000000    1938.000000   \n",
       "5%          0.000000       0.000000      35.000000    1948.000000   \n",
       "10%         0.000000       0.000000      38.000000    1952.000000   \n",
       "25%         0.000000       1.000000      46.000000    1958.000000   \n",
       "50%         0.000000       2.000000      56.000000    1966.000000   \n",
       "75%         1.000000       2.000000      64.000000    1977.000000   \n",
       "90%         1.000000       2.000000      71.000000    1984.000000   \n",
       "95%         1.000000       2.000000      74.000000    1988.000000   \n",
       "99%         1.000000       3.000000      85.000000    1993.000000   \n",
       "max         1.000000       3.000000      90.000000    2009.000000   \n",
       "\n",
       "                city  \n",
       "count  227007.000000  \n",
       "mean        0.237993  \n",
       "std         0.425856  \n",
       "min         0.000000  \n",
       "1%          0.000000  \n",
       "5%          0.000000  \n",
       "10%         0.000000  \n",
       "25%         0.000000  \n",
       "50%         0.000000  \n",
       "75%         0.000000  \n",
       "90%         1.000000  \n",
       "95%         1.000000  \n",
       "99%         1.000000  \n",
       "max         1.000000  "
      ]
     },
     "execution_count": 189,
     "metadata": {},
     "output_type": "execute_result"
    }
   ],
   "source": [
    "clients_cleaned.describe(percentiles=[.01, .05, .1, .25, .5, .75, .9, .95, .99])"
   ]
  },
  {
   "cell_type": "code",
   "execution_count": 190,
   "metadata": {},
   "outputs": [
    {
     "name": "stderr",
     "output_type": "stream",
     "text": [
      "d:\\Programs\\Python\\Python311\\Lib\\site-packages\\pyarrow\\pandas_compat.py:373: FutureWarning: is_sparse is deprecated and will be removed in a future version. Check `isinstance(dtype, pd.SparseDtype)` instead.\n",
      "  if _pandas_api.is_sparse(col):\n"
     ]
    }
   ],
   "source": [
    "# clients_cleaned.to_feather('../data/interim/clnts.frt')"
   ]
  },
  {
   "cell_type": "code",
   "execution_count": 197,
   "metadata": {},
   "outputs": [],
   "source": [
    "clients_cleaned = pd.read_feather('../data/interim/clnts.frt')"
   ]
  },
  {
   "cell_type": "code",
   "execution_count": 198,
   "metadata": {},
   "outputs": [
    {
     "name": "stdout",
     "output_type": "stream",
     "text": [
      "Сохраненная доля исходной выборки: 98.51%\n"
     ]
    }
   ],
   "source": [
    "print('Сохраненная доля исходной выборки: {:.2%}'.format(clients_cleaned.shape[0] / clients_data.shape[0]))"
   ]
  }
 ],
 "metadata": {
  "kernelspec": {
   "display_name": "Python 3",
   "language": "python",
   "name": "python3"
  },
  "language_info": {
   "codemirror_mode": {
    "name": "ipython",
    "version": 3
   },
   "file_extension": ".py",
   "mimetype": "text/x-python",
   "name": "python",
   "nbconvert_exporter": "python",
   "pygments_lexer": "ipython3",
   "version": "3.11.2"
  },
  "orig_nbformat": 4
 },
 "nbformat": 4,
 "nbformat_minor": 2
}
