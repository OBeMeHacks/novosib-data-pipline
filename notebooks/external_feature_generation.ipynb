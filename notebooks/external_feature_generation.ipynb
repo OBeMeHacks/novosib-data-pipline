{
 "cells": [
  {
   "cell_type": "code",
   "execution_count": 1,
   "metadata": {},
   "outputs": [],
   "source": [
    "import pandas as pd\n",
    "import numpy as np\n",
    "from pandarallel import pandarallel"
   ]
  },
  {
   "cell_type": "code",
   "execution_count": 2,
   "metadata": {},
   "outputs": [],
   "source": [
    "data_path = '..\\\\data\\\\'"
   ]
  },
  {
   "cell_type": "code",
   "execution_count": 3,
   "metadata": {},
   "outputs": [],
   "source": [
    "# фичи на внешних источниках будут зависеть от клиентских данных (в частности, от геопозиции) и временной точки таргета\n",
    "clnts_data = pd.read_feather(data_path + 'interim\\\\clnts.frt')\n",
    "clnts_must_cols = [\n",
    "    'clnt_id',\n",
    "    'geo'\n",
    "]\n",
    "\n",
    "target_data = pd.read_feather(data_path + 'interim\\\\correct_target.frt')\n",
    "target_data['year'] = target_data.quarter.astype(str).str[:4].astype(int)\n",
    "target_must_cols = [\n",
    "    'clnt_id',\n",
    "    'year',\n",
    "    'quarter',\n",
    "    'transactions_count',\n",
    "    'paid_avg_correct'\n",
    "]"
   ]
  },
  {
   "cell_type": "code",
   "execution_count": 4,
   "metadata": {},
   "outputs": [],
   "source": [
    "subjects = ['край', 'область', 'республика', 'москва', 'санкт-петербург', 'российская федерация']\n",
    "stop_words = subjects[:3]\n",
    "\n",
    "\n",
    "def rm_stop_words(s: str, stop_words=stop_words):\n",
    "\n",
    "    return ' '.join(w for w in s.split() if w not in stop_words)"
   ]
  },
  {
   "cell_type": "code",
   "execution_count": 5,
   "metadata": {},
   "outputs": [
    {
     "name": "stdout",
     "output_type": "stream",
     "text": [
      "INFO: Pandarallel will run on 12 workers.\n",
      "INFO: Pandarallel will use standard multiprocessing data transfer (pipe) to transfer data between the main process and workers.\n",
      "\n",
      "WARNING: You are on Windows. If you detect any issue with pandarallel, be sure you checked out the Troubleshooting page:\n",
      "https://nalepae.github.io/pandarallel/troubleshooting/\n"
     ]
    }
   ],
   "source": [
    "pandarallel.initialize(progress_bar=False, nb_workers=12)"
   ]
  },
  {
   "cell_type": "code",
   "execution_count": 6,
   "metadata": {},
   "outputs": [],
   "source": [
    "clnts_data['geo'] = clnts_data.geo\\\n",
    "    .str.strip()\\\n",
    "    .str.lower()\\\n",
    "    .str.replace(r'\\s*\\(.*\\)', '', regex=True)\\\n",
    "    .parallel_apply(rm_stop_words)\\\n",
    "    .str.strip()"
   ]
  },
  {
   "cell_type": "code",
   "execution_count": 7,
   "metadata": {},
   "outputs": [],
   "source": [
    "target_clnt_data = target_data[target_must_cols].merge(clnts_data[clnts_must_cols], on='clnt_id', how='left')\\\n",
    "    .sort_values(['clnt_id', 'quarter']).reset_index(drop=True)\n",
    "target_clnt_data['quarter'] = target_clnt_data.quarter.astype(str)"
   ]
  },
  {
   "cell_type": "code",
   "execution_count": 8,
   "metadata": {},
   "outputs": [],
   "source": [
    "external_ftrs_data = target_clnt_data.copy()"
   ]
  },
  {
   "cell_type": "code",
   "execution_count": 9,
   "metadata": {},
   "outputs": [],
   "source": [
    "def generate_ext_feature(target_data: pd.DataFrame, ext_data_local: pd.DataFrame,\n",
    "                         ext_data_global: pd.DataFrame, value_col: str, id_col: str = 'clnt_id',\n",
    "                         ext_time_col: str = 'quarter', geo: bool = True) -> pd.DataFrame:\n",
    "\n",
    "    X = pd.merge(target_data, ext_data_local[[ext_time_col, value_col, 'geo'] if geo else [ext_time_col, value_col]],\n",
    "                 on=[ext_time_col, 'geo'] if geo else [ext_time_col], how='left')\\\n",
    "                     .drop_duplicates(subset=[id_col, 'quarter'], keep='first')\n",
    "    X = pd.merge(X, ext_data_global[[ext_time_col, value_col]], on=ext_time_col, how='left')\\\n",
    "        .drop_duplicates(subset=[id_col, 'quarter'], keep='first')\n",
    "    X[value_col + '_x'] = X[value_col + '_x'].fillna(X[value_col + '_y'])\n",
    "    X[value_col + '_x'] = X[value_col + '_x'].fillna(np.mean(X[value_col + '_x']))\n",
    "    X.rename(columns={value_col + '_x': value_col}, inplace=True)\n",
    "    X.drop(columns=[value_col + '_y'], inplace=True)\n",
    "\n",
    "    return X[[id_col, 'quarter', value_col]]"
   ]
  },
  {
   "cell_type": "markdown",
   "metadata": {},
   "source": [
    "### Соотношение среднедушевых денежных доходов населения с величиной прожиточного минимума (процент)"
   ]
  },
  {
   "cell_type": "code",
   "execution_count": 10,
   "metadata": {},
   "outputs": [],
   "source": [
    "avgpercapinc_subsistmin_ratio = pd.read_feather(data_path + 'interim\\\\avgpercapinc_subsistmin_ratio.frt')\n",
    "avgpercapinc_subsistmin_ratio.rename(columns={'date': 'quarter'}, inplace=True)\n",
    "avgpercapinc_subsistmin_ratio_rf = avgpercapinc_subsistmin_ratio.loc[\n",
    "    avgpercapinc_subsistmin_ratio.geo == 'российская федерация'].reset_index(drop=True)"
   ]
  },
  {
   "cell_type": "code",
   "execution_count": 13,
   "metadata": {},
   "outputs": [],
   "source": [
    "ext_ftr_1 = generate_ext_feature(\n",
    "    target_clnt_data,\n",
    "    avgpercapinc_subsistmin_ratio,\n",
    "    avgpercapinc_subsistmin_ratio_rf,\n",
    "    'avgpercapinc_subsistmin_ratio'\n",
    ")"
   ]
  },
  {
   "cell_type": "markdown",
   "metadata": {},
   "source": [
    "### Возрастной коэффициент смертности (промилле (0,1 процента))"
   ]
  },
  {
   "cell_type": "code",
   "execution_count": 16,
   "metadata": {},
   "outputs": [],
   "source": [
    "agespec_death_rate = pd.read_feather(data_path + 'interim\\\\agespec_death_rate.frt')\n",
    "agespec_death_rate.rename(columns={'date': 'quarter'}, inplace=True)\n",
    "agespec_death_rate_rf = agespec_death_rate.loc[\n",
    "    agespec_death_rate.geo == 'российская федерация'].reset_index(drop=True)"
   ]
  },
  {
   "cell_type": "code",
   "execution_count": 17,
   "metadata": {},
   "outputs": [],
   "source": [
    "ext_ftr_2 = generate_ext_feature(\n",
    "    target_clnt_data,\n",
    "    agespec_death_rate,\n",
    "    agespec_death_rate_rf,\n",
    "    'agespec_death_rate',\n",
    "    ext_time_col='year'\n",
    ")"
   ]
  },
  {
   "cell_type": "markdown",
   "metadata": {},
   "source": [
    "### Ожидаемая продолжительность жизни при рождении"
   ]
  },
  {
   "cell_type": "code",
   "execution_count": 18,
   "metadata": {},
   "outputs": [],
   "source": [
    "lifeexp_at_birth = pd.read_feather(data_path + 'interim\\\\lifeexp_at_birth.frt')\n",
    "lifeexp_at_birth.rename(columns={'date': 'quarter'}, inplace=True)\n",
    "lifeexp_at_birth_rf = lifeexp_at_birth.loc[\n",
    "    lifeexp_at_birth.geo == 'российская федерация'].reset_index(drop=True)"
   ]
  },
  {
   "cell_type": "code",
   "execution_count": 19,
   "metadata": {},
   "outputs": [],
   "source": [
    "ext_ftr_3 = generate_ext_feature(\n",
    "    target_clnt_data,\n",
    "    lifeexp_at_birth,\n",
    "    lifeexp_at_birth_rf,\n",
    "    'lifeexp_at_birth',\n",
    "    ext_time_col='year'\n",
    ")"
   ]
  },
  {
   "cell_type": "markdown",
   "metadata": {},
   "source": [
    "### Число умерших за год (человек, значение показателя за год)"
   ]
  },
  {
   "cell_type": "code",
   "execution_count": 20,
   "metadata": {},
   "outputs": [],
   "source": [
    "deaths_per_year = pd.read_feather(data_path + 'interim\\\\deaths_per_year.frt')\n",
    "deaths_per_year.rename(columns={'date': 'quarter'}, inplace=True)\n",
    "deaths_per_year_rf = deaths_per_year.loc[\n",
    "    deaths_per_year.geo == 'российская федерация'].reset_index(drop=True)"
   ]
  },
  {
   "cell_type": "code",
   "execution_count": 21,
   "metadata": {},
   "outputs": [],
   "source": [
    "ext_ftr_4 = generate_ext_feature(\n",
    "    target_clnt_data,\n",
    "    deaths_per_year,\n",
    "    deaths_per_year_rf,\n",
    "    'deaths_per_year',\n",
    "    ext_time_col='year'\n",
    ")"
   ]
  },
  {
   "cell_type": "markdown",
   "metadata": {},
   "source": [
    "### Индекс потребительских цен на товары и услуги к концу предыдущего месяца"
   ]
  },
  {
   "cell_type": "code",
   "execution_count": 22,
   "metadata": {},
   "outputs": [],
   "source": [
    "cpi_data = pd.read_feather(data_path + 'interim\\\\cpi.frt')\n",
    "cpi_data['date'] = cpi_data.date.astype(str)\n",
    "cpi_data['geo'] = 'российская федерация'\n",
    "cpi_data.rename(columns={'date': 'quarter'}, inplace=True)\n",
    "cpi_data_rf = cpi_data.loc[\n",
    "    cpi_data.geo == 'российская федерация'].reset_index(drop=True)"
   ]
  },
  {
   "cell_type": "code",
   "execution_count": 23,
   "metadata": {},
   "outputs": [],
   "source": [
    "ext_ftr_5 = generate_ext_feature(\n",
    "    target_clnt_data,\n",
    "    cpi_data,\n",
    "    cpi_data_rf,\n",
    "    'cpi'\n",
    ")"
   ]
  },
  {
   "cell_type": "markdown",
   "metadata": {},
   "source": [
    "### Инфляция по месяцам в годовом исчислении"
   ]
  },
  {
   "cell_type": "code",
   "execution_count": 24,
   "metadata": {},
   "outputs": [],
   "source": [
    "inflation_data = pd.read_feather(data_path + 'interim\\\\inflation.frt')\n",
    "inflation_data['date'] = inflation_data.date.astype(str)\n",
    "inflation_data['geo'] = 'российская федерация'\n",
    "inflation_data.rename(columns={'date': 'quarter'}, inplace=True)\n",
    "inflation_data_rf = inflation_data.loc[\n",
    "    inflation_data.geo == 'российская федерация'].reset_index(drop=True)"
   ]
  },
  {
   "cell_type": "code",
   "execution_count": 25,
   "metadata": {},
   "outputs": [],
   "source": [
    "ext_ftr_6 = generate_ext_feature(\n",
    "    target_clnt_data,\n",
    "    inflation_data,\n",
    "    inflation_data_rf,\n",
    "    'inflation'\n",
    ")"
   ]
  },
  {
   "cell_type": "code",
   "execution_count": 26,
   "metadata": {},
   "outputs": [],
   "source": [
    "key_merge = ['clnt_id', 'quarter']\n",
    "ext_ftrs = ext_ftr_1\\\n",
    "    .merge(ext_ftr_2, on=key_merge, how='inner')\\\n",
    "    .merge(ext_ftr_3, on=key_merge, how='inner')\\\n",
    "    .merge(ext_ftr_4, on=key_merge, how='inner')\\\n",
    "    .merge(ext_ftr_5, on=key_merge, how='inner')\\\n",
    "    .merge(ext_ftr_6, on=key_merge, how='inner')"
   ]
  },
  {
   "cell_type": "code",
   "execution_count": 32,
   "metadata": {},
   "outputs": [
    {
     "name": "stderr",
     "output_type": "stream",
     "text": [
      "d:\\Programs\\Python\\Python311\\Lib\\site-packages\\pyarrow\\pandas_compat.py:373: FutureWarning: is_sparse is deprecated and will be removed in a future version. Check `isinstance(dtype, pd.SparseDtype)` instead.\n",
      "  if _pandas_api.is_sparse(col):\n"
     ]
    }
   ],
   "source": [
    "# ext_ftrs.to_feather(data_path + 'interim\\\\external_features.frt')"
   ]
  }
 ],
 "metadata": {
  "kernelspec": {
   "display_name": "Python 3",
   "language": "python",
   "name": "python3"
  },
  "language_info": {
   "codemirror_mode": {
    "name": "ipython",
    "version": 3
   },
   "file_extension": ".py",
   "mimetype": "text/x-python",
   "name": "python",
   "nbconvert_exporter": "python",
   "pygments_lexer": "ipython3",
   "version": "3.11.2"
  },
  "orig_nbformat": 4
 },
 "nbformat": 4,
 "nbformat_minor": 2
}
