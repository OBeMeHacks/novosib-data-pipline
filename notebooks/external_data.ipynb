{
 "cells": [
  {
   "cell_type": "code",
   "execution_count": 4,
   "metadata": {},
   "outputs": [],
   "source": [
    "import pandas as pd\n",
    "from pandarallel import pandarallel\n",
    "from typing import defaultdict"
   ]
  },
  {
   "cell_type": "code",
   "execution_count": 9,
   "metadata": {},
   "outputs": [],
   "source": [
    "data_path = '..\\\\data\\\\'"
   ]
  },
  {
   "cell_type": "code",
   "execution_count": 3,
   "metadata": {},
   "outputs": [],
   "source": [
    "clients_cleaned = pd.read_feather(data_path + '\\\\interim\\\\clnts.frt')"
   ]
  },
  {
   "cell_type": "code",
   "execution_count": 16,
   "metadata": {},
   "outputs": [],
   "source": [
    "def columns_report(data: pd.DataFrame) -> None:\n",
    "\n",
    "    print('Rows:', data.shape[0], end='\\n'*2)\n",
    "\n",
    "    stats = defaultdict(list)\n",
    "    for col in data.columns:\n",
    "        stats['Column'].append(col)\n",
    "        stats['Unique'].append(data[col].nunique())\n",
    "        stats['Duplicates'].append(data[col].duplicated().sum())\n",
    "        stats['Missing'].append(data[col].isna().sum())\n",
    "        stats['Missing%'].append(data[col].isna().mean() * 100)\n",
    "        stats['HitRate%'].append((1 - data[col].isna().mean()) * 100)\n",
    "    stats = pd.DataFrame(stats)\n",
    "\n",
    "    print(stats.to_string(index=False))"
   ]
  },
  {
   "cell_type": "markdown",
   "metadata": {},
   "source": [
    "### Соотношение среднедушевых денежных доходов населения с величиной прожиточного минимума (процент)"
   ]
  },
  {
   "cell_type": "code",
   "execution_count": 5,
   "metadata": {},
   "outputs": [
    {
     "name": "stdout",
     "output_type": "stream",
     "text": [
      "(5357, 4)\n"
     ]
    }
   ],
   "source": [
    "avgpercapinc_subsistmin_ratio = pd.read_excel(data_path + 'external\\\\соотношение_среднедушевых_доходов_с_прожиточным_минимумом_по_субъектам.xls',\n",
    "                                              sheet_name='long_fmt')\n",
    "print(avgpercapinc_subsistmin_ratio.shape)"
   ]
  },
  {
   "cell_type": "code",
   "execution_count": 6,
   "metadata": {},
   "outputs": [
    {
     "name": "stdout",
     "output_type": "stream",
     "text": [
      "<class 'pandas.core.frame.DataFrame'>\n",
      "RangeIndex: 5357 entries, 0 to 5356\n",
      "Data columns (total 4 columns):\n",
      " #   Column    Non-Null Count  Dtype  \n",
      "---  ------    --------------  -----  \n",
      " 0   Субъект   5357 non-null   object \n",
      " 1   Год       5357 non-null   int64  \n",
      " 2   Квартал   5357 non-null   object \n",
      " 3   Значение  5357 non-null   float64\n",
      "dtypes: float64(1), int64(1), object(2)\n",
      "memory usage: 167.5+ KB\n"
     ]
    }
   ],
   "source": [
    "avgpercapinc_subsistmin_ratio.info()"
   ]
  },
  {
   "cell_type": "code",
   "execution_count": 7,
   "metadata": {},
   "outputs": [
    {
     "name": "stdout",
     "output_type": "stream",
     "text": [
      "Rows: 5357\n",
      "\n",
      "  Column  Unique  Duplicates  Missing  Missing%  HitRate%\n",
      " Субъект     102        5255        0       0.0     100.0\n",
      "     Год      26        5331        0       0.0     100.0\n",
      " Квартал       4        5353        0       0.0     100.0\n",
      "Значение    2393        2964        0       0.0     100.0\n"
     ]
    }
   ],
   "source": [
    "columns_report(avgpercapinc_subsistmin_ratio)"
   ]
  },
  {
   "cell_type": "code",
   "execution_count": 8,
   "metadata": {},
   "outputs": [],
   "source": [
    "subjects = ['край', 'область', 'республика', 'москва', 'санкт-петербург', 'российская федерация']\n",
    "stop_words = subjects[:3]\n",
    "\n",
    "\n",
    "def rm_stop_words(s: str, stop_words=stop_words):\n",
    "\n",
    "    return ' '.join(w for w in s.split() if w not in stop_words)"
   ]
  },
  {
   "cell_type": "code",
   "execution_count": 9,
   "metadata": {},
   "outputs": [],
   "source": [
    "def prep_fedstat_geo(data: pd.DataFrame, subs_to_maintain: list,\n",
    "                     geo_col: str = 'Субъект') -> pd.DataFrame:\n",
    "\n",
    "    pandarallel.initialize(progress_bar=False, nb_workers=12)\n",
    "\n",
    "    data[geo_col] = data[geo_col]\\\n",
    "        .str.strip()\\\n",
    "        .str.lower()\\\n",
    "        .str.replace(r'\\s*\\(.*\\)', '', regex=True)\\\n",
    "        .str.replace(r' - .*', '', regex=True)\n",
    "    data = data.loc[\n",
    "        data[geo_col].str.contains('|'.join(subs_to_maintain))].reset_index(drop=True)\n",
    "    data[geo_col] = data[geo_col].parallel_apply(\n",
    "        rm_stop_words)\\\n",
    "        .str.strip()\n",
    "\n",
    "    return data"
   ]
  },
  {
   "cell_type": "code",
   "execution_count": 10,
   "metadata": {},
   "outputs": [
    {
     "name": "stdout",
     "output_type": "stream",
     "text": [
      "INFO: Pandarallel will run on 12 workers.\n",
      "INFO: Pandarallel will use standard multiprocessing data transfer (pipe) to transfer data between the main process and workers.\n",
      "\n",
      "WARNING: You are on Windows. If you detect any issue with pandarallel, be sure you checked out the Troubleshooting page:\n",
      "https://nalepae.github.io/pandarallel/troubleshooting/\n"
     ]
    }
   ],
   "source": [
    "avgpercapinc_subsistmin_ratio = prep_fedstat_geo(avgpercapinc_subsistmin_ratio, subjects)\n",
    "\n",
    "clients_cleaned['geo'] = clients_cleaned.geo\\\n",
    "    .str.strip()\\\n",
    "    .str.lower()\\\n",
    "    .str.replace(r'\\s*\\(.*\\)', '', regex=True)\\\n",
    "    .parallel_apply(rm_stop_words)\\\n",
    "    .str.strip()"
   ]
  },
  {
   "cell_type": "code",
   "execution_count": 11,
   "metadata": {},
   "outputs": [],
   "source": [
    "avgpercapinc_subsistmin_ratio['Дата'] = avgpercapinc_subsistmin_ratio.Год.astype(str) + avgpercapinc_subsistmin_ratio.Квартал\n",
    "\n",
    "avgpercapinc_subsistmin_ratio.drop(columns=['Год', 'Квартал'], inplace=True)"
   ]
  },
  {
   "cell_type": "code",
   "execution_count": 12,
   "metadata": {},
   "outputs": [],
   "source": [
    "avgpercapinc_subsistmin_ratio.rename(columns={\n",
    "    'Субъект': 'geo',\n",
    "    'Значение': 'avgpercapinc_subsistmin_ratio',\n",
    "    'Дата': 'date'\n",
    "}, inplace=True)"
   ]
  },
  {
   "cell_type": "code",
   "execution_count": 13,
   "metadata": {},
   "outputs": [
    {
     "data": {
      "text/plain": [
       "{'адыгея',\n",
       " 'алтай',\n",
       " 'алтайский',\n",
       " 'амурская',\n",
       " 'архангельская',\n",
       " 'астраханская',\n",
       " 'башкортостан',\n",
       " 'белгородская',\n",
       " 'брянская',\n",
       " 'бурятия',\n",
       " 'владимирская',\n",
       " 'волгоградская',\n",
       " 'вологодская',\n",
       " 'воронежская',\n",
       " 'дагестан',\n",
       " 'ивановская',\n",
       " 'ингушетия',\n",
       " 'иркутская',\n",
       " 'кабардино-балкарская',\n",
       " 'калининградская',\n",
       " 'калмыкия',\n",
       " 'калужская',\n",
       " 'карачаево-черкесская',\n",
       " 'карелия',\n",
       " 'кемеровская',\n",
       " 'кировская',\n",
       " 'коми',\n",
       " 'костромская',\n",
       " 'краснодарский',\n",
       " 'красноярский',\n",
       " 'курганская',\n",
       " 'курская',\n",
       " 'ленинградская',\n",
       " 'липецкая',\n",
       " 'магаданская',\n",
       " 'марий эл',\n",
       " 'мордовия',\n",
       " 'москва',\n",
       " 'московская',\n",
       " 'мурманская',\n",
       " 'нижегородская',\n",
       " 'новгородская',\n",
       " 'новосибирская',\n",
       " 'омская',\n",
       " 'оренбургская',\n",
       " 'орловская',\n",
       " 'пензенская',\n",
       " 'пермский',\n",
       " 'приморский',\n",
       " 'псковская',\n",
       " 'ростовская',\n",
       " 'рязанская',\n",
       " 'самарская',\n",
       " 'санкт-петербург',\n",
       " 'саратовская',\n",
       " 'саха',\n",
       " 'сахалинская',\n",
       " 'свердловская',\n",
       " 'северная осетия-алания',\n",
       " 'смоленская',\n",
       " 'ставропольский',\n",
       " 'тамбовская',\n",
       " 'татарстан',\n",
       " 'тверская',\n",
       " 'томская',\n",
       " 'тульская',\n",
       " 'тыва',\n",
       " 'тюменская',\n",
       " 'удмуртская',\n",
       " 'ульяновская',\n",
       " 'хабаровский',\n",
       " 'хакасия',\n",
       " 'челябинская',\n",
       " 'чеченская',\n",
       " 'чувашская',\n",
       " 'ярославская'}"
      ]
     },
     "execution_count": 13,
     "metadata": {},
     "output_type": "execute_result"
    }
   ],
   "source": [
    "set(avgpercapinc_subsistmin_ratio.geo.unique()).intersection(\n",
    "    set(clients_cleaned.geo.unique())\n",
    ")"
   ]
  },
  {
   "cell_type": "code",
   "execution_count": 15,
   "metadata": {},
   "outputs": [
    {
     "name": "stderr",
     "output_type": "stream",
     "text": [
      "d:\\Programs\\Python\\Python311\\Lib\\site-packages\\pyarrow\\pandas_compat.py:373: FutureWarning: is_sparse is deprecated and will be removed in a future version. Check `isinstance(dtype, pd.SparseDtype)` instead.\n",
      "  if _pandas_api.is_sparse(col):\n"
     ]
    }
   ],
   "source": [
    "# avgpercapinc_subsistmin_ratio.to_feather(data_path + 'interim\\\\avgpercapinc_subsistmin_ratio.frt')"
   ]
  },
  {
   "cell_type": "markdown",
   "metadata": {},
   "source": [
    "### Ожидаемая продолжительность жизни при рождении"
   ]
  },
  {
   "cell_type": "code",
   "execution_count": 33,
   "metadata": {},
   "outputs": [
    {
     "name": "stdout",
     "output_type": "stream",
     "text": [
      "(3106, 3)\n"
     ]
    }
   ],
   "source": [
    "lifeexp_at_birth = pd.read_excel(data_path + 'external\\\\ожидаемая_продолжительность_жизни_при_рождении.xls',\n",
    "                                 sheet_name='long_fmt')\n",
    "print(lifeexp_at_birth.shape)"
   ]
  },
  {
   "cell_type": "code",
   "execution_count": 34,
   "metadata": {},
   "outputs": [
    {
     "name": "stdout",
     "output_type": "stream",
     "text": [
      "<class 'pandas.core.frame.DataFrame'>\n",
      "RangeIndex: 3106 entries, 0 to 3105\n",
      "Data columns (total 3 columns):\n",
      " #   Column    Non-Null Count  Dtype  \n",
      "---  ------    --------------  -----  \n",
      " 0   Субъект   3106 non-null   object \n",
      " 1   Год       3106 non-null   int64  \n",
      " 2   Значение  3106 non-null   float64\n",
      "dtypes: float64(1), int64(1), object(1)\n",
      "memory usage: 72.9+ KB\n"
     ]
    }
   ],
   "source": [
    "lifeexp_at_birth.info()"
   ]
  },
  {
   "cell_type": "code",
   "execution_count": 35,
   "metadata": {},
   "outputs": [
    {
     "name": "stdout",
     "output_type": "stream",
     "text": [
      "Rows: 3106\n",
      "\n",
      "  Column  Unique  Duplicates  Missing  Missing%  HitRate%\n",
      " Субъект     106        3000        0       0.0     100.0\n",
      "     Год      33        3073        0       0.0     100.0\n",
      "Значение     777        2329        0       0.0     100.0\n"
     ]
    }
   ],
   "source": [
    "columns_report(lifeexp_at_birth)"
   ]
  },
  {
   "cell_type": "code",
   "execution_count": 36,
   "metadata": {},
   "outputs": [
    {
     "name": "stdout",
     "output_type": "stream",
     "text": [
      "INFO: Pandarallel will run on 12 workers.\n",
      "INFO: Pandarallel will use standard multiprocessing data transfer (pipe) to transfer data between the main process and workers.\n",
      "\n",
      "WARNING: You are on Windows. If you detect any issue with pandarallel, be sure you checked out the Troubleshooting page:\n",
      "https://nalepae.github.io/pandarallel/troubleshooting/\n"
     ]
    }
   ],
   "source": [
    "lifeexp_at_birth = prep_fedstat_geo(lifeexp_at_birth, subjects)"
   ]
  },
  {
   "cell_type": "code",
   "execution_count": 37,
   "metadata": {},
   "outputs": [],
   "source": [
    "lifeexp_at_birth.rename(columns={\n",
    "    'Субъект': 'geo',\n",
    "    'Значение': 'lifeexp_at_birth',\n",
    "    'Год': 'year'\n",
    "}, inplace=True)"
   ]
  },
  {
   "cell_type": "code",
   "execution_count": 38,
   "metadata": {},
   "outputs": [
    {
     "name": "stderr",
     "output_type": "stream",
     "text": [
      "d:\\Programs\\Python\\Python311\\Lib\\site-packages\\pyarrow\\pandas_compat.py:373: FutureWarning: is_sparse is deprecated and will be removed in a future version. Check `isinstance(dtype, pd.SparseDtype)` instead.\n",
      "  if _pandas_api.is_sparse(col):\n"
     ]
    }
   ],
   "source": [
    "# lifeexp_at_birth.to_feather(data_path + 'interim\\\\lifeexp_at_birth.frt')"
   ]
  },
  {
   "cell_type": "markdown",
   "metadata": {},
   "source": [
    "### Возрастной коэффициент смертности (промилле (0,1 процента))"
   ]
  },
  {
   "cell_type": "code",
   "execution_count": 39,
   "metadata": {},
   "outputs": [
    {
     "name": "stdout",
     "output_type": "stream",
     "text": [
      "(1169, 3)\n"
     ]
    }
   ],
   "source": [
    "agespec_death_rate = pd.read_excel(data_path + 'external\\\\возрастные_коэффициенты_смертности.xls',\n",
    "                                   sheet_name='long_fmt')\n",
    "print(agespec_death_rate.shape)"
   ]
  },
  {
   "cell_type": "code",
   "execution_count": 40,
   "metadata": {},
   "outputs": [
    {
     "name": "stdout",
     "output_type": "stream",
     "text": [
      "<class 'pandas.core.frame.DataFrame'>\n",
      "RangeIndex: 1169 entries, 0 to 1168\n",
      "Data columns (total 3 columns):\n",
      " #   Column                              Non-Null Count  Dtype  \n",
      "---  ------                              --------------  -----  \n",
      " 0   Год                                 1169 non-null   int64  \n",
      " 1   Субъект                             1169 non-null   object \n",
      " 2   Возрастные коэффициенты смертности  1169 non-null   float64\n",
      "dtypes: float64(1), int64(1), object(1)\n",
      "memory usage: 27.5+ KB\n"
     ]
    }
   ],
   "source": [
    "agespec_death_rate.info()"
   ]
  },
  {
   "cell_type": "code",
   "execution_count": 41,
   "metadata": {},
   "outputs": [
    {
     "name": "stdout",
     "output_type": "stream",
     "text": [
      "Rows: 1169\n",
      "\n",
      "                            Column  Unique  Duplicates  Missing  Missing%  HitRate%\n",
      "                               Год      33        1136        0       0.0     100.0\n",
      "                           Субъект      98        1071        0       0.0     100.0\n",
      "Возрастные коэффициенты смертности     194         975        0       0.0     100.0\n"
     ]
    }
   ],
   "source": [
    "columns_report(agespec_death_rate)"
   ]
  },
  {
   "cell_type": "code",
   "execution_count": 42,
   "metadata": {},
   "outputs": [
    {
     "name": "stdout",
     "output_type": "stream",
     "text": [
      "INFO: Pandarallel will run on 12 workers.\n",
      "INFO: Pandarallel will use standard multiprocessing data transfer (pipe) to transfer data between the main process and workers.\n",
      "\n",
      "WARNING: You are on Windows. If you detect any issue with pandarallel, be sure you checked out the Troubleshooting page:\n",
      "https://nalepae.github.io/pandarallel/troubleshooting/\n"
     ]
    }
   ],
   "source": [
    "agespec_death_rate = prep_fedstat_geo(agespec_death_rate, subjects)"
   ]
  },
  {
   "cell_type": "code",
   "execution_count": 43,
   "metadata": {},
   "outputs": [],
   "source": [
    "agespec_death_rate.rename(columns={\n",
    "    'Субъект': 'geo',\n",
    "    'Возрастные коэффициенты смертности': 'agespec_death_rate',\n",
    "    'Год': 'year'\n",
    "}, inplace=True)"
   ]
  },
  {
   "cell_type": "code",
   "execution_count": 44,
   "metadata": {},
   "outputs": [
    {
     "name": "stderr",
     "output_type": "stream",
     "text": [
      "d:\\Programs\\Python\\Python311\\Lib\\site-packages\\pyarrow\\pandas_compat.py:373: FutureWarning: is_sparse is deprecated and will be removed in a future version. Check `isinstance(dtype, pd.SparseDtype)` instead.\n",
      "  if _pandas_api.is_sparse(col):\n"
     ]
    }
   ],
   "source": [
    "# agespec_death_rate.to_feather(data_path + 'interim\\\\agespec_death_rate.frt')"
   ]
  },
  {
   "cell_type": "markdown",
   "metadata": {},
   "source": [
    "### Число умерших за год (человек, значение показателя за год)"
   ]
  },
  {
   "cell_type": "code",
   "execution_count": 46,
   "metadata": {},
   "outputs": [
    {
     "name": "stdout",
     "output_type": "stream",
     "text": [
      "(3321, 3)\n"
     ]
    }
   ],
   "source": [
    "deaths_per_year = pd.read_excel(data_path + 'external\\\\число_умерших_за_год.xls',\n",
    "                                sheet_name='long_fmt')\n",
    "print(deaths_per_year.shape)"
   ]
  },
  {
   "cell_type": "code",
   "execution_count": 47,
   "metadata": {},
   "outputs": [
    {
     "name": "stdout",
     "output_type": "stream",
     "text": [
      "<class 'pandas.core.frame.DataFrame'>\n",
      "RangeIndex: 3321 entries, 0 to 3320\n",
      "Data columns (total 3 columns):\n",
      " #   Column    Non-Null Count  Dtype \n",
      "---  ------    --------------  ----- \n",
      " 0   Субъект   3321 non-null   object\n",
      " 1   Год       3321 non-null   int64 \n",
      " 2   Значение  3321 non-null   int64 \n",
      "dtypes: int64(2), object(1)\n",
      "memory usage: 78.0+ KB\n"
     ]
    }
   ],
   "source": [
    "deaths_per_year.info()"
   ]
  },
  {
   "cell_type": "code",
   "execution_count": 48,
   "metadata": {},
   "outputs": [
    {
     "name": "stdout",
     "output_type": "stream",
     "text": [
      "Rows: 3321\n",
      "\n",
      "  Column  Unique  Duplicates  Missing  Missing%  HitRate%\n",
      " Субъект     117        3204        0       0.0     100.0\n",
      "     Год      33        3288        0       0.0     100.0\n",
      "Значение    3186         135        0       0.0     100.0\n"
     ]
    }
   ],
   "source": [
    "columns_report(deaths_per_year)"
   ]
  },
  {
   "cell_type": "code",
   "execution_count": 49,
   "metadata": {},
   "outputs": [
    {
     "name": "stdout",
     "output_type": "stream",
     "text": [
      "INFO: Pandarallel will run on 12 workers.\n",
      "INFO: Pandarallel will use standard multiprocessing data transfer (pipe) to transfer data between the main process and workers.\n",
      "\n",
      "WARNING: You are on Windows. If you detect any issue with pandarallel, be sure you checked out the Troubleshooting page:\n",
      "https://nalepae.github.io/pandarallel/troubleshooting/\n"
     ]
    }
   ],
   "source": [
    "deaths_per_year = prep_fedstat_geo(deaths_per_year, subjects)"
   ]
  },
  {
   "cell_type": "code",
   "execution_count": 50,
   "metadata": {},
   "outputs": [],
   "source": [
    "deaths_per_year.rename(columns={\n",
    "    'Субъект': 'geo',\n",
    "    'Значение': 'deaths_per_year',\n",
    "    'Год': 'year'\n",
    "}, inplace=True)"
   ]
  },
  {
   "cell_type": "code",
   "execution_count": 52,
   "metadata": {},
   "outputs": [
    {
     "name": "stderr",
     "output_type": "stream",
     "text": [
      "d:\\Programs\\Python\\Python311\\Lib\\site-packages\\pyarrow\\pandas_compat.py:373: FutureWarning: is_sparse is deprecated and will be removed in a future version. Check `isinstance(dtype, pd.SparseDtype)` instead.\n",
      "  if _pandas_api.is_sparse(col):\n"
     ]
    }
   ],
   "source": [
    "# deaths_per_year.to_feather(data_path + 'interim\\\\deaths_per_year.frt')"
   ]
  },
  {
   "cell_type": "markdown",
   "metadata": {},
   "source": [
    "### Индекс потребительских цен на товары и услуги к концу предыдущего месяца"
   ]
  },
  {
   "cell_type": "code",
   "execution_count": 116,
   "metadata": {},
   "outputs": [
    {
     "name": "stdout",
     "output_type": "stream",
     "text": [
      "(377, 3)\n"
     ]
    }
   ],
   "source": [
    "cpi_data = pd.read_excel(data_path + 'external\\\\ипц.xlsx',\n",
    "                         sheet_name='long_fmt')\n",
    "print(cpi_data.shape)"
   ]
  },
  {
   "cell_type": "code",
   "execution_count": 117,
   "metadata": {},
   "outputs": [
    {
     "name": "stdout",
     "output_type": "stream",
     "text": [
      "<class 'pandas.core.frame.DataFrame'>\n",
      "RangeIndex: 377 entries, 0 to 376\n",
      "Data columns (total 3 columns):\n",
      " #   Column  Non-Null Count  Dtype  \n",
      "---  ------  --------------  -----  \n",
      " 0   Месяц   377 non-null    int64  \n",
      " 1   Год     377 non-null    int64  \n",
      " 2   ИПЦ     377 non-null    float64\n",
      "dtypes: float64(1), int64(2)\n",
      "memory usage: 9.0 KB\n"
     ]
    }
   ],
   "source": [
    "cpi_data.info()"
   ]
  },
  {
   "cell_type": "code",
   "execution_count": 118,
   "metadata": {},
   "outputs": [
    {
     "name": "stdout",
     "output_type": "stream",
     "text": [
      "Rows: 377\n",
      "\n",
      "Column  Unique  Duplicates  Missing  Missing%  HitRate%\n",
      " Месяц      12         365        0       0.0     100.0\n",
      "   Год      32         345        0       0.0     100.0\n",
      "   ИПЦ     228         149        0       0.0     100.0\n"
     ]
    }
   ],
   "source": [
    "columns_report(cpi_data)"
   ]
  },
  {
   "cell_type": "code",
   "execution_count": 119,
   "metadata": {},
   "outputs": [],
   "source": [
    "cpi_data.rename(columns={\n",
    "    'Месяц': 'month',\n",
    "    'ИПЦ': 'cpi',\n",
    "    'Год': 'year'\n",
    "}, inplace=True)"
   ]
  },
  {
   "cell_type": "code",
   "execution_count": 120,
   "metadata": {},
   "outputs": [],
   "source": [
    "cpi_data['date'] = (pd.to_datetime(cpi_data.year.astype(str) + '.' + cpi_data.month.astype(str) + '.' + '01') +\\\n",
    "    pd.tseries.offsets.MonthEnd(0)).dt.to_period('Q')\n",
    "cpi_data = cpi_data.groupby('date', as_index=False).cpi.mean()\n",
    "cpi_data.reset_index(drop=True, inplace=True)"
   ]
  },
  {
   "cell_type": "code",
   "execution_count": 122,
   "metadata": {},
   "outputs": [
    {
     "name": "stderr",
     "output_type": "stream",
     "text": [
      "d:\\Programs\\Python\\Python311\\Lib\\site-packages\\pyarrow\\pandas_compat.py:373: FutureWarning: is_sparse is deprecated and will be removed in a future version. Check `isinstance(dtype, pd.SparseDtype)` instead.\n",
      "  if _pandas_api.is_sparse(col):\n"
     ]
    }
   ],
   "source": [
    "# cpi_data.to_feather(data_path + 'interim\\\\cpi.frt')"
   ]
  },
  {
   "cell_type": "markdown",
   "metadata": {},
   "source": [
    "### Инфляция по месяцам в годовом исчислении"
   ]
  },
  {
   "cell_type": "code",
   "execution_count": 12,
   "metadata": {},
   "outputs": [],
   "source": [
    "# парсинг данных об инфляции\n",
    "# inflation_data = pd.read_html(\n",
    "#     'https://xn----ctbjnaatncev9av3a8f8b.xn--p1ai/%D1%82%D0%B0%D0%B1%D0%BB%D0%B8%D1%86%D1%8B-%D0%B8%D0%BD%D1%84%D0%BB%D1%8F%D1%86%D0%B8%D0%B8')[0]\n",
    "# inflation_data.to_excel(data_path + 'external\\\\инфляция.xlsx', index=False)"
   ]
  },
  {
   "cell_type": "code",
   "execution_count": 13,
   "metadata": {},
   "outputs": [
    {
     "name": "stdout",
     "output_type": "stream",
     "text": [
      "(381, 3)\n"
     ]
    }
   ],
   "source": [
    "inflation_data = pd.read_excel(data_path + 'external\\\\инфляция.xlsx',\n",
    "                               sheet_name='long_fmt')\n",
    "print(inflation_data.shape)"
   ]
  },
  {
   "cell_type": "code",
   "execution_count": 14,
   "metadata": {},
   "outputs": [
    {
     "name": "stdout",
     "output_type": "stream",
     "text": [
      "<class 'pandas.core.frame.DataFrame'>\n",
      "RangeIndex: 381 entries, 0 to 380\n",
      "Data columns (total 3 columns):\n",
      " #   Column    Non-Null Count  Dtype  \n",
      "---  ------    --------------  -----  \n",
      " 0   Год       381 non-null    int64  \n",
      " 1   Месяц     381 non-null    int64  \n",
      " 2   Инфляция  381 non-null    float64\n",
      "dtypes: float64(1), int64(2)\n",
      "memory usage: 9.1 KB\n"
     ]
    }
   ],
   "source": [
    "inflation_data.info()"
   ]
  },
  {
   "cell_type": "code",
   "execution_count": 17,
   "metadata": {},
   "outputs": [
    {
     "name": "stdout",
     "output_type": "stream",
     "text": [
      "Rows: 381\n",
      "\n",
      "  Column  Unique  Duplicates  Missing  Missing%  HitRate%\n",
      "     Год      33         348        0       0.0     100.0\n",
      "   Месяц      12         369        0       0.0     100.0\n",
      "Инфляция     350          31        0       0.0     100.0\n"
     ]
    }
   ],
   "source": [
    "columns_report(inflation_data)"
   ]
  },
  {
   "cell_type": "code",
   "execution_count": 18,
   "metadata": {},
   "outputs": [],
   "source": [
    "inflation_data.rename(columns={\n",
    "    'Месяц': 'month',\n",
    "    'Инфляция': 'inflation',\n",
    "    'Год': 'year'\n",
    "}, inplace=True)"
   ]
  },
  {
   "cell_type": "code",
   "execution_count": 19,
   "metadata": {},
   "outputs": [],
   "source": [
    "inflation_data['date'] = (pd.to_datetime(inflation_data.year.astype(str) + '.' + inflation_data.month.astype(str) + '.' + '01') +\\\n",
    "    pd.tseries.offsets.MonthEnd(0)).dt.to_period('Q')\n",
    "inflation_data = inflation_data.groupby('date', as_index=False).inflation.mean()\n",
    "inflation_data.reset_index(drop=True, inplace=True)"
   ]
  },
  {
   "cell_type": "code",
   "execution_count": 21,
   "metadata": {},
   "outputs": [
    {
     "name": "stderr",
     "output_type": "stream",
     "text": [
      "d:\\Programs\\Python\\Python311\\Lib\\site-packages\\pyarrow\\pandas_compat.py:373: FutureWarning: is_sparse is deprecated and will be removed in a future version. Check `isinstance(dtype, pd.SparseDtype)` instead.\n",
      "  if _pandas_api.is_sparse(col):\n"
     ]
    }
   ],
   "source": [
    "# inflation_data.to_feather(data_path + 'interim\\\\inflation.frt')"
   ]
  }
 ],
 "metadata": {
  "kernelspec": {
   "display_name": "Python 3",
   "language": "python",
   "name": "python3"
  },
  "language_info": {
   "codemirror_mode": {
    "name": "ipython",
    "version": 3
   },
   "file_extension": ".py",
   "mimetype": "text/x-python",
   "name": "python",
   "nbconvert_exporter": "python",
   "pygments_lexer": "ipython3",
   "version": "3.11.2"
  },
  "orig_nbformat": 4
 },
 "nbformat": 4,
 "nbformat_minor": 2
}
