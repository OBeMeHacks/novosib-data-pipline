{
 "cells": [
  {
   "cell_type": "code",
   "execution_count": 1,
   "metadata": {},
   "outputs": [],
   "source": [
    "import pandas as pd\n",
    "from pandarallel import pandarallel\n",
    "from typing import defaultdict"
   ]
  },
  {
   "cell_type": "code",
   "execution_count": 2,
   "metadata": {},
   "outputs": [],
   "source": [
    "data_path = '..\\\\data\\\\'"
   ]
  },
  {
   "cell_type": "code",
   "execution_count": 3,
   "metadata": {},
   "outputs": [],
   "source": [
    "clients_cleaned = pd.read_feather(data_path + '\\\\interim\\\\clnts.frt')"
   ]
  },
  {
   "cell_type": "code",
   "execution_count": 4,
   "metadata": {},
   "outputs": [],
   "source": [
    "def columns_report(data: pd.DataFrame) -> None:\n",
    "\n",
    "    print('Rows:', data.shape[0], end='\\n'*2)\n",
    "\n",
    "    stats = defaultdict(list)\n",
    "    for col in data.columns:\n",
    "        stats['Column'].append(col)\n",
    "        stats['Unique'].append(data[col].nunique())\n",
    "        stats['Duplicates'].append(data[col].duplicated().sum())\n",
    "        stats['Missing'].append(data[col].isna().sum())\n",
    "        stats['Missing%'].append(data[col].isna().mean() * 100)\n",
    "        stats['HitRate%'].append((1 - data[col].isna().mean()) * 100)\n",
    "    stats = pd.DataFrame(stats)\n",
    "\n",
    "    print(stats.to_string(index=False))"
   ]
  },
  {
   "cell_type": "markdown",
   "metadata": {},
   "source": [
    "### Соотношение среднедушевых денежных доходов населения с величиной прожиточного минимума (процент)"
   ]
  },
  {
   "cell_type": "code",
   "execution_count": 5,
   "metadata": {},
   "outputs": [
    {
     "name": "stdout",
     "output_type": "stream",
     "text": [
      "(5357, 4)\n"
     ]
    }
   ],
   "source": [
    "avgpercapinc_subsistmin_ratio = pd.read_excel(data_path + 'external\\\\соотношение_среднедушевых_доходов_с_прожиточным_минимумом_по_субъектам.xls',\n",
    "                                              sheet_name='long_fmt')\n",
    "print(avgpercapinc_subsistmin_ratio.shape)"
   ]
  },
  {
   "cell_type": "code",
   "execution_count": 6,
   "metadata": {},
   "outputs": [
    {
     "name": "stdout",
     "output_type": "stream",
     "text": [
      "<class 'pandas.core.frame.DataFrame'>\n",
      "RangeIndex: 5357 entries, 0 to 5356\n",
      "Data columns (total 4 columns):\n",
      " #   Column    Non-Null Count  Dtype  \n",
      "---  ------    --------------  -----  \n",
      " 0   Субъект   5357 non-null   object \n",
      " 1   Год       5357 non-null   int64  \n",
      " 2   Квартал   5357 non-null   object \n",
      " 3   Значение  5357 non-null   float64\n",
      "dtypes: float64(1), int64(1), object(2)\n",
      "memory usage: 167.5+ KB\n"
     ]
    }
   ],
   "source": [
    "avgpercapinc_subsistmin_ratio.info()"
   ]
  },
  {
   "cell_type": "code",
   "execution_count": 7,
   "metadata": {},
   "outputs": [
    {
     "name": "stdout",
     "output_type": "stream",
     "text": [
      "Rows: 5357\n",
      "\n",
      "  Column  Unique  Duplicates  Missing  Missing%  HitRate%\n",
      " Субъект     102        5255        0       0.0     100.0\n",
      "     Год      26        5331        0       0.0     100.0\n",
      " Квартал       4        5353        0       0.0     100.0\n",
      "Значение    2393        2964        0       0.0     100.0\n"
     ]
    }
   ],
   "source": [
    "columns_report(avgpercapinc_subsistmin_ratio)"
   ]
  },
  {
   "cell_type": "code",
   "execution_count": 8,
   "metadata": {},
   "outputs": [],
   "source": [
    "subjects = ['край', 'область', 'республика', 'москва', 'санкт-петербург', 'российская федерация']\n",
    "stop_words = subjects[:3]\n",
    "\n",
    "\n",
    "def rm_stop_words(s: str, stop_words=stop_words):\n",
    "\n",
    "    return ' '.join(w for w in s.split() if w not in stop_words)"
   ]
  },
  {
   "cell_type": "code",
   "execution_count": 9,
   "metadata": {},
   "outputs": [
    {
     "name": "stdout",
     "output_type": "stream",
     "text": [
      "INFO: Pandarallel will run on 12 workers.\n",
      "INFO: Pandarallel will use standard multiprocessing data transfer (pipe) to transfer data between the main process and workers.\n",
      "\n",
      "WARNING: You are on Windows. If you detect any issue with pandarallel, be sure you checked out the Troubleshooting page:\n",
      "https://nalepae.github.io/pandarallel/troubleshooting/\n"
     ]
    }
   ],
   "source": [
    "pandarallel.initialize(progress_bar=False, nb_workers=12)"
   ]
  },
  {
   "cell_type": "code",
   "execution_count": 10,
   "metadata": {},
   "outputs": [],
   "source": [
    "avgpercapinc_subsistmin_ratio['Субъект'] = avgpercapinc_subsistmin_ratio.Субъект\\\n",
    "    .str.strip()\\\n",
    "    .str.lower()\\\n",
    "    .str.replace(r'\\s*\\(.*\\)', '', regex=True)\\\n",
    "    .str.replace(r' - .*', '', regex=True)\n",
    "avgpercapinc_subsistmin_ratio = avgpercapinc_subsistmin_ratio.loc[\n",
    "    avgpercapinc_subsistmin_ratio.Субъект.str.contains('|'.join(subjects))].reset_index(drop=True)\n",
    "avgpercapinc_subsistmin_ratio['Субъект'] = avgpercapinc_subsistmin_ratio.Субъект.parallel_apply(\n",
    "    rm_stop_words)\\\n",
    "    .str.strip()\n",
    "\n",
    "clients_cleaned['geo'] = clients_cleaned.geo\\\n",
    "    .str.strip()\\\n",
    "    .str.lower()\\\n",
    "    .str.replace(r'\\s*\\(.*\\)', '', regex=True)\\\n",
    "    .parallel_apply(rm_stop_words)\\\n",
    "    .str.strip()"
   ]
  },
  {
   "cell_type": "code",
   "execution_count": 11,
   "metadata": {},
   "outputs": [
    {
     "data": {
      "text/plain": [
       "array(['российская федерация', 'белгородская', 'брянская', 'владимирская',\n",
       "       'воронежская', 'ивановская', 'калужская', 'костромская', 'курская',\n",
       "       'липецкая', 'московская', 'орловская', 'рязанская', 'смоленская',\n",
       "       'тамбовская', 'тверская', 'тульская', 'ярославская', 'москва',\n",
       "       'карелия', 'коми', 'архангельская', 'вологодская',\n",
       "       'калининградская', 'ленинградская', 'мурманская', 'новгородская',\n",
       "       'псковская', 'санкт-петербург', 'адыгея', 'калмыкия', 'крым',\n",
       "       'краснодарский', 'астраханская', 'волгоградская', 'ростовская',\n",
       "       'дагестан', 'ингушетия', 'кабардино-балкарская',\n",
       "       'карачаево-черкесская', 'северная осетия-алания', 'чеченская',\n",
       "       'ставропольский', 'башкортостан', 'марий эл', 'мордовия',\n",
       "       'татарстан', 'удмуртская', 'чувашская', 'пермский', 'кировская',\n",
       "       'нижегородская', 'оренбургская', 'пензенская', 'самарская',\n",
       "       'саратовская', 'ульяновская', 'курганская', 'свердловская',\n",
       "       'тюменская', 'челябинская', 'алтай', 'тыва', 'хакасия',\n",
       "       'алтайский', 'красноярский', 'иркутская', 'кемеровская',\n",
       "       'новосибирская', 'омская', 'томская', 'бурятия', 'забайкальский',\n",
       "       'саха', 'камчатский', 'приморский', 'хабаровский', 'амурская',\n",
       "       'магаданская', 'сахалинская', 'еврейская автономная'], dtype=object)"
      ]
     },
     "execution_count": 11,
     "metadata": {},
     "output_type": "execute_result"
    }
   ],
   "source": [
    "avgpercapinc_subsistmin_ratio.Субъект.unique()"
   ]
  },
  {
   "cell_type": "code",
   "execution_count": 12,
   "metadata": {},
   "outputs": [
    {
     "data": {
      "text/plain": [
       "array(['ленинградская', 'липецкая', 'вологодская', 'новгородская',\n",
       "       'санкт-петербург', 'тюменская', 'свердловская', 'ставропольский',\n",
       "       'нижегородская', 'оренбургская', 'курская', 'московская',\n",
       "       'карелия', 'архангельская', 'самарская', 'рязанская', 'москва',\n",
       "       'орловская', 'белгородская', 'калининградская', 'дагестан',\n",
       "       'ростовская', 'волгоградская', 'башкортостан', 'хабаровский',\n",
       "       'коми', 'адыгея', 'краснодарский', 'томская', 'удмуртская',\n",
       "       'красноярский', 'алтайский', 'пермский', 'иркутская',\n",
       "       'владимирская', 'смоленская', 'челябинская', 'новосибирская',\n",
       "       'саратовская', 'воронежская', 'татарстан', 'чеченская',\n",
       "       'пензенская', 'ульяновская', 'тамбовская', 'псковская',\n",
       "       'сахалинская', 'брянская', 'мурманская', 'хакасия', 'ярославская',\n",
       "       'приморский', 'курганская', 'кировская', 'мордовия', 'омская',\n",
       "       'ивановская', 'астраханская', 'тульская', 'бурятия', 'чувашская',\n",
       "       'кемеровская', 'калужская', 'амурская', 'костромская',\n",
       "       'камчатская', 'кабардино-балкарская', 'читинская',\n",
       "       'карачаево-черкесская', 'калмыкия', 'тверская',\n",
       "       'северная осетия-алания', 'алтай', 'марий эл', 'тыва', 'саха',\n",
       "       'магаданская', 'ингушетия'], dtype=object)"
      ]
     },
     "execution_count": 12,
     "metadata": {},
     "output_type": "execute_result"
    }
   ],
   "source": [
    "clients_cleaned.geo.unique()"
   ]
  }
 ],
 "metadata": {
  "kernelspec": {
   "display_name": "Python 3",
   "language": "python",
   "name": "python3"
  },
  "language_info": {
   "codemirror_mode": {
    "name": "ipython",
    "version": 3
   },
   "file_extension": ".py",
   "mimetype": "text/x-python",
   "name": "python",
   "nbconvert_exporter": "python",
   "pygments_lexer": "ipython3",
   "version": "3.11.2"
  },
  "orig_nbformat": 4
 },
 "nbformat": 4,
 "nbformat_minor": 2
}
