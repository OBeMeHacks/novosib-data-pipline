{
 "cells": [
  {
   "cell_type": "code",
   "execution_count": 38,
   "metadata": {},
   "outputs": [],
   "source": [
    "import pandas as pd\n",
    "import optuna\n",
    "import warnings\n",
    "import numpy as np\n",
    "warnings.filterwarnings('ignore')\n",
    "from sklearn.model_selection import train_test_split, KFold, cross_val_score\n",
    "from sklearn.metrics import mean_absolute_error, r2_score\n",
    "from lightgbm import LGBMRegressor"
   ]
  },
  {
   "cell_type": "code",
   "execution_count": 29,
   "metadata": {},
   "outputs": [],
   "source": [
    "data_path = '..\\\\repo\\\\novosib-data-pipline\\\\data\\\\'"
   ]
  },
  {
   "cell_type": "code",
   "execution_count": 30,
   "metadata": {},
   "outputs": [],
   "source": [
    "full_base = pd.read_feather(data_path + 'interim\\\\full_base.frt')\n",
    "\n",
    "train_data = full_base.iloc[:, 4:]\n",
    "inc_target = full_base.paid_avg_correct\n",
    "cnt_target = full_base.transactions_count"
   ]
  },
  {
   "cell_type": "code",
   "execution_count": 14,
   "metadata": {},
   "outputs": [],
   "source": [
    "def gb_avg_inc(trial, X=train_data, y=inc_target):\n",
    "\n",
    "    gb_params = {\n",
    "        'max_depth': trial.suggest_int('max_depth', 5, 12, step=1),\n",
    "        'n_estimators': trial.suggest_int('n_estimators', 80, 180, step=5),\n",
    "        'min_child_samples': trial.suggest_int('min_child_samples', 20, 100, step=5),\n",
    "        'subsample': trial.suggest_float('subsample', .8, 1, step=.05),\n",
    "        'reg_alpha': trial.suggest_float('reg_alpha', 0, 30, step=.5)\n",
    "    }\n",
    "\n",
    "    gb_reg = LGBMRegressor(\n",
    "        objective='regression',\n",
    "        learning_rate=.3,\n",
    "        n_jobs=12,\n",
    "        importance_type='gain',\n",
    "        random_state=7,\n",
    "        **gb_params)\n",
    "\n",
    "    score = np.mean(cross_val_score(gb_reg, X, y, scoring='r2', cv=KFold(n_splits=5, shuffle=True)))\n",
    "    \n",
    "    return score\n",
    "\n",
    "\n",
    "def callback(study, trial):\n",
    "    if trial.value > .9:\n",
    "        study.stop()"
   ]
  },
  {
   "cell_type": "code",
   "execution_count": 15,
   "metadata": {},
   "outputs": [
    {
     "name": "stderr",
     "output_type": "stream",
     "text": [
      "[I 2023-10-01 03:08:37,504] A new study created in memory with name: LightGBM\n"
     ]
    }
   ],
   "source": [
    "study_gbm = optuna.create_study(direction='maximize', study_name='LightGBM')"
   ]
  },
  {
   "cell_type": "code",
   "execution_count": 16,
   "metadata": {},
   "outputs": [
    {
     "name": "stderr",
     "output_type": "stream",
     "text": [
      "[I 2023-10-01 03:11:25,796] Trial 14 finished with value: 0.37873760412526425 and parameters: {'max_depth': 7, 'n_estimators': 90, 'min_child_samples': 60, 'subsample': 1.0, 'reg_alpha': 12.0}. Best is trial 14 with value: 0.37873760412526425.\n",
      "[I 2023-10-01 03:11:29,577] Trial 11 finished with value: 0.3791868721865742 and parameters: {'max_depth': 11, 'n_estimators': 85, 'min_child_samples': 60, 'subsample': 0.8500000000000001, 'reg_alpha': 21.0}. Best is trial 11 with value: 0.3791868721865742.\n",
      "[I 2023-10-01 03:11:42,204] Trial 3 finished with value: 0.3793906624162566 and parameters: {'max_depth': 9, 'n_estimators': 95, 'min_child_samples': 75, 'subsample': 0.8500000000000001, 'reg_alpha': 5.0}. Best is trial 3 with value: 0.3793906624162566.\n",
      "[I 2023-10-01 03:11:53,726] Trial 7 finished with value: 0.379380292351738 and parameters: {'max_depth': 8, 'n_estimators': 100, 'min_child_samples': 95, 'subsample': 0.9, 'reg_alpha': 19.0}. Best is trial 3 with value: 0.3793906624162566.\n",
      "[I 2023-10-01 03:12:07,672] Trial 15 finished with value: 0.37966233996361254 and parameters: {'max_depth': 7, 'n_estimators': 110, 'min_child_samples': 70, 'subsample': 1.0, 'reg_alpha': 30.0}. Best is trial 15 with value: 0.37966233996361254.\n",
      "[I 2023-10-01 03:12:09,157] Trial 12 finished with value: 0.37937681887727825 and parameters: {'max_depth': 11, 'n_estimators': 100, 'min_child_samples': 95, 'subsample': 0.9500000000000001, 'reg_alpha': 28.0}. Best is trial 15 with value: 0.37966233996361254.\n",
      "[I 2023-10-01 03:12:20,836] Trial 9 finished with value: 0.3800233551050977 and parameters: {'max_depth': 11, 'n_estimators': 110, 'min_child_samples': 75, 'subsample': 0.9, 'reg_alpha': 5.5}. Best is trial 9 with value: 0.3800233551050977.\n",
      "[I 2023-10-01 03:12:26,358] Trial 8 finished with value: 0.3792997963622972 and parameters: {'max_depth': 5, 'n_estimators': 165, 'min_child_samples': 100, 'subsample': 0.9500000000000001, 'reg_alpha': 18.5}. Best is trial 9 with value: 0.3800233551050977.\n",
      "[I 2023-10-01 03:12:38,953] Trial 6 finished with value: 0.38003958462175885 and parameters: {'max_depth': 11, 'n_estimators': 120, 'min_child_samples': 85, 'subsample': 0.9, 'reg_alpha': 6.0}. Best is trial 6 with value: 0.38003958462175885.\n",
      "[I 2023-10-01 03:13:06,826] Trial 4 finished with value: 0.3799682032839621 and parameters: {'max_depth': 5, 'n_estimators': 180, 'min_child_samples': 35, 'subsample': 0.8500000000000001, 'reg_alpha': 8.5}. Best is trial 6 with value: 0.38003958462175885.\n",
      "[I 2023-10-01 03:13:21,682] Trial 1 finished with value: 0.3809436241741733 and parameters: {'max_depth': 12, 'n_estimators': 150, 'min_child_samples': 60, 'subsample': 1.0, 'reg_alpha': 27.5}. Best is trial 1 with value: 0.3809436241741733.\n",
      "[I 2023-10-01 03:13:26,037] Trial 0 finished with value: 0.38089924929981345 and parameters: {'max_depth': 9, 'n_estimators': 155, 'min_child_samples': 55, 'subsample': 0.8500000000000001, 'reg_alpha': 15.5}. Best is trial 1 with value: 0.3809436241741733.\n",
      "[I 2023-10-01 03:13:26,914] Trial 13 finished with value: 0.38090071737701015 and parameters: {'max_depth': 11, 'n_estimators': 150, 'min_child_samples': 55, 'subsample': 1.0, 'reg_alpha': 19.0}. Best is trial 1 with value: 0.3809436241741733.\n",
      "[I 2023-10-01 03:13:32,334] Trial 2 finished with value: 0.38110830318245165 and parameters: {'max_depth': 11, 'n_estimators': 155, 'min_child_samples': 45, 'subsample': 1.0, 'reg_alpha': 23.0}. Best is trial 2 with value: 0.38110830318245165.\n",
      "[I 2023-10-01 03:14:03,697] Trial 5 finished with value: 0.380969798449648 and parameters: {'max_depth': 8, 'n_estimators': 180, 'min_child_samples': 100, 'subsample': 0.8500000000000001, 'reg_alpha': 10.0}. Best is trial 2 with value: 0.38110830318245165.\n",
      "[I 2023-10-01 03:14:07,261] Trial 10 finished with value: 0.38122208057790374 and parameters: {'max_depth': 9, 'n_estimators': 175, 'min_child_samples': 60, 'subsample': 0.9, 'reg_alpha': 18.0}. Best is trial 10 with value: 0.38122208057790374.\n",
      "[I 2023-10-01 03:14:32,677] Trial 17 finished with value: 0.3789699864143632 and parameters: {'max_depth': 7, 'n_estimators': 100, 'min_child_samples': 100, 'subsample': 0.9, 'reg_alpha': 15.0}. Best is trial 10 with value: 0.38122208057790374.\n",
      "[I 2023-10-01 03:14:35,057] Trial 18 finished with value: 0.37901107039182835 and parameters: {'max_depth': 8, 'n_estimators': 95, 'min_child_samples': 90, 'subsample': 0.9500000000000001, 'reg_alpha': 24.5}. Best is trial 10 with value: 0.38122208057790374.\n",
      "[I 2023-10-01 03:14:39,780] Trial 19 finished with value: 0.3789291698463948 and parameters: {'max_depth': 6, 'n_estimators': 100, 'min_child_samples': 35, 'subsample': 0.8500000000000001, 'reg_alpha': 19.5}. Best is trial 10 with value: 0.38122208057790374.\n",
      "[I 2023-10-01 03:15:09,620] Trial 20 finished with value: 0.3793935682769233 and parameters: {'max_depth': 10, 'n_estimators': 95, 'min_child_samples': 90, 'subsample': 0.9, 'reg_alpha': 17.5}. Best is trial 10 with value: 0.38122208057790374.\n",
      "[I 2023-10-01 03:15:15,404] Trial 16 finished with value: 0.380568949124591 and parameters: {'max_depth': 9, 'n_estimators': 125, 'min_child_samples': 55, 'subsample': 0.9, 'reg_alpha': 1.0}. Best is trial 10 with value: 0.38122208057790374.\n",
      "[I 2023-10-01 03:15:30,394] Trial 24 finished with value: 0.37921586546367897 and parameters: {'max_depth': 9, 'n_estimators': 95, 'min_child_samples': 85, 'subsample': 1.0, 'reg_alpha': 16.0}. Best is trial 10 with value: 0.38122208057790374.\n",
      "[I 2023-10-01 03:15:31,893] Trial 23 finished with value: 0.3800198230870236 and parameters: {'max_depth': 8, 'n_estimators': 110, 'min_child_samples': 35, 'subsample': 0.8500000000000001, 'reg_alpha': 19.5}. Best is trial 10 with value: 0.38122208057790374.\n",
      "[I 2023-10-01 03:16:32,936] Trial 22 finished with value: 0.3809815659415673 and parameters: {'max_depth': 9, 'n_estimators': 150, 'min_child_samples': 30, 'subsample': 0.8, 'reg_alpha': 16.0}. Best is trial 10 with value: 0.38122208057790374.\n",
      "[I 2023-10-01 03:16:57,501] Trial 21 finished with value: 0.38110611249073667 and parameters: {'max_depth': 12, 'n_estimators': 160, 'min_child_samples': 65, 'subsample': 1.0, 'reg_alpha': 4.0}. Best is trial 10 with value: 0.38122208057790374.\n",
      "[I 2023-10-01 03:17:07,250] Trial 25 finished with value: 0.3810162418552616 and parameters: {'max_depth': 12, 'n_estimators': 140, 'min_child_samples': 25, 'subsample': 0.8, 'reg_alpha': 0.0}. Best is trial 10 with value: 0.38122208057790374.\n",
      "[I 2023-10-01 03:17:14,276] Trial 26 finished with value: 0.3807420449704778 and parameters: {'max_depth': 12, 'n_estimators': 140, 'min_child_samples': 45, 'subsample': 0.8, 'reg_alpha': 2.0}. Best is trial 10 with value: 0.38122208057790374.\n",
      "[I 2023-10-01 03:17:20,767] Trial 28 finished with value: 0.380829344266541 and parameters: {'max_depth': 12, 'n_estimators': 140, 'min_child_samples': 40, 'subsample': 1.0, 'reg_alpha': 24.5}. Best is trial 10 with value: 0.38122208057790374.\n",
      "[I 2023-10-01 03:17:22,964] Trial 29 finished with value: 0.3808776976623731 and parameters: {'max_depth': 12, 'n_estimators': 140, 'min_child_samples': 35, 'subsample': 0.9500000000000001, 'reg_alpha': 25.5}. Best is trial 10 with value: 0.38122208057790374.\n",
      "[I 2023-10-01 03:17:24,306] Trial 27 finished with value: 0.38093521229603333 and parameters: {'max_depth': 9, 'n_estimators': 145, 'min_child_samples': 40, 'subsample': 0.8, 'reg_alpha': 24.0}. Best is trial 10 with value: 0.38122208057790374.\n",
      "[I 2023-10-01 03:17:44,966] Trial 31 finished with value: 0.38084553312034997 and parameters: {'max_depth': 10, 'n_estimators': 135, 'min_child_samples': 40, 'subsample': 0.8, 'reg_alpha': 0.0}. Best is trial 10 with value: 0.38122208057790374.\n",
      "[I 2023-10-01 03:18:09,884] Trial 33 finished with value: 0.380784748863899 and parameters: {'max_depth': 10, 'n_estimators': 135, 'min_child_samples': 35, 'subsample': 0.8, 'reg_alpha': 0.0}. Best is trial 10 with value: 0.38122208057790374.\n",
      "[I 2023-10-01 03:18:14,353] Trial 32 finished with value: 0.3807144450795847 and parameters: {'max_depth': 10, 'n_estimators': 135, 'min_child_samples': 40, 'subsample': 0.8, 'reg_alpha': 23.5}. Best is trial 10 with value: 0.38122208057790374.\n",
      "[I 2023-10-01 03:18:15,417] Trial 34 finished with value: 0.3807689946571656 and parameters: {'max_depth': 10, 'n_estimators': 135, 'min_child_samples': 25, 'subsample': 0.8, 'reg_alpha': 0.0}. Best is trial 10 with value: 0.38122208057790374.\n",
      "[I 2023-10-01 03:18:35,474] Trial 30 finished with value: 0.3811620643268327 and parameters: {'max_depth': 8, 'n_estimators': 180, 'min_child_samples': 35, 'subsample': 0.8, 'reg_alpha': 24.5}. Best is trial 10 with value: 0.38122208057790374.\n",
      "[I 2023-10-01 03:19:34,145] Trial 35 finished with value: 0.38116452181264476 and parameters: {'max_depth': 10, 'n_estimators': 165, 'min_child_samples': 20, 'subsample': 0.9500000000000001, 'reg_alpha': 1.0}. Best is trial 10 with value: 0.38122208057790374.\n",
      "[I 2023-10-01 03:19:48,097] Trial 36 finished with value: 0.38142404654294476 and parameters: {'max_depth': 10, 'n_estimators': 180, 'min_child_samples': 20, 'subsample': 0.8, 'reg_alpha': 11.5}. Best is trial 36 with value: 0.38142404654294476.\n",
      "[I 2023-10-01 03:20:06,320] Trial 38 finished with value: 0.38135491051119563 and parameters: {'max_depth': 10, 'n_estimators': 180, 'min_child_samples': 45, 'subsample': 0.8, 'reg_alpha': 12.0}. Best is trial 36 with value: 0.38142404654294476.\n",
      "[I 2023-10-01 03:20:11,053] Trial 37 finished with value: 0.38133804497685375 and parameters: {'max_depth': 10, 'n_estimators': 180, 'min_child_samples': 20, 'subsample': 0.8, 'reg_alpha': 11.5}. Best is trial 36 with value: 0.38142404654294476.\n",
      "[I 2023-10-01 03:20:19,109] Trial 39 finished with value: 0.3808971483355948 and parameters: {'max_depth': 10, 'n_estimators': 140, 'min_child_samples': 20, 'subsample': 0.8, 'reg_alpha': 23.0}. Best is trial 36 with value: 0.38142404654294476.\n",
      "[I 2023-10-01 03:21:25,501] Trial 40 finished with value: 0.3812114325561408 and parameters: {'max_depth': 12, 'n_estimators': 165, 'min_child_samples': 45, 'subsample': 0.9500000000000001, 'reg_alpha': 23.5}. Best is trial 36 with value: 0.38142404654294476.\n",
      "[I 2023-10-01 03:21:31,110] Trial 42 finished with value: 0.3812415118768411 and parameters: {'max_depth': 10, 'n_estimators': 165, 'min_child_samples': 45, 'subsample': 0.9500000000000001, 'reg_alpha': 23.0}. Best is trial 36 with value: 0.38142404654294476.\n",
      "[I 2023-10-01 03:21:32,495] Trial 41 finished with value: 0.3811666018913458 and parameters: {'max_depth': 10, 'n_estimators': 165, 'min_child_samples': 45, 'subsample': 0.9500000000000001, 'reg_alpha': 24.0}. Best is trial 36 with value: 0.38142404654294476.\n",
      "[I 2023-10-01 03:21:35,542] Trial 45 finished with value: 0.3813356046548416 and parameters: {'max_depth': 10, 'n_estimators': 165, 'min_child_samples': 50, 'subsample': 0.9500000000000001, 'reg_alpha': 13.0}. Best is trial 36 with value: 0.38142404654294476.\n",
      "[I 2023-10-01 03:21:36,842] Trial 44 finished with value: 0.3811819210897491 and parameters: {'max_depth': 10, 'n_estimators': 165, 'min_child_samples': 45, 'subsample': 0.9500000000000001, 'reg_alpha': 22.0}. Best is trial 36 with value: 0.38142404654294476.\n",
      "[I 2023-10-01 03:21:44,098] Trial 43 finished with value: 0.38130153634369685 and parameters: {'max_depth': 10, 'n_estimators': 170, 'min_child_samples': 45, 'subsample': 0.9500000000000001, 'reg_alpha': 22.5}. Best is trial 36 with value: 0.38142404654294476.\n",
      "[I 2023-10-01 03:22:01,268] Trial 46 finished with value: 0.38113692927305004 and parameters: {'max_depth': 10, 'n_estimators': 160, 'min_child_samples': 50, 'subsample': 0.9500000000000001, 'reg_alpha': 3.5}. Best is trial 36 with value: 0.38142404654294476.\n",
      "[I 2023-10-01 03:22:21,380] Trial 50 finished with value: 0.38065903005469415 and parameters: {'max_depth': 6, 'n_estimators': 165, 'min_child_samples': 50, 'subsample': 0.9500000000000001, 'reg_alpha': 22.5}. Best is trial 36 with value: 0.38142404654294476.\n",
      "[I 2023-10-01 03:22:25,975] Trial 47 finished with value: 0.3813256070570868 and parameters: {'max_depth': 12, 'n_estimators': 165, 'min_child_samples': 25, 'subsample': 0.9500000000000001, 'reg_alpha': 3.0}. Best is trial 36 with value: 0.38142404654294476.\n",
      "[I 2023-10-01 03:22:35,902] Trial 49 finished with value: 0.3812820831190361 and parameters: {'max_depth': 12, 'n_estimators': 165, 'min_child_samples': 50, 'subsample': 0.9500000000000001, 'reg_alpha': 3.0}. Best is trial 36 with value: 0.38142404654294476.\n",
      "[I 2023-10-01 03:22:44,072] Trial 48 finished with value: 0.38125774634962906 and parameters: {'max_depth': 12, 'n_estimators': 165, 'min_child_samples': 25, 'subsample': 0.9500000000000001, 'reg_alpha': 4.0}. Best is trial 36 with value: 0.38142404654294476.\n",
      "[I 2023-10-01 03:24:00,614] Trial 51 finished with value: 0.38128977464551606 and parameters: {'max_depth': 10, 'n_estimators': 175, 'min_child_samples': 20, 'subsample': 0.9500000000000001, 'reg_alpha': 22.0}. Best is trial 36 with value: 0.38142404654294476.\n",
      "[I 2023-10-01 03:24:05,612] Trial 52 finished with value: 0.3810971838808886 and parameters: {'max_depth': 8, 'n_estimators': 170, 'min_child_samples': 25, 'subsample': 0.9500000000000001, 'reg_alpha': 13.0}. Best is trial 36 with value: 0.38142404654294476.\n",
      "[I 2023-10-01 03:24:19,478] Trial 53 finished with value: 0.38129849851938735 and parameters: {'max_depth': 10, 'n_estimators': 170, 'min_child_samples': 20, 'subsample': 0.9500000000000001, 'reg_alpha': 11.5}. Best is trial 36 with value: 0.38142404654294476.\n",
      "[I 2023-10-01 03:24:46,037] Trial 55 finished with value: 0.381272467714712 and parameters: {'max_depth': 9, 'n_estimators': 170, 'min_child_samples': 50, 'subsample': 0.8500000000000001, 'reg_alpha': 12.5}. Best is trial 36 with value: 0.38142404654294476.\n",
      "[I 2023-10-01 03:24:46,804] Trial 54 finished with value: 0.3813165683002476 and parameters: {'max_depth': 9, 'n_estimators': 175, 'min_child_samples': 20, 'subsample': 0.8500000000000001, 'reg_alpha': 12.0}. Best is trial 36 with value: 0.38142404654294476.\n",
      "[I 2023-10-01 03:25:49,714] Trial 57 finished with value: 0.38134446189135207 and parameters: {'max_depth': 9, 'n_estimators': 175, 'min_child_samples': 50, 'subsample': 0.8500000000000001, 'reg_alpha': 12.5}. Best is trial 36 with value: 0.38142404654294476.\n",
      "[I 2023-10-01 03:25:54,473] Trial 60 finished with value: 0.38129975750073825 and parameters: {'max_depth': 11, 'n_estimators': 175, 'min_child_samples': 50, 'subsample': 0.8500000000000001, 'reg_alpha': 12.5}. Best is trial 36 with value: 0.38142404654294476.\n",
      "[I 2023-10-01 03:25:58,321] Trial 56 finished with value: 0.3811686765715829 and parameters: {'max_depth': 11, 'n_estimators': 170, 'min_child_samples': 50, 'subsample': 0.8500000000000001, 'reg_alpha': 12.5}. Best is trial 36 with value: 0.38142404654294476.\n",
      "[I 2023-10-01 03:26:01,708] Trial 58 finished with value: 0.38145565995572056 and parameters: {'max_depth': 9, 'n_estimators': 175, 'min_child_samples': 25, 'subsample': 0.8500000000000001, 'reg_alpha': 12.0}. Best is trial 58 with value: 0.38145565995572056.\n",
      "[I 2023-10-01 03:26:03,888] Trial 61 finished with value: 0.38125041029081685 and parameters: {'max_depth': 11, 'n_estimators': 175, 'min_child_samples': 50, 'subsample': 0.8500000000000001, 'reg_alpha': 12.5}. Best is trial 58 with value: 0.38145565995572056.\n",
      "[I 2023-10-01 03:26:06,490] Trial 59 finished with value: 0.3814188896264039 and parameters: {'max_depth': 11, 'n_estimators': 175, 'min_child_samples': 50, 'subsample': 0.8500000000000001, 'reg_alpha': 12.5}. Best is trial 58 with value: 0.38145565995572056.\n",
      "[I 2023-10-01 03:26:25,429] Trial 62 finished with value: 0.3814854884328084 and parameters: {'max_depth': 11, 'n_estimators': 175, 'min_child_samples': 25, 'subsample': 0.8500000000000001, 'reg_alpha': 12.0}. Best is trial 62 with value: 0.3814854884328084.\n",
      "[I 2023-10-01 03:26:36,828] Trial 63 finished with value: 0.38136081488156337 and parameters: {'max_depth': 11, 'n_estimators': 175, 'min_child_samples': 25, 'subsample': 0.8500000000000001, 'reg_alpha': 11.5}. Best is trial 62 with value: 0.3814854884328084.\n",
      "[I 2023-10-01 03:26:45,648] Trial 64 finished with value: 0.3812080275202085 and parameters: {'max_depth': 11, 'n_estimators': 175, 'min_child_samples': 25, 'subsample': 0.8500000000000001, 'reg_alpha': 8.0}. Best is trial 62 with value: 0.3814854884328084.\n",
      "[I 2023-10-01 03:27:09,464] Trial 65 finished with value: 0.38133096268440575 and parameters: {'max_depth': 11, 'n_estimators': 175, 'min_child_samples': 25, 'subsample': 0.8500000000000001, 'reg_alpha': 11.5}. Best is trial 62 with value: 0.3814854884328084.\n",
      "[I 2023-10-01 03:27:11,535] Trial 66 finished with value: 0.3815549258945524 and parameters: {'max_depth': 11, 'n_estimators': 175, 'min_child_samples': 30, 'subsample': 0.8500000000000001, 'reg_alpha': 11.5}. Best is trial 66 with value: 0.3815549258945524.\n",
      "[I 2023-10-01 03:28:20,442] Trial 68 finished with value: 0.3813357848903648 and parameters: {'max_depth': 11, 'n_estimators': 175, 'min_child_samples': 30, 'subsample': 0.8500000000000001, 'reg_alpha': 8.5}. Best is trial 66 with value: 0.3815549258945524.\n",
      "[I 2023-10-01 03:28:22,453] Trial 67 finished with value: 0.3812832082351211 and parameters: {'max_depth': 11, 'n_estimators': 175, 'min_child_samples': 30, 'subsample': 0.8500000000000001, 'reg_alpha': 11.5}. Best is trial 66 with value: 0.3815549258945524.\n",
      "[I 2023-10-01 03:28:38,781] Trial 69 finished with value: 0.38137009396119625 and parameters: {'max_depth': 11, 'n_estimators': 175, 'min_child_samples': 30, 'subsample': 0.8500000000000001, 'reg_alpha': 7.5}. Best is trial 66 with value: 0.3815549258945524.\n",
      "[I 2023-10-01 03:28:59,100] Trial 70 finished with value: 0.3814027655204799 and parameters: {'max_depth': 11, 'n_estimators': 175, 'min_child_samples': 30, 'subsample': 0.8500000000000001, 'reg_alpha': 7.0}. Best is trial 66 with value: 0.3815549258945524.\n",
      "[I 2023-10-01 03:29:04,913] Trial 71 finished with value: 0.3813925932980965 and parameters: {'max_depth': 11, 'n_estimators': 175, 'min_child_samples': 30, 'subsample': 0.8500000000000001, 'reg_alpha': 7.5}. Best is trial 66 with value: 0.3815549258945524.\n",
      "[I 2023-10-01 03:30:03,999] Trial 72 finished with value: 0.38133202035213437 and parameters: {'max_depth': 11, 'n_estimators': 180, 'min_child_samples': 30, 'subsample': 0.8500000000000001, 'reg_alpha': 7.5}. Best is trial 66 with value: 0.3815549258945524.\n",
      "[I 2023-10-01 03:30:10,590] Trial 73 finished with value: 0.3813498657022616 and parameters: {'max_depth': 11, 'n_estimators': 180, 'min_child_samples': 30, 'subsample': 0.8500000000000001, 'reg_alpha': 7.5}. Best is trial 66 with value: 0.3815549258945524.\n",
      "[I 2023-10-01 03:30:14,292] Trial 76 finished with value: 0.38138243122787135 and parameters: {'max_depth': 9, 'n_estimators': 180, 'min_child_samples': 30, 'subsample': 0.9, 'reg_alpha': 8.0}. Best is trial 66 with value: 0.3815549258945524.\n",
      "[I 2023-10-01 03:30:16,538] Trial 75 finished with value: 0.3813171736728142 and parameters: {'max_depth': 9, 'n_estimators': 180, 'min_child_samples': 30, 'subsample': 0.9, 'reg_alpha': 8.0}. Best is trial 66 with value: 0.3815549258945524.\n",
      "[I 2023-10-01 03:30:25,410] Trial 77 finished with value: 0.3813442352068373 and parameters: {'max_depth': 9, 'n_estimators': 180, 'min_child_samples': 30, 'subsample': 0.9, 'reg_alpha': 7.5}. Best is trial 66 with value: 0.3815549258945524.\n",
      "[I 2023-10-01 03:30:27,303] Trial 74 finished with value: 0.38137642416066575 and parameters: {'max_depth': 11, 'n_estimators': 180, 'min_child_samples': 30, 'subsample': 0.9, 'reg_alpha': 8.0}. Best is trial 66 with value: 0.3815549258945524.\n",
      "[I 2023-10-01 03:30:47,633] Trial 78 finished with value: 0.38160741897457406 and parameters: {'max_depth': 11, 'n_estimators': 180, 'min_child_samples': 30, 'subsample': 0.8500000000000001, 'reg_alpha': 8.5}. Best is trial 78 with value: 0.38160741897457406.\n",
      "[I 2023-10-01 03:30:58,645] Trial 79 finished with value: 0.38137845356523836 and parameters: {'max_depth': 11, 'n_estimators': 180, 'min_child_samples': 30, 'subsample': 0.8500000000000001, 'reg_alpha': 8.0}. Best is trial 78 with value: 0.38160741897457406.\n",
      "[I 2023-10-01 03:31:00,349] Trial 80 finished with value: 0.3814376437887241 and parameters: {'max_depth': 11, 'n_estimators': 180, 'min_child_samples': 30, 'subsample': 0.8500000000000001, 'reg_alpha': 9.5}. Best is trial 78 with value: 0.38160741897457406.\n",
      "[I 2023-10-01 03:31:34,387] Trial 81 finished with value: 0.38145508988957016 and parameters: {'max_depth': 11, 'n_estimators': 180, 'min_child_samples': 30, 'subsample': 0.9, 'reg_alpha': 10.0}. Best is trial 78 with value: 0.38160741897457406.\n",
      "[I 2023-10-01 03:31:44,890] Trial 82 finished with value: 0.3814095068480082 and parameters: {'max_depth': 11, 'n_estimators': 180, 'min_child_samples': 30, 'subsample': 0.9, 'reg_alpha': 9.5}. Best is trial 78 with value: 0.38160741897457406.\n",
      "[I 2023-10-01 03:32:20,875] Trial 85 finished with value: 0.3811787970616701 and parameters: {'max_depth': 11, 'n_estimators': 155, 'min_child_samples': 30, 'subsample': 0.9, 'reg_alpha': 10.0}. Best is trial 78 with value: 0.38160741897457406.\n",
      "[I 2023-10-01 03:32:47,673] Trial 83 finished with value: 0.38133893883276043 and parameters: {'max_depth': 11, 'n_estimators': 180, 'min_child_samples': 30, 'subsample': 0.9, 'reg_alpha': 10.0}. Best is trial 78 with value: 0.38160741897457406.\n",
      "[I 2023-10-01 03:32:53,878] Trial 84 finished with value: 0.3813132116493 and parameters: {'max_depth': 11, 'n_estimators': 180, 'min_child_samples': 30, 'subsample': 0.9, 'reg_alpha': 10.0}. Best is trial 78 with value: 0.38160741897457406.\n",
      "[I 2023-10-01 03:32:55,902] Trial 86 finished with value: 0.3812195353419039 and parameters: {'max_depth': 11, 'n_estimators': 155, 'min_child_samples': 30, 'subsample': 0.9, 'reg_alpha': 10.0}. Best is trial 78 with value: 0.38160741897457406.\n",
      "[I 2023-10-01 03:33:23,908] Trial 87 finished with value: 0.3813095161569917 and parameters: {'max_depth': 11, 'n_estimators': 180, 'min_child_samples': 30, 'subsample': 0.9, 'reg_alpha': 9.5}. Best is trial 78 with value: 0.38160741897457406.\n",
      "[I 2023-10-01 03:33:38,478] Trial 90 finished with value: 0.38093625083336213 and parameters: {'max_depth': 9, 'n_estimators': 155, 'min_child_samples': 35, 'subsample': 0.9, 'reg_alpha': 10.0}. Best is trial 78 with value: 0.38160741897457406.\n",
      "[I 2023-10-01 03:33:39,734] Trial 88 finished with value: 0.3811048900813018 and parameters: {'max_depth': 11, 'n_estimators': 155, 'min_child_samples': 30, 'subsample': 0.9, 'reg_alpha': 9.5}. Best is trial 78 with value: 0.38160741897457406.\n",
      "[I 2023-10-01 03:33:44,229] Trial 89 finished with value: 0.3813034665413551 and parameters: {'max_depth': 11, 'n_estimators': 160, 'min_child_samples': 30, 'subsample': 0.9, 'reg_alpha': 10.0}. Best is trial 78 with value: 0.38160741897457406.\n",
      "[I 2023-10-01 03:33:56,138] Trial 91 finished with value: 0.3813030785518252 and parameters: {'max_depth': 11, 'n_estimators': 160, 'min_child_samples': 35, 'subsample': 0.9, 'reg_alpha': 10.0}. Best is trial 78 with value: 0.38160741897457406.\n",
      "[I 2023-10-01 03:33:58,328] Trial 93 finished with value: 0.38121132555735926 and parameters: {'max_depth': 11, 'n_estimators': 155, 'min_child_samples': 35, 'subsample': 0.9, 'reg_alpha': 10.0}. Best is trial 78 with value: 0.38160741897457406.\n",
      "[I 2023-10-01 03:33:58,906] Trial 92 finished with value: 0.3812852026106478 and parameters: {'max_depth': 11, 'n_estimators': 160, 'min_child_samples': 35, 'subsample': 0.9, 'reg_alpha': 9.5}. Best is trial 78 with value: 0.38160741897457406.\n",
      "[I 2023-10-01 03:34:03,413] Trial 95 finished with value: 0.3812081845129071 and parameters: {'max_depth': 11, 'n_estimators': 155, 'min_child_samples': 35, 'subsample': 0.8500000000000001, 'reg_alpha': 14.0}. Best is trial 78 with value: 0.38160741897457406.\n",
      "[I 2023-10-01 03:34:04,529] Trial 94 finished with value: 0.38092659675355234 and parameters: {'max_depth': 11, 'n_estimators': 155, 'min_child_samples': 65, 'subsample': 0.8500000000000001, 'reg_alpha': 10.0}. Best is trial 78 with value: 0.38160741897457406.\n",
      "[I 2023-10-01 03:34:06,422] Trial 96 finished with value: 0.3811340089269798 and parameters: {'max_depth': 11, 'n_estimators': 155, 'min_child_samples': 65, 'subsample': 0.8500000000000001, 'reg_alpha': 9.5}. Best is trial 78 with value: 0.38160741897457406.\n",
      "[I 2023-10-01 03:34:11,991] Trial 97 finished with value: 0.3810786085753624 and parameters: {'max_depth': 11, 'n_estimators': 155, 'min_child_samples': 35, 'subsample': 0.9, 'reg_alpha': 10.0}. Best is trial 78 with value: 0.38160741897457406.\n",
      "[I 2023-10-01 03:34:15,100] Trial 98 finished with value: 0.38126944875673074 and parameters: {'max_depth': 12, 'n_estimators': 160, 'min_child_samples': 35, 'subsample': 0.9, 'reg_alpha': 10.0}. Best is trial 78 with value: 0.38160741897457406.\n",
      "[I 2023-10-01 03:34:18,131] Trial 99 finished with value: 0.3812962063108923 and parameters: {'max_depth': 12, 'n_estimators': 170, 'min_child_samples': 35, 'subsample': 0.9, 'reg_alpha': 10.0}. Best is trial 78 with value: 0.38160741897457406.\n"
     ]
    }
   ],
   "source": [
    "study_gbm.optimize(gb_avg_inc, n_trials=100, n_jobs=-1, callbacks=[callback])"
   ]
  },
  {
   "cell_type": "code",
   "execution_count": 17,
   "metadata": {},
   "outputs": [
    {
     "data": {
      "text/plain": [
       "0.38160741897457406"
      ]
     },
     "execution_count": 17,
     "metadata": {},
     "output_type": "execute_result"
    }
   ],
   "source": [
    "study_gbm.best_trial.value"
   ]
  },
  {
   "cell_type": "code",
   "execution_count": 18,
   "metadata": {},
   "outputs": [],
   "source": [
    "best_params = study_gbm.best_trial.params"
   ]
  },
  {
   "cell_type": "code",
   "execution_count": 19,
   "metadata": {},
   "outputs": [
    {
     "name": "stdout",
     "output_type": "stream",
     "text": [
      "[LightGBM] [Warning] Accuracy may be bad since you didn't explicitly set num_leaves OR 2^max_depth > num_leaves. (num_leaves=31).\n",
      "[LightGBM] [Warning] Accuracy may be bad since you didn't explicitly set num_leaves OR 2^max_depth > num_leaves. (num_leaves=31).\n",
      "[LightGBM] [Info] Auto-choosing row-wise multi-threading, the overhead of testing was 0.012593 seconds.\n",
      "You can set `force_row_wise=true` to remove the overhead.\n",
      "And if memory is not enough, you can set `force_col_wise=true`.\n",
      "[LightGBM] [Info] Total Bins 1224\n",
      "[LightGBM] [Info] Number of data points in the train set: 2752615, number of used features: 10\n",
      "[LightGBM] [Info] Start training from score 1788.795321\n"
     ]
    }
   ],
   "source": [
    "inc_model = LGBMRegressor(\n",
    "    objective='regression',\n",
    "    learning_rate=.3,\n",
    "    n_jobs=12,\n",
    "    importance_type='gain',\n",
    "    random_state=7,\n",
    "    **best_params\n",
    ").fit(train_data, inc_target)"
   ]
  },
  {
   "cell_type": "code",
   "execution_count": 20,
   "metadata": {},
   "outputs": [],
   "source": [
    "import pickle"
   ]
  },
  {
   "cell_type": "code",
   "execution_count": 21,
   "metadata": {},
   "outputs": [],
   "source": [
    "# pickle.dump(inc_model, open('..\\\\models\\\\inc_gb.pkl', 'wb'))"
   ]
  },
  {
   "cell_type": "code",
   "execution_count": 31,
   "metadata": {},
   "outputs": [],
   "source": [
    "inc_model = pickle.load(open('..\\\\models\\\\inc_gb.pkl', 'rb'))"
   ]
  },
  {
   "cell_type": "code",
   "execution_count": 32,
   "metadata": {},
   "outputs": [],
   "source": [
    "full_base_test = pd.read_feather(data_path + 'interim\\\\full_base_test.frt')\n",
    "\n",
    "test_data = full_base_test.iloc[:, 4:]\n",
    "inc_target = full_base_test.paid_avg_correct\n",
    "cnt_target = full_base_test.transactions_count"
   ]
  },
  {
   "cell_type": "code",
   "execution_count": 35,
   "metadata": {},
   "outputs": [
    {
     "name": "stdout",
     "output_type": "stream",
     "text": [
      "[LightGBM] [Warning] Accuracy may be bad since you didn't explicitly set num_leaves OR 2^max_depth > num_leaves. (num_leaves=31).\n"
     ]
    }
   ],
   "source": [
    "pred_values = inc_model.predict(test_data)"
   ]
  },
  {
   "cell_type": "code",
   "execution_count": 39,
   "metadata": {},
   "outputs": [
    {
     "data": {
      "text/plain": [
       "0.4282866116902365"
      ]
     },
     "execution_count": 39,
     "metadata": {},
     "output_type": "execute_result"
    }
   ],
   "source": [
    "r2_score(inc_target, pred_values)"
   ]
  },
  {
   "cell_type": "code",
   "execution_count": 40,
   "metadata": {},
   "outputs": [
    {
     "data": {
      "text/plain": [
       "927.8435950863112"
      ]
     },
     "execution_count": 40,
     "metadata": {},
     "output_type": "execute_result"
    }
   ],
   "source": [
    "mean_absolute_error(inc_target, pred_values)"
   ]
  }
 ],
 "metadata": {
  "kernelspec": {
   "display_name": "Python 3",
   "language": "python",
   "name": "python3"
  },
  "language_info": {
   "codemirror_mode": {
    "name": "ipython",
    "version": 3
   },
   "file_extension": ".py",
   "mimetype": "text/x-python",
   "name": "python",
   "nbconvert_exporter": "python",
   "pygments_lexer": "ipython3",
   "version": "3.11.2"
  },
  "orig_nbformat": 4
 },
 "nbformat": 4,
 "nbformat_minor": 2
}
