{
 "cells": [
  {
   "cell_type": "code",
   "execution_count": 1,
   "id": "7dad6ada",
   "metadata": {},
   "outputs": [],
   "source": [
    "import numpy as np\n",
    "import pandas as pd\n",
    "import os"
   ]
  },
  {
   "cell_type": "code",
   "execution_count": 2,
   "id": "abeee409",
   "metadata": {},
   "outputs": [
    {
     "name": "stdout",
     "output_type": "stream",
     "text": [
      "['npo_cntrbtrs.csv', '.DS_Store', 'readme.md', 'npo_trnsctns.csv', 'npo_clnts.csv']\n"
     ]
    }
   ],
   "source": [
    "path = r'train_data_npo'\n",
    "print(os.listdir(path))"
   ]
  },
  {
   "cell_type": "code",
   "execution_count": 3,
   "id": "5990016b",
   "metadata": {},
   "outputs": [],
   "source": [
    "npo_clients = pd.read_csv(path + r'/npo_clnts.csv')\n",
    "npo_trnsctns = pd.read_csv(path + r'/npo_trnsctns.csv')\n",
    "npo_cntrbtrs = pd.read_csv(path + r'/npo_cntrbtrs.csv')"
   ]
  },
  {
   "cell_type": "code",
   "execution_count": 4,
   "id": "53deb35d",
   "metadata": {},
   "outputs": [
    {
     "data": {
      "text/plain": [
       "((230446, 7), (12325096, 5), (248947, 12))"
      ]
     },
     "execution_count": 4,
     "metadata": {},
     "output_type": "execute_result"
    }
   ],
   "source": [
    "npo_clients.shape, npo_trnsctns.shape, npo_cntrbtrs.shape"
   ]
  },
  {
   "cell_type": "code",
   "execution_count": 5,
   "id": "feb940fd",
   "metadata": {},
   "outputs": [
    {
     "data": {
      "text/plain": [
       "(230407, 241359, 230426)"
      ]
     },
     "execution_count": 5,
     "metadata": {},
     "output_type": "execute_result"
    }
   ],
   "source": [
    "npo_clients.clnt_id.nunique(), npo_trnsctns.npo_accnt_id.nunique(), npo_cntrbtrs.clnt_id.nunique()"
   ]
  },
  {
   "cell_type": "code",
   "execution_count": 6,
   "id": "232f8879",
   "metadata": {},
   "outputs": [
    {
     "data": {
      "text/plain": [
       "Index(['npo_accnt_id', 'npo_sum', 'slctn_nmbr', 'npo_operation_date',\n",
       "       'npo_operation_group'],\n",
       "      dtype='object')"
      ]
     },
     "execution_count": 6,
     "metadata": {},
     "output_type": "execute_result"
    }
   ],
   "source": [
    "npo_trnsctns.keys()"
   ]
  },
  {
   "cell_type": "code",
   "execution_count": 7,
   "id": "2a385862",
   "metadata": {},
   "outputs": [],
   "source": [
    "npo_clients = npo_clients.drop_duplicates(subset='clnt_id')\n",
    "npo_cntrbtrs = npo_cntrbtrs.drop_duplicates(subset='clnt_id')"
   ]
  },
  {
   "cell_type": "code",
   "execution_count": 8,
   "id": "a7e1acb3",
   "metadata": {},
   "outputs": [
    {
     "data": {
      "text/plain": [
       "((230407, 7), (230426, 12))"
      ]
     },
     "execution_count": 8,
     "metadata": {},
     "output_type": "execute_result"
    }
   ],
   "source": [
    "npo_clients.shape, npo_cntrbtrs.shape"
   ]
  },
  {
   "cell_type": "code",
   "execution_count": 9,
   "id": "acde4e80",
   "metadata": {},
   "outputs": [
    {
     "data": {
      "text/plain": [
       "0"
      ]
     },
     "execution_count": 9,
     "metadata": {},
     "output_type": "execute_result"
    }
   ],
   "source": [
    "npo_clients[~npo_clients.clnt_id.isin(npo_cntrbtrs.clnt_id)].shape[0]"
   ]
  },
  {
   "cell_type": "code",
   "execution_count": 10,
   "id": "2ca90dcb",
   "metadata": {
    "scrolled": true
   },
   "outputs": [
    {
     "data": {
      "text/plain": [
       "0    9711822\n",
       "1    2613274\n",
       "Name: npo_operation_group, dtype: int64"
      ]
     },
     "execution_count": 10,
     "metadata": {},
     "output_type": "execute_result"
    }
   ],
   "source": [
    "npo_trnsctns.npo_operation_group.value_counts()"
   ]
  },
  {
   "cell_type": "code",
   "execution_count": 11,
   "id": "690c1ef9",
   "metadata": {},
   "outputs": [],
   "source": [
    "npo_trnsctns.npo_operation_date = pd.to_datetime(npo_trnsctns.npo_operation_date)"
   ]
  },
  {
   "cell_type": "code",
   "execution_count": 15,
   "id": "a477ccbd",
   "metadata": {
    "scrolled": true
   },
   "outputs": [
    {
     "data": {
      "text/plain": [
       "0    9711822\n",
       "Name: npo_operation_group, dtype: int64"
      ]
     },
     "execution_count": 15,
     "metadata": {},
     "output_type": "execute_result"
    }
   ],
   "source": [
    "npo_trnsctns = npo_trnsctns[npo_trnsctns.npo_operation_group == 0]\n",
    "npo_trnsctns.npo_operation_group.value_counts()"
   ]
  },
  {
   "cell_type": "code",
   "execution_count": 28,
   "id": "63bb5313",
   "metadata": {
    "scrolled": true
   },
   "outputs": [
    {
     "data": {
      "text/plain": [
       "count    3.666400e+05\n",
       "mean     7.712137e+01\n",
       "std      1.226510e+04\n",
       "min      1.000000e-02\n",
       "25%      7.650000e+00\n",
       "50%      1.493500e+01\n",
       "75%      3.659000e+01\n",
       "max      6.956180e+06\n",
       "Name: npo_sum, dtype: float64"
      ]
     },
     "execution_count": 28,
     "metadata": {},
     "output_type": "execute_result"
    }
   ],
   "source": [
    "npo_trnsctns[npo_trnsctns.npo_sum < 0]['npo_sum'].abs().describe()"
   ]
  },
  {
   "cell_type": "code",
   "execution_count": 29,
   "id": "796f299b",
   "metadata": {
    "scrolled": false
   },
   "outputs": [
    {
     "data": {
      "text/plain": [
       "count    9.329532e+06\n",
       "mean     4.294357e+03\n",
       "std      2.926236e+06\n",
       "min      1.000000e-02\n",
       "25%      2.439000e+02\n",
       "50%      8.130000e+02\n",
       "75%      2.011650e+03\n",
       "max      8.584059e+09\n",
       "Name: npo_sum, dtype: float64"
      ]
     },
     "execution_count": 29,
     "metadata": {},
     "output_type": "execute_result"
    }
   ],
   "source": [
    "npo_trnsctns[npo_trnsctns.npo_sum > 0]['npo_sum'].describe()"
   ]
  },
  {
   "cell_type": "code",
   "execution_count": 52,
   "id": "7150a251",
   "metadata": {},
   "outputs": [
    {
     "data": {
      "text/html": [
       "<div>\n",
       "<style scoped>\n",
       "    .dataframe tbody tr th:only-of-type {\n",
       "        vertical-align: middle;\n",
       "    }\n",
       "\n",
       "    .dataframe tbody tr th {\n",
       "        vertical-align: top;\n",
       "    }\n",
       "\n",
       "    .dataframe thead th {\n",
       "        text-align: right;\n",
       "    }\n",
       "</style>\n",
       "<table border=\"1\" class=\"dataframe\">\n",
       "  <thead>\n",
       "    <tr style=\"text-align: right;\">\n",
       "      <th></th>\n",
       "      <th>npo_accnt_id</th>\n",
       "      <th>npo_sum</th>\n",
       "      <th>slctn_nmbr</th>\n",
       "      <th>npo_operation_date</th>\n",
       "      <th>npo_operation_group</th>\n",
       "    </tr>\n",
       "  </thead>\n",
       "  <tbody>\n",
       "    <tr>\n",
       "      <th>2741</th>\n",
       "      <td>0x6CD8CDFA8C119147A4676C83463889DD</td>\n",
       "      <td>-0.0</td>\n",
       "      <td>2</td>\n",
       "      <td>2013-12-13</td>\n",
       "      <td>0</td>\n",
       "    </tr>\n",
       "    <tr>\n",
       "      <th>7894</th>\n",
       "      <td>0x3E94DB8E35FB5246BDABD6224EE3AD29</td>\n",
       "      <td>-0.0</td>\n",
       "      <td>2</td>\n",
       "      <td>2012-04-15</td>\n",
       "      <td>0</td>\n",
       "    </tr>\n",
       "    <tr>\n",
       "      <th>7913</th>\n",
       "      <td>0x3E94DB8E35FB5246BDABD6224EE3AD29</td>\n",
       "      <td>-0.0</td>\n",
       "      <td>2</td>\n",
       "      <td>2013-08-16</td>\n",
       "      <td>0</td>\n",
       "    </tr>\n",
       "    <tr>\n",
       "      <th>7956</th>\n",
       "      <td>0x275AAEF6A5BD134F9F707E60A0718135</td>\n",
       "      <td>-0.0</td>\n",
       "      <td>2</td>\n",
       "      <td>2014-09-14</td>\n",
       "      <td>0</td>\n",
       "    </tr>\n",
       "    <tr>\n",
       "      <th>8010</th>\n",
       "      <td>0x275AAEF6A5BD134F9F707E60A0718135</td>\n",
       "      <td>-0.0</td>\n",
       "      <td>2</td>\n",
       "      <td>2014-04-12</td>\n",
       "      <td>0</td>\n",
       "    </tr>\n",
       "    <tr>\n",
       "      <th>...</th>\n",
       "      <td>...</td>\n",
       "      <td>...</td>\n",
       "      <td>...</td>\n",
       "      <td>...</td>\n",
       "      <td>...</td>\n",
       "    </tr>\n",
       "    <tr>\n",
       "      <th>12315569</th>\n",
       "      <td>0x19C2FCD7D1B72E4BB03EE2E2CAC812A0</td>\n",
       "      <td>-0.0</td>\n",
       "      <td>2</td>\n",
       "      <td>2012-10-11</td>\n",
       "      <td>0</td>\n",
       "    </tr>\n",
       "    <tr>\n",
       "      <th>12323751</th>\n",
       "      <td>0x7B15DFB22B75D94A93A40C48C5433392</td>\n",
       "      <td>-0.0</td>\n",
       "      <td>0</td>\n",
       "      <td>2012-12-16</td>\n",
       "      <td>0</td>\n",
       "    </tr>\n",
       "    <tr>\n",
       "      <th>12324327</th>\n",
       "      <td>0x54546887C9F566408AC4715E4E2D49BE</td>\n",
       "      <td>-0.0</td>\n",
       "      <td>2</td>\n",
       "      <td>2009-09-28</td>\n",
       "      <td>0</td>\n",
       "    </tr>\n",
       "    <tr>\n",
       "      <th>12324720</th>\n",
       "      <td>0xD327237A2AF5474D84E7B4B3E6763015</td>\n",
       "      <td>-0.0</td>\n",
       "      <td>0</td>\n",
       "      <td>2011-06-09</td>\n",
       "      <td>0</td>\n",
       "    </tr>\n",
       "    <tr>\n",
       "      <th>12324887</th>\n",
       "      <td>0x4F49C1522374B742BE80C9DB8F0C0034</td>\n",
       "      <td>-0.0</td>\n",
       "      <td>2</td>\n",
       "      <td>2020-03-07</td>\n",
       "      <td>0</td>\n",
       "    </tr>\n",
       "  </tbody>\n",
       "</table>\n",
       "<p>15650 rows × 5 columns</p>\n",
       "</div>"
      ],
      "text/plain": [
       "                                npo_accnt_id  npo_sum  slctn_nmbr  \\\n",
       "2741      0x6CD8CDFA8C119147A4676C83463889DD     -0.0           2   \n",
       "7894      0x3E94DB8E35FB5246BDABD6224EE3AD29     -0.0           2   \n",
       "7913      0x3E94DB8E35FB5246BDABD6224EE3AD29     -0.0           2   \n",
       "7956      0x275AAEF6A5BD134F9F707E60A0718135     -0.0           2   \n",
       "8010      0x275AAEF6A5BD134F9F707E60A0718135     -0.0           2   \n",
       "...                                      ...      ...         ...   \n",
       "12315569  0x19C2FCD7D1B72E4BB03EE2E2CAC812A0     -0.0           2   \n",
       "12323751  0x7B15DFB22B75D94A93A40C48C5433392     -0.0           0   \n",
       "12324327  0x54546887C9F566408AC4715E4E2D49BE     -0.0           2   \n",
       "12324720  0xD327237A2AF5474D84E7B4B3E6763015     -0.0           0   \n",
       "12324887  0x4F49C1522374B742BE80C9DB8F0C0034     -0.0           2   \n",
       "\n",
       "         npo_operation_date  npo_operation_group  \n",
       "2741             2013-12-13                    0  \n",
       "7894             2012-04-15                    0  \n",
       "7913             2013-08-16                    0  \n",
       "7956             2014-09-14                    0  \n",
       "8010             2014-04-12                    0  \n",
       "...                     ...                  ...  \n",
       "12315569         2012-10-11                    0  \n",
       "12323751         2012-12-16                    0  \n",
       "12324327         2009-09-28                    0  \n",
       "12324720         2011-06-09                    0  \n",
       "12324887         2020-03-07                    0  \n",
       "\n",
       "[15650 rows x 5 columns]"
      ]
     },
     "execution_count": 52,
     "metadata": {},
     "output_type": "execute_result"
    }
   ],
   "source": [
    "npo_trnsctns[npo_trnsctns.npo_sum == 0]"
   ]
  },
  {
   "cell_type": "code",
   "execution_count": 50,
   "id": "bf9e8a68",
   "metadata": {},
   "outputs": [
    {
     "ename": "KeyError",
     "evalue": "\"None of [Float64Index([ 1626.01,  1626.01,  1626.01,  1626.01,  1626.01,  1626.01,\\n               1626.01,  1626.01,  1626.01,  1626.01,\\n              ...\\n               6783.74,  4901.59,  1173.27, 25263.22,  1626.01,     81.3,\\n                5038.7,  1945.85,  6189.23,  3375.78],\\n             dtype='float64', length=9711822)] are in the [columns]\"",
     "output_type": "error",
     "traceback": [
      "\u001b[0;31m---------------------------------------------------------------------------\u001b[0m",
      "\u001b[0;31mKeyError\u001b[0m                                  Traceback (most recent call last)",
      "\u001b[0;32m/var/folders/d_/x_4_5nfx3m960gnd3stdgfwh0000gn/T/ipykernel_10932/3593354430.py\u001b[0m in \u001b[0;36m<module>\u001b[0;34m\u001b[0m\n\u001b[0;32m----> 1\u001b[0;31m \u001b[0mnpo_trnsctns\u001b[0m\u001b[0;34m[\u001b[0m\u001b[0mnpo_trnsctns\u001b[0m\u001b[0;34m.\u001b[0m\u001b[0mnpo_sum\u001b[0m \u001b[0;34m<\u001b[0m \u001b[0;36m0\u001b[0m\u001b[0;34m]\u001b[0m\u001b[0;34m[\u001b[0m\u001b[0;34m'npo_sum'\u001b[0m\u001b[0;34m]\u001b[0m\u001b[0;34m.\u001b[0m\u001b[0mshape\u001b[0m\u001b[0;34m[\u001b[0m\u001b[0;36m0\u001b[0m\u001b[0;34m]\u001b[0m \u001b[0;34m/\u001b[0m \u001b[0mnpo_trnsctns\u001b[0m\u001b[0;34m[\u001b[0m\u001b[0mnpo_trnsctns\u001b[0m\u001b[0;34m.\u001b[0m\u001b[0mnpo_sum\u001b[0m\u001b[0;34m]\u001b[0m\u001b[0;34m[\u001b[0m\u001b[0;34m'npo_sum'\u001b[0m\u001b[0;34m]\u001b[0m\u001b[0;34m.\u001b[0m\u001b[0mshape\u001b[0m\u001b[0;34m[\u001b[0m\u001b[0;36m0\u001b[0m\u001b[0;34m]\u001b[0m\u001b[0;34m\u001b[0m\u001b[0;34m\u001b[0m\u001b[0m\n\u001b[0m",
      "\u001b[0;32m~/opt/anaconda3/lib/python3.9/site-packages/pandas/core/frame.py\u001b[0m in \u001b[0;36m__getitem__\u001b[0;34m(self, key)\u001b[0m\n\u001b[1;32m   3509\u001b[0m             \u001b[0;32mif\u001b[0m \u001b[0mis_iterator\u001b[0m\u001b[0;34m(\u001b[0m\u001b[0mkey\u001b[0m\u001b[0;34m)\u001b[0m\u001b[0;34m:\u001b[0m\u001b[0;34m\u001b[0m\u001b[0;34m\u001b[0m\u001b[0m\n\u001b[1;32m   3510\u001b[0m                 \u001b[0mkey\u001b[0m \u001b[0;34m=\u001b[0m \u001b[0mlist\u001b[0m\u001b[0;34m(\u001b[0m\u001b[0mkey\u001b[0m\u001b[0;34m)\u001b[0m\u001b[0;34m\u001b[0m\u001b[0;34m\u001b[0m\u001b[0m\n\u001b[0;32m-> 3511\u001b[0;31m             \u001b[0mindexer\u001b[0m \u001b[0;34m=\u001b[0m \u001b[0mself\u001b[0m\u001b[0;34m.\u001b[0m\u001b[0mcolumns\u001b[0m\u001b[0;34m.\u001b[0m\u001b[0m_get_indexer_strict\u001b[0m\u001b[0;34m(\u001b[0m\u001b[0mkey\u001b[0m\u001b[0;34m,\u001b[0m \u001b[0;34m\"columns\"\u001b[0m\u001b[0;34m)\u001b[0m\u001b[0;34m[\u001b[0m\u001b[0;36m1\u001b[0m\u001b[0;34m]\u001b[0m\u001b[0;34m\u001b[0m\u001b[0;34m\u001b[0m\u001b[0m\n\u001b[0m\u001b[1;32m   3512\u001b[0m \u001b[0;34m\u001b[0m\u001b[0m\n\u001b[1;32m   3513\u001b[0m         \u001b[0;31m# take() does not accept boolean indexers\u001b[0m\u001b[0;34m\u001b[0m\u001b[0;34m\u001b[0m\u001b[0m\n",
      "\u001b[0;32m~/opt/anaconda3/lib/python3.9/site-packages/pandas/core/indexes/base.py\u001b[0m in \u001b[0;36m_get_indexer_strict\u001b[0;34m(self, key, axis_name)\u001b[0m\n\u001b[1;32m   5794\u001b[0m             \u001b[0mkeyarr\u001b[0m\u001b[0;34m,\u001b[0m \u001b[0mindexer\u001b[0m\u001b[0;34m,\u001b[0m \u001b[0mnew_indexer\u001b[0m \u001b[0;34m=\u001b[0m \u001b[0mself\u001b[0m\u001b[0;34m.\u001b[0m\u001b[0m_reindex_non_unique\u001b[0m\u001b[0;34m(\u001b[0m\u001b[0mkeyarr\u001b[0m\u001b[0;34m)\u001b[0m\u001b[0;34m\u001b[0m\u001b[0;34m\u001b[0m\u001b[0m\n\u001b[1;32m   5795\u001b[0m \u001b[0;34m\u001b[0m\u001b[0m\n\u001b[0;32m-> 5796\u001b[0;31m         \u001b[0mself\u001b[0m\u001b[0;34m.\u001b[0m\u001b[0m_raise_if_missing\u001b[0m\u001b[0;34m(\u001b[0m\u001b[0mkeyarr\u001b[0m\u001b[0;34m,\u001b[0m \u001b[0mindexer\u001b[0m\u001b[0;34m,\u001b[0m \u001b[0maxis_name\u001b[0m\u001b[0;34m)\u001b[0m\u001b[0;34m\u001b[0m\u001b[0;34m\u001b[0m\u001b[0m\n\u001b[0m\u001b[1;32m   5797\u001b[0m \u001b[0;34m\u001b[0m\u001b[0m\n\u001b[1;32m   5798\u001b[0m         \u001b[0mkeyarr\u001b[0m \u001b[0;34m=\u001b[0m \u001b[0mself\u001b[0m\u001b[0;34m.\u001b[0m\u001b[0mtake\u001b[0m\u001b[0;34m(\u001b[0m\u001b[0mindexer\u001b[0m\u001b[0;34m)\u001b[0m\u001b[0;34m\u001b[0m\u001b[0;34m\u001b[0m\u001b[0m\n",
      "\u001b[0;32m~/opt/anaconda3/lib/python3.9/site-packages/pandas/core/indexes/base.py\u001b[0m in \u001b[0;36m_raise_if_missing\u001b[0;34m(self, key, indexer, axis_name)\u001b[0m\n\u001b[1;32m   5854\u001b[0m                 \u001b[0;32mif\u001b[0m \u001b[0muse_interval_msg\u001b[0m\u001b[0;34m:\u001b[0m\u001b[0;34m\u001b[0m\u001b[0;34m\u001b[0m\u001b[0m\n\u001b[1;32m   5855\u001b[0m                     \u001b[0mkey\u001b[0m \u001b[0;34m=\u001b[0m \u001b[0mlist\u001b[0m\u001b[0;34m(\u001b[0m\u001b[0mkey\u001b[0m\u001b[0;34m)\u001b[0m\u001b[0;34m\u001b[0m\u001b[0;34m\u001b[0m\u001b[0m\n\u001b[0;32m-> 5856\u001b[0;31m                 \u001b[0;32mraise\u001b[0m \u001b[0mKeyError\u001b[0m\u001b[0;34m(\u001b[0m\u001b[0;34mf\"None of [{key}] are in the [{axis_name}]\"\u001b[0m\u001b[0;34m)\u001b[0m\u001b[0;34m\u001b[0m\u001b[0;34m\u001b[0m\u001b[0m\n\u001b[0m\u001b[1;32m   5857\u001b[0m \u001b[0;34m\u001b[0m\u001b[0m\n\u001b[1;32m   5858\u001b[0m             \u001b[0mnot_found\u001b[0m \u001b[0;34m=\u001b[0m \u001b[0mlist\u001b[0m\u001b[0;34m(\u001b[0m\u001b[0mensure_index\u001b[0m\u001b[0;34m(\u001b[0m\u001b[0mkey\u001b[0m\u001b[0;34m)\u001b[0m\u001b[0;34m[\u001b[0m\u001b[0mmissing_mask\u001b[0m\u001b[0;34m.\u001b[0m\u001b[0mnonzero\u001b[0m\u001b[0;34m(\u001b[0m\u001b[0;34m)\u001b[0m\u001b[0;34m[\u001b[0m\u001b[0;36m0\u001b[0m\u001b[0;34m]\u001b[0m\u001b[0;34m]\u001b[0m\u001b[0;34m.\u001b[0m\u001b[0munique\u001b[0m\u001b[0;34m(\u001b[0m\u001b[0;34m)\u001b[0m\u001b[0;34m)\u001b[0m\u001b[0;34m\u001b[0m\u001b[0;34m\u001b[0m\u001b[0m\n",
      "\u001b[0;31mKeyError\u001b[0m: \"None of [Float64Index([ 1626.01,  1626.01,  1626.01,  1626.01,  1626.01,  1626.01,\\n               1626.01,  1626.01,  1626.01,  1626.01,\\n              ...\\n               6783.74,  4901.59,  1173.27, 25263.22,  1626.01,     81.3,\\n                5038.7,  1945.85,  6189.23,  3375.78],\\n             dtype='float64', length=9711822)] are in the [columns]\""
     ]
    }
   ],
   "source": [
    "npo_trnsctns[npo_trnsctns.npo_sum < 0]['npo_sum'].shape[0] / npo_trnsctns[npo_trnsctns.npo_sum]['npo_sum'].shape[0]"
   ]
  },
  {
   "cell_type": "code",
   "execution_count": 37,
   "id": "0dcff8f8",
   "metadata": {},
   "outputs": [],
   "source": [
    "import seaborn as sns\n",
    "import matplotlib.pyplot as plt"
   ]
  },
  {
   "cell_type": "code",
   "execution_count": 63,
   "id": "dcc18920",
   "metadata": {},
   "outputs": [
    {
     "data": {
      "image/png": "[encoded data removed]",
      "text/plain": [
       "<Figure size 640x480 with 1 Axes>"
      ]
     },
     "metadata": {},
     "output_type": "display_data"
    }
   ],
   "source": [
    "plt.hist(npo_trnsctns[npo_trnsctns.npo_sum > 0]['npo_sum'].abs().sample(300))\n",
    "plt.hist(npo_trnsctns[npo_trnsctns.npo_sum < 0]['npo_sum'].abs().sample(300))\n",
    "plt.show()"
   ]
  },
  {
   "cell_type": "code",
   "execution_count": 40,
   "id": "c8ceacc0",
   "metadata": {},
   "outputs": [],
   "source": [
    "d = npo_trnsctns.groupby(['npo_accnt_id', npo_trnsctns['npo_operation_date'].dt.to_period('Q')]).agg({'slctn_nmbr' : 'count', 'npo_sum':'sum'}).reset_index()"
   ]
  },
  {
   "cell_type": "code",
   "execution_count": 18,
   "id": "d7b6a84a",
   "metadata": {},
   "outputs": [],
   "source": [
    "d = d.rename(columns={'count':'COUNT', 'npo_sum':'SUM'})"
   ]
  },
  {
   "cell_type": "code",
   "execution_count": 67,
   "id": "462f592c",
   "metadata": {
    "scrolled": false
   },
   "outputs": [
    {
     "ename": "AttributeError",
     "evalue": "'DataFrame' object has no attribute 'target'",
     "output_type": "error",
     "traceback": [
      "\u001b[0;31m---------------------------------------------------------------------------\u001b[0m",
      "\u001b[0;31mAttributeError\u001b[0m                            Traceback (most recent call last)",
      "\u001b[0;32m/var/folders/d_/x_4_5nfx3m960gnd3stdgfwh0000gn/T/ipykernel_10932/4202962077.py\u001b[0m in \u001b[0;36m<module>\u001b[0;34m\u001b[0m\n\u001b[0;32m----> 1\u001b[0;31m \u001b[0md\u001b[0m\u001b[0;34m.\u001b[0m\u001b[0mtarget\u001b[0m\u001b[0;34m\u001b[0m\u001b[0;34m\u001b[0m\u001b[0m\n\u001b[0m",
      "\u001b[0;32m~/opt/anaconda3/lib/python3.9/site-packages/pandas/core/generic.py\u001b[0m in \u001b[0;36m__getattr__\u001b[0;34m(self, name)\u001b[0m\n\u001b[1;32m   5573\u001b[0m         ):\n\u001b[1;32m   5574\u001b[0m             \u001b[0;32mreturn\u001b[0m \u001b[0mself\u001b[0m\u001b[0;34m[\u001b[0m\u001b[0mname\u001b[0m\u001b[0;34m]\u001b[0m\u001b[0;34m\u001b[0m\u001b[0;34m\u001b[0m\u001b[0m\n\u001b[0;32m-> 5575\u001b[0;31m         \u001b[0;32mreturn\u001b[0m \u001b[0mobject\u001b[0m\u001b[0;34m.\u001b[0m\u001b[0m__getattribute__\u001b[0m\u001b[0;34m(\u001b[0m\u001b[0mself\u001b[0m\u001b[0;34m,\u001b[0m \u001b[0mname\u001b[0m\u001b[0;34m)\u001b[0m\u001b[0;34m\u001b[0m\u001b[0;34m\u001b[0m\u001b[0m\n\u001b[0m\u001b[1;32m   5576\u001b[0m \u001b[0;34m\u001b[0m\u001b[0m\n\u001b[1;32m   5577\u001b[0m     \u001b[0;32mdef\u001b[0m \u001b[0m__setattr__\u001b[0m\u001b[0;34m(\u001b[0m\u001b[0mself\u001b[0m\u001b[0;34m,\u001b[0m \u001b[0mname\u001b[0m\u001b[0;34m:\u001b[0m \u001b[0mstr\u001b[0m\u001b[0;34m,\u001b[0m \u001b[0mvalue\u001b[0m\u001b[0;34m)\u001b[0m \u001b[0;34m->\u001b[0m \u001b[0;32mNone\u001b[0m\u001b[0;34m:\u001b[0m\u001b[0;34m\u001b[0m\u001b[0;34m\u001b[0m\u001b[0m\n",
      "\u001b[0;31mAttributeError\u001b[0m: 'DataFrame' object has no attribute 'target'"
     ]
    }
   ],
   "source": [
    "d.target"
   ]
  },
  {
   "cell_type": "code",
   "execution_count": null,
   "id": "182c9bab",
   "metadata": {},
   "outputs": [],
   "source": [
    "d"
   ]
  },
  {
   "cell_type": "code",
   "execution_count": 33,
   "id": "a5568fd1",
   "metadata": {},
   "outputs": [],
   "source": [
    "# d.to_feather(r'./npo_trnsctns_with_target.frt')"
   ]
  },
  {
   "cell_type": "code",
   "execution_count": 39,
   "id": "3ad666f2",
   "metadata": {},
   "outputs": [],
   "source": [
    "import matplotlib.pyplot as plt"
   ]
  },
  {
   "cell_type": "code",
   "execution_count": 47,
   "id": "6c7b6f06",
   "metadata": {
    "scrolled": true
   },
   "outputs": [
    {
     "data": {
      "text/html": [
       "<div>\n",
       "<style scoped>\n",
       "    .dataframe tbody tr th:only-of-type {\n",
       "        vertical-align: middle;\n",
       "    }\n",
       "\n",
       "    .dataframe tbody tr th {\n",
       "        vertical-align: top;\n",
       "    }\n",
       "\n",
       "    .dataframe thead th {\n",
       "        text-align: right;\n",
       "    }\n",
       "</style>\n",
       "<table border=\"1\" class=\"dataframe\">\n",
       "  <thead>\n",
       "    <tr style=\"text-align: right;\">\n",
       "      <th></th>\n",
       "      <th>npo_operation_date</th>\n",
       "      <th>SUM</th>\n",
       "    </tr>\n",
       "  </thead>\n",
       "  <tbody>\n",
       "    <tr>\n",
       "      <th>0</th>\n",
       "      <td>1993Q1</td>\n",
       "      <td>112.972067</td>\n",
       "    </tr>\n",
       "    <tr>\n",
       "      <th>1</th>\n",
       "      <td>1993Q2</td>\n",
       "      <td>146.103513</td>\n",
       "    </tr>\n",
       "    <tr>\n",
       "      <th>2</th>\n",
       "      <td>1993Q3</td>\n",
       "      <td>146.669804</td>\n",
       "    </tr>\n",
       "    <tr>\n",
       "      <th>3</th>\n",
       "      <td>1993Q4</td>\n",
       "      <td>169.333497</td>\n",
       "    </tr>\n",
       "    <tr>\n",
       "      <th>4</th>\n",
       "      <td>1994Q1</td>\n",
       "      <td>198.030727</td>\n",
       "    </tr>\n",
       "    <tr>\n",
       "      <th>...</th>\n",
       "      <td>...</td>\n",
       "      <td>...</td>\n",
       "    </tr>\n",
       "    <tr>\n",
       "      <th>113</th>\n",
       "      <td>2021Q2</td>\n",
       "      <td>13175.294367</td>\n",
       "    </tr>\n",
       "    <tr>\n",
       "      <th>114</th>\n",
       "      <td>2021Q3</td>\n",
       "      <td>9907.425179</td>\n",
       "    </tr>\n",
       "    <tr>\n",
       "      <th>115</th>\n",
       "      <td>2021Q4</td>\n",
       "      <td>9988.651250</td>\n",
       "    </tr>\n",
       "    <tr>\n",
       "      <th>116</th>\n",
       "      <td>2022Q1</td>\n",
       "      <td>3984.050973</td>\n",
       "    </tr>\n",
       "    <tr>\n",
       "      <th>117</th>\n",
       "      <td>2022Q2</td>\n",
       "      <td>761.739340</td>\n",
       "    </tr>\n",
       "  </tbody>\n",
       "</table>\n",
       "<p>118 rows × 2 columns</p>\n",
       "</div>"
      ],
      "text/plain": [
       "    npo_operation_date           SUM\n",
       "0               1993Q1    112.972067\n",
       "1               1993Q2    146.103513\n",
       "2               1993Q3    146.669804\n",
       "3               1993Q4    169.333497\n",
       "4               1994Q1    198.030727\n",
       "..                 ...           ...\n",
       "113             2021Q2  13175.294367\n",
       "114             2021Q3   9907.425179\n",
       "115             2021Q4   9988.651250\n",
       "116             2022Q1   3984.050973\n",
       "117             2022Q2    761.739340\n",
       "\n",
       "[118 rows x 2 columns]"
      ]
     },
     "execution_count": 47,
     "metadata": {},
     "output_type": "execute_result"
    }
   ],
   "source": [
    "d.groupby('npo_operation_date').agg({'SUM':'max'}).reset_index()"
   ]
  },
  {
   "cell_type": "code",
   "execution_count": 52,
   "id": "69f76b68",
   "metadata": {},
   "outputs": [],
   "source": [
    "import seaborn as sns"
   ]
  },
  {
   "cell_type": "code",
   "execution_count": 62,
   "id": "12baeb48",
   "metadata": {
    "scrolled": true
   },
   "outputs": [
    {
     "data": {
      "text/html": [
       "<div>\n",
       "<style scoped>\n",
       "    .dataframe tbody tr th:only-of-type {\n",
       "        vertical-align: middle;\n",
       "    }\n",
       "\n",
       "    .dataframe tbody tr th {\n",
       "        vertical-align: top;\n",
       "    }\n",
       "\n",
       "    .dataframe thead th {\n",
       "        text-align: right;\n",
       "    }\n",
       "</style>\n",
       "<table border=\"1\" class=\"dataframe\">\n",
       "  <thead>\n",
       "    <tr style=\"text-align: right;\">\n",
       "      <th></th>\n",
       "      <th>npo_accnt_id</th>\n",
       "      <th>npo_operation_date</th>\n",
       "      <th>COUNT</th>\n",
       "      <th>SUM</th>\n",
       "      <th>target</th>\n",
       "    </tr>\n",
       "  </thead>\n",
       "  <tbody>\n",
       "    <tr>\n",
       "      <th>0</th>\n",
       "      <td>0x0000132B2D126446B3E105530BA834B9</td>\n",
       "      <td>2007Q4</td>\n",
       "      <td>3</td>\n",
       "      <td>11170.70</td>\n",
       "      <td>3723.566667</td>\n",
       "    </tr>\n",
       "    <tr>\n",
       "      <th>1</th>\n",
       "      <td>0x0000132B2D126446B3E105530BA834B9</td>\n",
       "      <td>2008Q1</td>\n",
       "      <td>3</td>\n",
       "      <td>10524.92</td>\n",
       "      <td>3508.306667</td>\n",
       "    </tr>\n",
       "    <tr>\n",
       "      <th>2</th>\n",
       "      <td>0x0000132B2D126446B3E105530BA834B9</td>\n",
       "      <td>2008Q2</td>\n",
       "      <td>3</td>\n",
       "      <td>7063.38</td>\n",
       "      <td>2354.460000</td>\n",
       "    </tr>\n",
       "    <tr>\n",
       "      <th>3</th>\n",
       "      <td>0x0000132B2D126446B3E105530BA834B9</td>\n",
       "      <td>2008Q3</td>\n",
       "      <td>3</td>\n",
       "      <td>11463.29</td>\n",
       "      <td>3821.096667</td>\n",
       "    </tr>\n",
       "    <tr>\n",
       "      <th>4</th>\n",
       "      <td>0x0000132B2D126446B3E105530BA834B9</td>\n",
       "      <td>2008Q4</td>\n",
       "      <td>3</td>\n",
       "      <td>9866.99</td>\n",
       "      <td>3288.996667</td>\n",
       "    </tr>\n",
       "    <tr>\n",
       "      <th>...</th>\n",
       "      <td>...</td>\n",
       "      <td>...</td>\n",
       "      <td>...</td>\n",
       "      <td>...</td>\n",
       "      <td>...</td>\n",
       "    </tr>\n",
       "    <tr>\n",
       "      <th>3316705</th>\n",
       "      <td>0xFFFFF59735AAF14E9DABA46C84CAD40B</td>\n",
       "      <td>2021Q1</td>\n",
       "      <td>3</td>\n",
       "      <td>17308.09</td>\n",
       "      <td>5769.363333</td>\n",
       "    </tr>\n",
       "    <tr>\n",
       "      <th>3316706</th>\n",
       "      <td>0xFFFFF59735AAF14E9DABA46C84CAD40B</td>\n",
       "      <td>2021Q2</td>\n",
       "      <td>4</td>\n",
       "      <td>34002.61</td>\n",
       "      <td>8500.652500</td>\n",
       "    </tr>\n",
       "    <tr>\n",
       "      <th>3316707</th>\n",
       "      <td>0xFFFFF59735AAF14E9DABA46C84CAD40B</td>\n",
       "      <td>2021Q3</td>\n",
       "      <td>3</td>\n",
       "      <td>13900.61</td>\n",
       "      <td>4633.536667</td>\n",
       "    </tr>\n",
       "    <tr>\n",
       "      <th>3316708</th>\n",
       "      <td>0xFFFFF59735AAF14E9DABA46C84CAD40B</td>\n",
       "      <td>2021Q4</td>\n",
       "      <td>3</td>\n",
       "      <td>14341.05</td>\n",
       "      <td>4780.350000</td>\n",
       "    </tr>\n",
       "    <tr>\n",
       "      <th>3316709</th>\n",
       "      <td>0xFFFFF59735AAF14E9DABA46C84CAD40B</td>\n",
       "      <td>2022Q1</td>\n",
       "      <td>1</td>\n",
       "      <td>4361.70</td>\n",
       "      <td>4361.700000</td>\n",
       "    </tr>\n",
       "  </tbody>\n",
       "</table>\n",
       "<p>3316710 rows × 5 columns</p>\n",
       "</div>"
      ],
      "text/plain": [
       "                               npo_accnt_id npo_operation_date  COUNT  \\\n",
       "0        0x0000132B2D126446B3E105530BA834B9             2007Q4      3   \n",
       "1        0x0000132B2D126446B3E105530BA834B9             2008Q1      3   \n",
       "2        0x0000132B2D126446B3E105530BA834B9             2008Q2      3   \n",
       "3        0x0000132B2D126446B3E105530BA834B9             2008Q3      3   \n",
       "4        0x0000132B2D126446B3E105530BA834B9             2008Q4      3   \n",
       "...                                     ...                ...    ...   \n",
       "3316705  0xFFFFF59735AAF14E9DABA46C84CAD40B             2021Q1      3   \n",
       "3316706  0xFFFFF59735AAF14E9DABA46C84CAD40B             2021Q2      4   \n",
       "3316707  0xFFFFF59735AAF14E9DABA46C84CAD40B             2021Q3      3   \n",
       "3316708  0xFFFFF59735AAF14E9DABA46C84CAD40B             2021Q4      3   \n",
       "3316709  0xFFFFF59735AAF14E9DABA46C84CAD40B             2022Q1      1   \n",
       "\n",
       "              SUM       target  \n",
       "0        11170.70  3723.566667  \n",
       "1        10524.92  3508.306667  \n",
       "2         7063.38  2354.460000  \n",
       "3        11463.29  3821.096667  \n",
       "4         9866.99  3288.996667  \n",
       "...           ...          ...  \n",
       "3316705  17308.09  5769.363333  \n",
       "3316706  34002.61  8500.652500  \n",
       "3316707  13900.61  4633.536667  \n",
       "3316708  14341.05  4780.350000  \n",
       "3316709   4361.70  4361.700000  \n",
       "\n",
       "[3316710 rows x 5 columns]"
      ]
     },
     "execution_count": 62,
     "metadata": {},
     "output_type": "execute_result"
    }
   ],
   "source": [
    "d"
   ]
  },
  {
   "cell_type": "code",
   "execution_count": 68,
   "id": "ac117d41",
   "metadata": {
    "scrolled": true
   },
   "outputs": [
    {
     "data": {
      "text/html": [
       "<div>\n",
       "<style scoped>\n",
       "    .dataframe tbody tr th:only-of-type {\n",
       "        vertical-align: middle;\n",
       "    }\n",
       "\n",
       "    .dataframe tbody tr th {\n",
       "        vertical-align: top;\n",
       "    }\n",
       "\n",
       "    .dataframe thead th {\n",
       "        text-align: right;\n",
       "    }\n",
       "</style>\n",
       "<table border=\"1\" class=\"dataframe\">\n",
       "  <thead>\n",
       "    <tr style=\"text-align: right;\">\n",
       "      <th></th>\n",
       "      <th>npo_operation_date</th>\n",
       "      <th>target</th>\n",
       "    </tr>\n",
       "  </thead>\n",
       "  <tbody>\n",
       "    <tr>\n",
       "      <th>0</th>\n",
       "      <td>1993Q1</td>\n",
       "      <td>98.408576</td>\n",
       "    </tr>\n",
       "    <tr>\n",
       "      <th>1</th>\n",
       "      <td>1993Q2</td>\n",
       "      <td>115.627318</td>\n",
       "    </tr>\n",
       "    <tr>\n",
       "      <th>2</th>\n",
       "      <td>1993Q3</td>\n",
       "      <td>115.065464</td>\n",
       "    </tr>\n",
       "    <tr>\n",
       "      <th>3</th>\n",
       "      <td>1993Q4</td>\n",
       "      <td>130.326090</td>\n",
       "    </tr>\n",
       "    <tr>\n",
       "      <th>4</th>\n",
       "      <td>1994Q1</td>\n",
       "      <td>152.606265</td>\n",
       "    </tr>\n",
       "    <tr>\n",
       "      <th>...</th>\n",
       "      <td>...</td>\n",
       "      <td>...</td>\n",
       "    </tr>\n",
       "    <tr>\n",
       "      <th>113</th>\n",
       "      <td>2021Q2</td>\n",
       "      <td>4332.492140</td>\n",
       "    </tr>\n",
       "    <tr>\n",
       "      <th>114</th>\n",
       "      <td>2021Q3</td>\n",
       "      <td>3413.591836</td>\n",
       "    </tr>\n",
       "    <tr>\n",
       "      <th>115</th>\n",
       "      <td>2021Q4</td>\n",
       "      <td>3478.196424</td>\n",
       "    </tr>\n",
       "    <tr>\n",
       "      <th>116</th>\n",
       "      <td>2022Q1</td>\n",
       "      <td>3457.060255</td>\n",
       "    </tr>\n",
       "    <tr>\n",
       "      <th>117</th>\n",
       "      <td>2022Q2</td>\n",
       "      <td>704.320650</td>\n",
       "    </tr>\n",
       "  </tbody>\n",
       "</table>\n",
       "<p>118 rows × 2 columns</p>\n",
       "</div>"
      ],
      "text/plain": [
       "    npo_operation_date       target\n",
       "0               1993Q1    98.408576\n",
       "1               1993Q2   115.627318\n",
       "2               1993Q3   115.065464\n",
       "3               1993Q4   130.326090\n",
       "4               1994Q1   152.606265\n",
       "..                 ...          ...\n",
       "113             2021Q2  4332.492140\n",
       "114             2021Q3  3413.591836\n",
       "115             2021Q4  3478.196424\n",
       "116             2022Q1  3457.060255\n",
       "117             2022Q2   704.320650\n",
       "\n",
       "[118 rows x 2 columns]"
      ]
     },
     "execution_count": 68,
     "metadata": {},
     "output_type": "execute_result"
    }
   ],
   "source": [
    "d.groupby('npo_operation_date').agg({'target':'mean'}).reset_index()"
   ]
  },
  {
   "cell_type": "code",
   "execution_count": 71,
   "id": "493f7058",
   "metadata": {},
   "outputs": [
    {
     "data": {
      "text/plain": [
       "0      1993Q1\n",
       "1      1993Q2\n",
       "2      1993Q3\n",
       "3      1993Q4\n",
       "4      1994Q1\n",
       "        ...  \n",
       "113    2021Q2\n",
       "114    2021Q3\n",
       "115    2021Q4\n",
       "116    2022Q1\n",
       "117    2022Q2\n",
       "Name: npo_operation_date, Length: 118, dtype: period[Q-DEC]"
      ]
     },
     "execution_count": 71,
     "metadata": {},
     "output_type": "execute_result"
    }
   ],
   "source": [
    "df.npo_operation_date"
   ]
  },
  {
   "cell_type": "code",
   "execution_count": 85,
   "id": "8a709b3b",
   "metadata": {},
   "outputs": [
    {
     "data": {
      "text/plain": [
       "[<matplotlib.lines.Line2D at 0x7f7846cfac10>]"
      ]
     },
     "execution_count": 85,
     "metadata": {},
     "output_type": "execute_result"
    },
    {
     "data": {
      "image/png": "[encoded data removed]",
      "text/plain": [
       "<Figure size 640x480 with 1 Axes>"
      ]
     },
     "metadata": {},
     "output_type": "display_data"
    }
   ],
   "source": [
    "df = d.groupby('npo_operation_date').agg({'target':'mean'}).reset_index()\n",
    "labels = np.array(df.npo_operation_date.astype(str))\n",
    "plt.xticks(ticks = range(0,len(labels), 16), labels = labels[::16])\n",
    "plt.plot(df.target)"
   ]
  },
  {
   "cell_type": "code",
   "execution_count": 100,
   "id": "20142306",
   "metadata": {},
   "outputs": [
    {
     "data": {
      "text/plain": [
       "[<matplotlib.lines.Line2D at 0x7f788f12c580>]"
      ]
     },
     "execution_count": 100,
     "metadata": {},
     "output_type": "execute_result"
    },
    {
     "data": {
      "image/png": "[encoded data removed]",
      "text/plain": [
       "<Figure size 640x480 with 1 Axes>"
      ]
     },
     "metadata": {},
     "output_type": "display_data"
    }
   ],
   "source": [
    "df = d[(d.npo_operation_date > '1998Q1') & (d.npo_operation_date < '2005Q1')]\n",
    "df = df.groupby('npo_operation_date').agg({'target':'mean'}).reset_index()\n",
    "labels = np.array(df.npo_operation_date.astype(str))\n",
    "plt.xticks(ticks = range(0,len(labels), 4), labels = labels[::4])\n",
    "plt.plot(df.target)"
   ]
  },
  {
   "cell_type": "code",
   "execution_count": 102,
   "id": "b20e497a",
   "metadata": {},
   "outputs": [
    {
     "data": {
      "text/plain": [
       "[<matplotlib.lines.Line2D at 0x7f77d0018ee0>]"
      ]
     },
     "execution_count": 102,
     "metadata": {},
     "output_type": "execute_result"
    },
    {
     "data": {
      "image/png": "[encoded data removed]",
      "text/plain": [
       "<Figure size 640x480 with 1 Axes>"
      ]
     },
     "metadata": {},
     "output_type": "display_data"
    }
   ],
   "source": [
    "df = d[(d.npo_operation_date > '2019Q1') & (d.npo_operation_date < '2022Q1')]\n",
    "df = df.groupby('npo_operation_date').agg({'target':'mean'}).reset_index()\n",
    "labels = np.array(df.npo_operation_date.astype(str))\n",
    "plt.xticks(ticks = range(0,len(labels), 4), labels = labels[::4])\n",
    "plt.plot(df.target)"
   ]
  },
  {
   "cell_type": "code",
   "execution_count": 113,
   "id": "c3072013",
   "metadata": {
    "scrolled": false
   },
   "outputs": [
    {
     "data": {
      "text/plain": [
       "17721604.8"
      ]
     },
     "execution_count": 113,
     "metadata": {},
     "output_type": "execute_result"
    }
   ],
   "source": [
    "d[(d.npo_operation_date > '1998Q1') & (d.npo_operation_date < '2005Q1')].groupby('npo_accnt_id').agg({'SUM':'sum'}).reset_index().SUM.max()"
   ]
  },
  {
   "cell_type": "code",
   "execution_count": 124,
   "id": "a368d062",
   "metadata": {},
   "outputs": [
    {
     "data": {
      "text/html": [
       "<div>\n",
       "<style scoped>\n",
       "    .dataframe tbody tr th:only-of-type {\n",
       "        vertical-align: middle;\n",
       "    }\n",
       "\n",
       "    .dataframe tbody tr th {\n",
       "        vertical-align: top;\n",
       "    }\n",
       "\n",
       "    .dataframe thead th {\n",
       "        text-align: right;\n",
       "    }\n",
       "</style>\n",
       "<table border=\"1\" class=\"dataframe\">\n",
       "  <thead>\n",
       "    <tr style=\"text-align: right;\">\n",
       "      <th></th>\n",
       "      <th>npo_accnt_id</th>\n",
       "      <th>npo_operation_date</th>\n",
       "      <th>COUNT</th>\n",
       "      <th>SUM</th>\n",
       "      <th>target</th>\n",
       "    </tr>\n",
       "  </thead>\n",
       "  <tbody>\n",
       "    <tr>\n",
       "      <th>1012926</th>\n",
       "      <td>0x500DEFBF8F1E1D489D73B92284A8472E</td>\n",
       "      <td>2002Q3</td>\n",
       "      <td>2</td>\n",
       "      <td>17721604.8</td>\n",
       "      <td>8860802.4</td>\n",
       "    </tr>\n",
       "  </tbody>\n",
       "</table>\n",
       "</div>"
      ],
      "text/plain": [
       "                               npo_accnt_id npo_operation_date  COUNT  \\\n",
       "1012926  0x500DEFBF8F1E1D489D73B92284A8472E             2002Q3      2   \n",
       "\n",
       "                SUM     target  \n",
       "1012926  17721604.8  8860802.4  "
      ]
     },
     "execution_count": 124,
     "metadata": {},
     "output_type": "execute_result"
    }
   ],
   "source": [
    "d[d.SUM == 17721604.8]"
   ]
  },
  {
   "cell_type": "code",
   "execution_count": 62,
   "id": "b1f9e582",
   "metadata": {},
   "outputs": [
    {
     "data": {
      "text/html": [
       "<div>\n",
       "<style scoped>\n",
       "    .dataframe tbody tr th:only-of-type {\n",
       "        vertical-align: middle;\n",
       "    }\n",
       "\n",
       "    .dataframe tbody tr th {\n",
       "        vertical-align: top;\n",
       "    }\n",
       "\n",
       "    .dataframe thead th {\n",
       "        text-align: right;\n",
       "    }\n",
       "</style>\n",
       "<table border=\"1\" class=\"dataframe\">\n",
       "  <thead>\n",
       "    <tr style=\"text-align: right;\">\n",
       "      <th></th>\n",
       "      <th>clnt_id</th>\n",
       "      <th>gndr</th>\n",
       "      <th>slctn_nmbr</th>\n",
       "      <th>age</th>\n",
       "      <th>brth_yr</th>\n",
       "      <th>pstl_code</th>\n",
       "      <th>city</th>\n",
       "    </tr>\n",
       "  </thead>\n",
       "  <tbody>\n",
       "    <tr>\n",
       "      <th>36864</th>\n",
       "      <td>0xEAAB32E1C919964594789ACF95B18229</td>\n",
       "      <td>0.0</td>\n",
       "      <td>1</td>\n",
       "      <td>84.0</td>\n",
       "      <td>1939.0</td>\n",
       "      <td>117418.0</td>\n",
       "      <td>1</td>\n",
       "    </tr>\n",
       "  </tbody>\n",
       "</table>\n",
       "</div>"
      ],
      "text/plain": [
       "                                  clnt_id  gndr  slctn_nmbr   age  brth_yr  \\\n",
       "36864  0xEAAB32E1C919964594789ACF95B18229   0.0           1  84.0   1939.0   \n",
       "\n",
       "      pstl_code  city  \n",
       "36864  117418.0     1  "
      ]
     },
     "execution_count": 62,
     "metadata": {},
     "output_type": "execute_result"
    }
   ],
   "source": [
    "npo_clients[npo_clients.clnt_id == '0xEAAB32E1C919964594789ACF95B18229']"
   ]
  },
  {
   "cell_type": "code",
   "execution_count": 61,
   "id": "ff44572a",
   "metadata": {
    "scrolled": true
   },
   "outputs": [
    {
     "data": {
      "text/html": [
       "<div>\n",
       "<style scoped>\n",
       "    .dataframe tbody tr th:only-of-type {\n",
       "        vertical-align: middle;\n",
       "    }\n",
       "\n",
       "    .dataframe tbody tr th {\n",
       "        vertical-align: top;\n",
       "    }\n",
       "\n",
       "    .dataframe thead th {\n",
       "        text-align: right;\n",
       "    }\n",
       "</style>\n",
       "<table border=\"1\" class=\"dataframe\">\n",
       "  <thead>\n",
       "    <tr style=\"text-align: right;\">\n",
       "      <th></th>\n",
       "      <th>npo_accnt_id</th>\n",
       "      <th>clnt_id</th>\n",
       "      <th>accnt_pnsn_schm</th>\n",
       "      <th>slctn_nmbr</th>\n",
       "      <th>npo_accnt_status</th>\n",
       "      <th>npo_accnt_status_date</th>\n",
       "      <th>npo_blnc</th>\n",
       "      <th>npo_pmnts_sum</th>\n",
       "      <th>npo_pmnts_nmbr</th>\n",
       "      <th>npo_frst_pmnt_date</th>\n",
       "      <th>npo_lst_pmnt_date</th>\n",
       "      <th>npo_ttl_incm</th>\n",
       "    </tr>\n",
       "  </thead>\n",
       "  <tbody>\n",
       "    <tr>\n",
       "      <th>197576</th>\n",
       "      <td>0x500DEFBF8F1E1D489D73B92284A8472E</td>\n",
       "      <td>0xEAAB32E1C919964594789ACF95B18229</td>\n",
       "      <td>32.0</td>\n",
       "      <td>1</td>\n",
       "      <td>0</td>\n",
       "      <td>2021-03-12</td>\n",
       "      <td>NaN</td>\n",
       "      <td>17721604.8</td>\n",
       "      <td>2.0</td>\n",
       "      <td>2002-08-31</td>\n",
       "      <td>2002-09-12</td>\n",
       "      <td>31731959.99</td>\n",
       "    </tr>\n",
       "  </tbody>\n",
       "</table>\n",
       "</div>"
      ],
      "text/plain": [
       "                              npo_accnt_id  \\\n",
       "197576  0x500DEFBF8F1E1D489D73B92284A8472E   \n",
       "\n",
       "                                   clnt_id  accnt_pnsn_schm  slctn_nmbr  \\\n",
       "197576  0xEAAB32E1C919964594789ACF95B18229             32.0           1   \n",
       "\n",
       "        npo_accnt_status npo_accnt_status_date  npo_blnc  npo_pmnts_sum  \\\n",
       "197576                 0            2021-03-12       NaN     17721604.8   \n",
       "\n",
       "        npo_pmnts_nmbr npo_frst_pmnt_date npo_lst_pmnt_date  npo_ttl_incm  \n",
       "197576             2.0         2002-08-31        2002-09-12   31731959.99  "
      ]
     },
     "execution_count": 61,
     "metadata": {},
     "output_type": "execute_result"
    }
   ],
   "source": [
    "npo_cntrbtrs[npo_cntrbtrs.npo_accnt_id == '0x500DEFBF8F1E1D489D73B92284A8472E']"
   ]
  },
  {
   "cell_type": "code",
   "execution_count": 131,
   "id": "fb7282b7",
   "metadata": {},
   "outputs": [
    {
     "data": {
      "text/plain": [
       "count    3.316710e+06\n",
       "mean     1.207102e+04\n",
       "std      6.087838e+06\n",
       "min     -2.308037e+06\n",
       "5%       2.439000e+02\n",
       "50%      2.439000e+03\n",
       "95%      1.767614e+04\n",
       "max      8.584059e+09\n",
       "Name: SUM, dtype: float64"
      ]
     },
     "execution_count": 131,
     "metadata": {},
     "output_type": "execute_result"
    }
   ],
   "source": [
    "d.SUM.describe(percentiles = [0.05, 0.95])"
   ]
  },
  {
   "cell_type": "code",
   "execution_count": 134,
   "id": "b23c1919",
   "metadata": {},
   "outputs": [
    {
     "data": {
      "text/plain": [
       "0.000470345613574898"
      ]
     },
     "execution_count": 134,
     "metadata": {},
     "output_type": "execute_result"
    }
   ],
   "source": [
    "d[d.SUM < 0].shape[0] / d.shape[0]"
   ]
  },
  {
   "cell_type": "code",
   "execution_count": 55,
   "id": "1ef7377b",
   "metadata": {},
   "outputs": [
    {
     "data": {
      "text/html": [
       "<div>\n",
       "<style scoped>\n",
       "    .dataframe tbody tr th:only-of-type {\n",
       "        vertical-align: middle;\n",
       "    }\n",
       "\n",
       "    .dataframe tbody tr th {\n",
       "        vertical-align: top;\n",
       "    }\n",
       "\n",
       "    .dataframe thead th {\n",
       "        text-align: right;\n",
       "    }\n",
       "</style>\n",
       "<table border=\"1\" class=\"dataframe\">\n",
       "  <thead>\n",
       "    <tr style=\"text-align: right;\">\n",
       "      <th></th>\n",
       "      <th>npo_accnt_id</th>\n",
       "      <th>clnt_id</th>\n",
       "      <th>accnt_pnsn_schm</th>\n",
       "      <th>slctn_nmbr</th>\n",
       "      <th>npo_accnt_status</th>\n",
       "      <th>npo_accnt_status_date</th>\n",
       "      <th>npo_blnc</th>\n",
       "      <th>npo_pmnts_sum</th>\n",
       "      <th>npo_pmnts_nmbr</th>\n",
       "      <th>npo_frst_pmnt_date</th>\n",
       "      <th>npo_lst_pmnt_date</th>\n",
       "      <th>npo_ttl_incm</th>\n",
       "    </tr>\n",
       "  </thead>\n",
       "  <tbody>\n",
       "    <tr>\n",
       "      <th>208827</th>\n",
       "      <td>0x6CD8CDFA8C119147A4676C83463889DD</td>\n",
       "      <td>0x836FE7E08FF0C745A38C603AD42D41D0</td>\n",
       "      <td>3.0</td>\n",
       "      <td>2</td>\n",
       "      <td>1</td>\n",
       "      <td>2013-02-02</td>\n",
       "      <td>24111.01</td>\n",
       "      <td>14270.87</td>\n",
       "      <td>11.0</td>\n",
       "      <td>2013-02-02</td>\n",
       "      <td>2014-01-03</td>\n",
       "      <td>9840.13</td>\n",
       "    </tr>\n",
       "  </tbody>\n",
       "</table>\n",
       "</div>"
      ],
      "text/plain": [
       "                              npo_accnt_id  \\\n",
       "208827  0x6CD8CDFA8C119147A4676C83463889DD   \n",
       "\n",
       "                                   clnt_id  accnt_pnsn_schm  slctn_nmbr  \\\n",
       "208827  0x836FE7E08FF0C745A38C603AD42D41D0              3.0           2   \n",
       "\n",
       "        npo_accnt_status npo_accnt_status_date  npo_blnc  npo_pmnts_sum  \\\n",
       "208827                 1            2013-02-02  24111.01       14270.87   \n",
       "\n",
       "        npo_pmnts_nmbr npo_frst_pmnt_date npo_lst_pmnt_date  npo_ttl_incm  \n",
       "208827            11.0         2013-02-02        2014-01-03       9840.13  "
      ]
     },
     "execution_count": 55,
     "metadata": {},
     "output_type": "execute_result"
    }
   ],
   "source": [
    "npo_cntrbtrs[npo_cntrbtrs.npo_accnt_id == '0x6CD8CDFA8C119147A4676C83463889DD']"
   ]
  },
  {
   "cell_type": "code",
   "execution_count": 65,
   "id": "ff58a1eb",
   "metadata": {},
   "outputs": [
    {
     "data": {
      "text/html": [
       "<div>\n",
       "<style scoped>\n",
       "    .dataframe tbody tr th:only-of-type {\n",
       "        vertical-align: middle;\n",
       "    }\n",
       "\n",
       "    .dataframe tbody tr th {\n",
       "        vertical-align: top;\n",
       "    }\n",
       "\n",
       "    .dataframe thead th {\n",
       "        text-align: right;\n",
       "    }\n",
       "</style>\n",
       "<table border=\"1\" class=\"dataframe\">\n",
       "  <thead>\n",
       "    <tr style=\"text-align: right;\">\n",
       "      <th></th>\n",
       "      <th>npo_accnt_id</th>\n",
       "      <th>npo_sum</th>\n",
       "      <th>slctn_nmbr</th>\n",
       "      <th>npo_operation_date</th>\n",
       "      <th>npo_operation_group</th>\n",
       "    </tr>\n",
       "  </thead>\n",
       "  <tbody>\n",
       "    <tr>\n",
       "      <th>0</th>\n",
       "      <td>0x05C7DF8BA2611640BE946E29CF20C6D2</td>\n",
       "      <td>1626.01</td>\n",
       "      <td>0</td>\n",
       "      <td>2011-11-11</td>\n",
       "      <td>0</td>\n",
       "    </tr>\n",
       "    <tr>\n",
       "      <th>2</th>\n",
       "      <td>0x05C7DF8BA2611640BE946E29CF20C6D2</td>\n",
       "      <td>1626.01</td>\n",
       "      <td>0</td>\n",
       "      <td>2007-03-12</td>\n",
       "      <td>0</td>\n",
       "    </tr>\n",
       "    <tr>\n",
       "      <th>4</th>\n",
       "      <td>0x05C7DF8BA2611640BE946E29CF20C6D2</td>\n",
       "      <td>1626.01</td>\n",
       "      <td>0</td>\n",
       "      <td>2016-11-05</td>\n",
       "      <td>0</td>\n",
       "    </tr>\n",
       "    <tr>\n",
       "      <th>5</th>\n",
       "      <td>0x05C7DF8BA2611640BE946E29CF20C6D2</td>\n",
       "      <td>1626.01</td>\n",
       "      <td>0</td>\n",
       "      <td>2009-06-11</td>\n",
       "      <td>0</td>\n",
       "    </tr>\n",
       "    <tr>\n",
       "      <th>6</th>\n",
       "      <td>0x05C7DF8BA2611640BE946E29CF20C6D2</td>\n",
       "      <td>1626.01</td>\n",
       "      <td>0</td>\n",
       "      <td>2012-04-06</td>\n",
       "      <td>0</td>\n",
       "    </tr>\n",
       "    <tr>\n",
       "      <th>...</th>\n",
       "      <td>...</td>\n",
       "      <td>...</td>\n",
       "      <td>...</td>\n",
       "      <td>...</td>\n",
       "      <td>...</td>\n",
       "    </tr>\n",
       "    <tr>\n",
       "      <th>12325087</th>\n",
       "      <td>0xA62B005056964A2C11EDAEA5ABE1DCC0</td>\n",
       "      <td>81.30</td>\n",
       "      <td>2</td>\n",
       "      <td>2021-10-17</td>\n",
       "      <td>0</td>\n",
       "    </tr>\n",
       "    <tr>\n",
       "      <th>12325089</th>\n",
       "      <td>0xA62F005056964A2C11EDFABDF4B3E06D</td>\n",
       "      <td>5038.70</td>\n",
       "      <td>2</td>\n",
       "      <td>2022-01-10</td>\n",
       "      <td>0</td>\n",
       "    </tr>\n",
       "    <tr>\n",
       "      <th>12325091</th>\n",
       "      <td>0xA62F005056964A2C11EDF615B8E951D8</td>\n",
       "      <td>1945.85</td>\n",
       "      <td>2</td>\n",
       "      <td>2022-01-09</td>\n",
       "      <td>0</td>\n",
       "    </tr>\n",
       "    <tr>\n",
       "      <th>12325094</th>\n",
       "      <td>0xA62F005056964A2C11EDF0C687A20274</td>\n",
       "      <td>6189.23</td>\n",
       "      <td>2</td>\n",
       "      <td>2022-01-09</td>\n",
       "      <td>0</td>\n",
       "    </tr>\n",
       "    <tr>\n",
       "      <th>12325095</th>\n",
       "      <td>0xA62F005056964A2C11EDEFD03BBDD8A2</td>\n",
       "      <td>3375.78</td>\n",
       "      <td>2</td>\n",
       "      <td>2022-01-03</td>\n",
       "      <td>0</td>\n",
       "    </tr>\n",
       "  </tbody>\n",
       "</table>\n",
       "<p>9711822 rows × 5 columns</p>\n",
       "</div>"
      ],
      "text/plain": [
       "                                npo_accnt_id  npo_sum  slctn_nmbr  \\\n",
       "0         0x05C7DF8BA2611640BE946E29CF20C6D2  1626.01           0   \n",
       "2         0x05C7DF8BA2611640BE946E29CF20C6D2  1626.01           0   \n",
       "4         0x05C7DF8BA2611640BE946E29CF20C6D2  1626.01           0   \n",
       "5         0x05C7DF8BA2611640BE946E29CF20C6D2  1626.01           0   \n",
       "6         0x05C7DF8BA2611640BE946E29CF20C6D2  1626.01           0   \n",
       "...                                      ...      ...         ...   \n",
       "12325087  0xA62B005056964A2C11EDAEA5ABE1DCC0    81.30           2   \n",
       "12325089  0xA62F005056964A2C11EDFABDF4B3E06D  5038.70           2   \n",
       "12325091  0xA62F005056964A2C11EDF615B8E951D8  1945.85           2   \n",
       "12325094  0xA62F005056964A2C11EDF0C687A20274  6189.23           2   \n",
       "12325095  0xA62F005056964A2C11EDEFD03BBDD8A2  3375.78           2   \n",
       "\n",
       "         npo_operation_date  npo_operation_group  \n",
       "0                2011-11-11                    0  \n",
       "2                2007-03-12                    0  \n",
       "4                2016-11-05                    0  \n",
       "5                2009-06-11                    0  \n",
       "6                2012-04-06                    0  \n",
       "...                     ...                  ...  \n",
       "12325087         2021-10-17                    0  \n",
       "12325089         2022-01-10                    0  \n",
       "12325091         2022-01-09                    0  \n",
       "12325094         2022-01-09                    0  \n",
       "12325095         2022-01-03                    0  \n",
       "\n",
       "[9711822 rows x 5 columns]"
      ]
     },
     "execution_count": 65,
     "metadata": {},
     "output_type": "execute_result"
    }
   ],
   "source": [
    "npo_trnsctns"
   ]
  },
  {
   "cell_type": "code",
   "execution_count": 68,
   "id": "b0cde049",
   "metadata": {},
   "outputs": [
    {
     "data": {
      "text/html": [
       "<div>\n",
       "<style scoped>\n",
       "    .dataframe tbody tr th:only-of-type {\n",
       "        vertical-align: middle;\n",
       "    }\n",
       "\n",
       "    .dataframe tbody tr th {\n",
       "        vertical-align: top;\n",
       "    }\n",
       "\n",
       "    .dataframe thead th {\n",
       "        text-align: right;\n",
       "    }\n",
       "</style>\n",
       "<table border=\"1\" class=\"dataframe\">\n",
       "  <thead>\n",
       "    <tr style=\"text-align: right;\">\n",
       "      <th></th>\n",
       "      <th>npo_accnt_id</th>\n",
       "      <th>npo_operation_date</th>\n",
       "      <th>slctn_nmbr</th>\n",
       "      <th>npo_sum</th>\n",
       "    </tr>\n",
       "  </thead>\n",
       "  <tbody>\n",
       "    <tr>\n",
       "      <th>0</th>\n",
       "      <td>0x0000132B2D126446B3E105530BA834B9</td>\n",
       "      <td>2007Q4</td>\n",
       "      <td>3</td>\n",
       "      <td>11170.70</td>\n",
       "    </tr>\n",
       "    <tr>\n",
       "      <th>1</th>\n",
       "      <td>0x0000132B2D126446B3E105530BA834B9</td>\n",
       "      <td>2008Q1</td>\n",
       "      <td>3</td>\n",
       "      <td>10524.92</td>\n",
       "    </tr>\n",
       "    <tr>\n",
       "      <th>2</th>\n",
       "      <td>0x0000132B2D126446B3E105530BA834B9</td>\n",
       "      <td>2008Q2</td>\n",
       "      <td>3</td>\n",
       "      <td>7063.38</td>\n",
       "    </tr>\n",
       "    <tr>\n",
       "      <th>3</th>\n",
       "      <td>0x0000132B2D126446B3E105530BA834B9</td>\n",
       "      <td>2008Q3</td>\n",
       "      <td>3</td>\n",
       "      <td>11463.29</td>\n",
       "    </tr>\n",
       "    <tr>\n",
       "      <th>4</th>\n",
       "      <td>0x0000132B2D126446B3E105530BA834B9</td>\n",
       "      <td>2008Q4</td>\n",
       "      <td>3</td>\n",
       "      <td>9866.99</td>\n",
       "    </tr>\n",
       "    <tr>\n",
       "      <th>...</th>\n",
       "      <td>...</td>\n",
       "      <td>...</td>\n",
       "      <td>...</td>\n",
       "      <td>...</td>\n",
       "    </tr>\n",
       "    <tr>\n",
       "      <th>3316705</th>\n",
       "      <td>0xFFFFF59735AAF14E9DABA46C84CAD40B</td>\n",
       "      <td>2021Q1</td>\n",
       "      <td>3</td>\n",
       "      <td>17308.09</td>\n",
       "    </tr>\n",
       "    <tr>\n",
       "      <th>3316706</th>\n",
       "      <td>0xFFFFF59735AAF14E9DABA46C84CAD40B</td>\n",
       "      <td>2021Q2</td>\n",
       "      <td>4</td>\n",
       "      <td>34002.61</td>\n",
       "    </tr>\n",
       "    <tr>\n",
       "      <th>3316707</th>\n",
       "      <td>0xFFFFF59735AAF14E9DABA46C84CAD40B</td>\n",
       "      <td>2021Q3</td>\n",
       "      <td>3</td>\n",
       "      <td>13900.61</td>\n",
       "    </tr>\n",
       "    <tr>\n",
       "      <th>3316708</th>\n",
       "      <td>0xFFFFF59735AAF14E9DABA46C84CAD40B</td>\n",
       "      <td>2021Q4</td>\n",
       "      <td>3</td>\n",
       "      <td>14341.05</td>\n",
       "    </tr>\n",
       "    <tr>\n",
       "      <th>3316709</th>\n",
       "      <td>0xFFFFF59735AAF14E9DABA46C84CAD40B</td>\n",
       "      <td>2022Q1</td>\n",
       "      <td>1</td>\n",
       "      <td>4361.70</td>\n",
       "    </tr>\n",
       "  </tbody>\n",
       "</table>\n",
       "<p>3316710 rows × 4 columns</p>\n",
       "</div>"
      ],
      "text/plain": [
       "                               npo_accnt_id npo_operation_date  slctn_nmbr  \\\n",
       "0        0x0000132B2D126446B3E105530BA834B9             2007Q4           3   \n",
       "1        0x0000132B2D126446B3E105530BA834B9             2008Q1           3   \n",
       "2        0x0000132B2D126446B3E105530BA834B9             2008Q2           3   \n",
       "3        0x0000132B2D126446B3E105530BA834B9             2008Q3           3   \n",
       "4        0x0000132B2D126446B3E105530BA834B9             2008Q4           3   \n",
       "...                                     ...                ...         ...   \n",
       "3316705  0xFFFFF59735AAF14E9DABA46C84CAD40B             2021Q1           3   \n",
       "3316706  0xFFFFF59735AAF14E9DABA46C84CAD40B             2021Q2           4   \n",
       "3316707  0xFFFFF59735AAF14E9DABA46C84CAD40B             2021Q3           3   \n",
       "3316708  0xFFFFF59735AAF14E9DABA46C84CAD40B             2021Q4           3   \n",
       "3316709  0xFFFFF59735AAF14E9DABA46C84CAD40B             2022Q1           1   \n",
       "\n",
       "          npo_sum  \n",
       "0        11170.70  \n",
       "1        10524.92  \n",
       "2         7063.38  \n",
       "3        11463.29  \n",
       "4         9866.99  \n",
       "...           ...  \n",
       "3316705  17308.09  \n",
       "3316706  34002.61  \n",
       "3316707  13900.61  \n",
       "3316708  14341.05  \n",
       "3316709   4361.70  \n",
       "\n",
       "[3316710 rows x 4 columns]"
      ]
     },
     "execution_count": 68,
     "metadata": {},
     "output_type": "execute_result"
    }
   ],
   "source": [
    "d"
   ]
  },
  {
   "cell_type": "code",
   "execution_count": 69,
   "id": "579baee1",
   "metadata": {},
   "outputs": [],
   "source": [
    "d['target'] = d.npo_sum / d.slctn_nmbr"
   ]
  },
  {
   "cell_type": "code",
   "execution_count": 77,
   "id": "aed6e2d1",
   "metadata": {},
   "outputs": [
    {
     "data": {
      "text/plain": [
       "((1560, 5), (3312353, 5), (2797, 5))"
      ]
     },
     "execution_count": 77,
     "metadata": {},
     "output_type": "execute_result"
    }
   ],
   "source": [
    "d[d.target < 0].shape, d[d.target > 0].shape, d[d.target == 0].shape"
   ]
  },
  {
   "cell_type": "code",
   "execution_count": 76,
   "id": "395bca16",
   "metadata": {},
   "outputs": [
    {
     "data": {
      "text/plain": [
       "(3312353, 5)"
      ]
     },
     "execution_count": 76,
     "metadata": {},
     "output_type": "execute_result"
    }
   ],
   "source": [
    "d[d.target > 0].shape"
   ]
  },
  {
   "cell_type": "code",
   "execution_count": 80,
   "id": "f51c65ba",
   "metadata": {},
   "outputs": [
    {
     "data": {
      "text/plain": [
       "1993Q1     1495\n",
       "1993Q2     3117\n",
       "1993Q3     2295\n",
       "1993Q4     1853\n",
       "1994Q1     1251\n",
       "          ...  \n",
       "2021Q2    43071\n",
       "2021Q3    43380\n",
       "2021Q4    44128\n",
       "2022Q1    40550\n",
       "2022Q2     3440\n",
       "Freq: Q-DEC, Name: npo_operation_date, Length: 118, dtype: int64"
      ]
     },
     "execution_count": 80,
     "metadata": {},
     "output_type": "execute_result"
    }
   ],
   "source": [
    "d.npo_operation_date.value_counts().sort_index()"
   ]
  },
  {
   "cell_type": "code",
   "execution_count": 83,
   "id": "52e3d86a",
   "metadata": {},
   "outputs": [],
   "source": [
    "d = d.rename(columns={'slctn_nmbr':'COUNT', 'npo_sum':'SUM', 'target':'TARGET'})"
   ]
  },
  {
   "cell_type": "code",
   "execution_count": 84,
   "id": "9a04c092",
   "metadata": {},
   "outputs": [
    {
     "data": {
      "text/html": [
       "<div>\n",
       "<style scoped>\n",
       "    .dataframe tbody tr th:only-of-type {\n",
       "        vertical-align: middle;\n",
       "    }\n",
       "\n",
       "    .dataframe tbody tr th {\n",
       "        vertical-align: top;\n",
       "    }\n",
       "\n",
       "    .dataframe thead th {\n",
       "        text-align: right;\n",
       "    }\n",
       "</style>\n",
       "<table border=\"1\" class=\"dataframe\">\n",
       "  <thead>\n",
       "    <tr style=\"text-align: right;\">\n",
       "      <th></th>\n",
       "      <th>npo_accnt_id</th>\n",
       "      <th>npo_operation_date</th>\n",
       "      <th>COUNT</th>\n",
       "      <th>SUM</th>\n",
       "      <th>TARGET</th>\n",
       "    </tr>\n",
       "  </thead>\n",
       "  <tbody>\n",
       "    <tr>\n",
       "      <th>0</th>\n",
       "      <td>0x0000132B2D126446B3E105530BA834B9</td>\n",
       "      <td>2007Q4</td>\n",
       "      <td>3</td>\n",
       "      <td>11170.70</td>\n",
       "      <td>3723.566667</td>\n",
       "    </tr>\n",
       "    <tr>\n",
       "      <th>1</th>\n",
       "      <td>0x0000132B2D126446B3E105530BA834B9</td>\n",
       "      <td>2008Q1</td>\n",
       "      <td>3</td>\n",
       "      <td>10524.92</td>\n",
       "      <td>3508.306667</td>\n",
       "    </tr>\n",
       "    <tr>\n",
       "      <th>2</th>\n",
       "      <td>0x0000132B2D126446B3E105530BA834B9</td>\n",
       "      <td>2008Q2</td>\n",
       "      <td>3</td>\n",
       "      <td>7063.38</td>\n",
       "      <td>2354.460000</td>\n",
       "    </tr>\n",
       "    <tr>\n",
       "      <th>3</th>\n",
       "      <td>0x0000132B2D126446B3E105530BA834B9</td>\n",
       "      <td>2008Q3</td>\n",
       "      <td>3</td>\n",
       "      <td>11463.29</td>\n",
       "      <td>3821.096667</td>\n",
       "    </tr>\n",
       "    <tr>\n",
       "      <th>4</th>\n",
       "      <td>0x0000132B2D126446B3E105530BA834B9</td>\n",
       "      <td>2008Q4</td>\n",
       "      <td>3</td>\n",
       "      <td>9866.99</td>\n",
       "      <td>3288.996667</td>\n",
       "    </tr>\n",
       "    <tr>\n",
       "      <th>...</th>\n",
       "      <td>...</td>\n",
       "      <td>...</td>\n",
       "      <td>...</td>\n",
       "      <td>...</td>\n",
       "      <td>...</td>\n",
       "    </tr>\n",
       "    <tr>\n",
       "      <th>3316705</th>\n",
       "      <td>0xFFFFF59735AAF14E9DABA46C84CAD40B</td>\n",
       "      <td>2021Q1</td>\n",
       "      <td>3</td>\n",
       "      <td>17308.09</td>\n",
       "      <td>5769.363333</td>\n",
       "    </tr>\n",
       "    <tr>\n",
       "      <th>3316706</th>\n",
       "      <td>0xFFFFF59735AAF14E9DABA46C84CAD40B</td>\n",
       "      <td>2021Q2</td>\n",
       "      <td>4</td>\n",
       "      <td>34002.61</td>\n",
       "      <td>8500.652500</td>\n",
       "    </tr>\n",
       "    <tr>\n",
       "      <th>3316707</th>\n",
       "      <td>0xFFFFF59735AAF14E9DABA46C84CAD40B</td>\n",
       "      <td>2021Q3</td>\n",
       "      <td>3</td>\n",
       "      <td>13900.61</td>\n",
       "      <td>4633.536667</td>\n",
       "    </tr>\n",
       "    <tr>\n",
       "      <th>3316708</th>\n",
       "      <td>0xFFFFF59735AAF14E9DABA46C84CAD40B</td>\n",
       "      <td>2021Q4</td>\n",
       "      <td>3</td>\n",
       "      <td>14341.05</td>\n",
       "      <td>4780.350000</td>\n",
       "    </tr>\n",
       "    <tr>\n",
       "      <th>3316709</th>\n",
       "      <td>0xFFFFF59735AAF14E9DABA46C84CAD40B</td>\n",
       "      <td>2022Q1</td>\n",
       "      <td>1</td>\n",
       "      <td>4361.70</td>\n",
       "      <td>4361.700000</td>\n",
       "    </tr>\n",
       "  </tbody>\n",
       "</table>\n",
       "<p>3316710 rows × 5 columns</p>\n",
       "</div>"
      ],
      "text/plain": [
       "                               npo_accnt_id npo_operation_date  COUNT  \\\n",
       "0        0x0000132B2D126446B3E105530BA834B9             2007Q4      3   \n",
       "1        0x0000132B2D126446B3E105530BA834B9             2008Q1      3   \n",
       "2        0x0000132B2D126446B3E105530BA834B9             2008Q2      3   \n",
       "3        0x0000132B2D126446B3E105530BA834B9             2008Q3      3   \n",
       "4        0x0000132B2D126446B3E105530BA834B9             2008Q4      3   \n",
       "...                                     ...                ...    ...   \n",
       "3316705  0xFFFFF59735AAF14E9DABA46C84CAD40B             2021Q1      3   \n",
       "3316706  0xFFFFF59735AAF14E9DABA46C84CAD40B             2021Q2      4   \n",
       "3316707  0xFFFFF59735AAF14E9DABA46C84CAD40B             2021Q3      3   \n",
       "3316708  0xFFFFF59735AAF14E9DABA46C84CAD40B             2021Q4      3   \n",
       "3316709  0xFFFFF59735AAF14E9DABA46C84CAD40B             2022Q1      1   \n",
       "\n",
       "              SUM       TARGET  \n",
       "0        11170.70  3723.566667  \n",
       "1        10524.92  3508.306667  \n",
       "2         7063.38  2354.460000  \n",
       "3        11463.29  3821.096667  \n",
       "4         9866.99  3288.996667  \n",
       "...           ...          ...  \n",
       "3316705  17308.09  5769.363333  \n",
       "3316706  34002.61  8500.652500  \n",
       "3316707  13900.61  4633.536667  \n",
       "3316708  14341.05  4780.350000  \n",
       "3316709   4361.70  4361.700000  \n",
       "\n",
       "[3316710 rows x 5 columns]"
      ]
     },
     "execution_count": 84,
     "metadata": {},
     "output_type": "execute_result"
    }
   ],
   "source": [
    "d"
   ]
  },
  {
   "cell_type": "code",
   "execution_count": 86,
   "id": "fc91ea1d",
   "metadata": {},
   "outputs": [
    {
     "data": {
      "text/plain": [
       "count    3.316710e+06\n",
       "mean     1.207102e+04\n",
       "std      6.087838e+06\n",
       "min     -2.308037e+06\n",
       "25%      7.317000e+02\n",
       "50%      2.439000e+03\n",
       "75%      6.010703e+03\n",
       "max      8.584059e+09\n",
       "Name: SUM, dtype: float64"
      ]
     },
     "execution_count": 86,
     "metadata": {},
     "output_type": "execute_result"
    }
   ],
   "source": [
    "d.SUM.describe()"
   ]
  },
  {
   "cell_type": "code",
   "execution_count": 88,
   "id": "c5a068e0",
   "metadata": {},
   "outputs": [
    {
     "data": {
      "text/plain": [
       "((1560, 5), (3312353, 5), (2797, 5))"
      ]
     },
     "execution_count": 88,
     "metadata": {},
     "output_type": "execute_result"
    }
   ],
   "source": [
    "d[d.TARGET < 0].shape, d[d.TARGET > 0].shape, d[d.TARGET == 0].shape"
   ]
  },
  {
   "cell_type": "code",
   "execution_count": 95,
   "id": "0b03e2ce",
   "metadata": {},
   "outputs": [
    {
     "data": {
      "text/plain": [
       "0.0013136511784268144"
      ]
     },
     "execution_count": 95,
     "metadata": {},
     "output_type": "execute_result"
    }
   ],
   "source": [
    "d[d.TARGET <= 0].shape[0] / d.TARGET.shape[0]"
   ]
  },
  {
   "cell_type": "code",
   "execution_count": 90,
   "id": "9d18db82",
   "metadata": {},
   "outputs": [
    {
     "name": "stderr",
     "output_type": "stream",
     "text": [
      "/var/folders/d_/x_4_5nfx3m960gnd3stdgfwh0000gn/T/ipykernel_10932/2097120463.py:1: UserWarning: Boolean Series key will be reindexed to match DataFrame index.\n",
      "  d[d.TARGET < 0][d.npo_accnt_id == '0x0007EBCFDCF2E542A6F977245A12E464']\n"
     ]
    },
    {
     "data": {
      "text/html": [
       "<div>\n",
       "<style scoped>\n",
       "    .dataframe tbody tr th:only-of-type {\n",
       "        vertical-align: middle;\n",
       "    }\n",
       "\n",
       "    .dataframe tbody tr th {\n",
       "        vertical-align: top;\n",
       "    }\n",
       "\n",
       "    .dataframe thead th {\n",
       "        text-align: right;\n",
       "    }\n",
       "</style>\n",
       "<table border=\"1\" class=\"dataframe\">\n",
       "  <thead>\n",
       "    <tr style=\"text-align: right;\">\n",
       "      <th></th>\n",
       "      <th>npo_accnt_id</th>\n",
       "      <th>npo_operation_date</th>\n",
       "      <th>COUNT</th>\n",
       "      <th>SUM</th>\n",
       "      <th>TARGET</th>\n",
       "    </tr>\n",
       "  </thead>\n",
       "  <tbody>\n",
       "    <tr>\n",
       "      <th>499</th>\n",
       "      <td>0x0007EBCFDCF2E542A6F977245A12E464</td>\n",
       "      <td>2017Q2</td>\n",
       "      <td>1</td>\n",
       "      <td>-9.88</td>\n",
       "      <td>-9.88</td>\n",
       "    </tr>\n",
       "  </tbody>\n",
       "</table>\n",
       "</div>"
      ],
      "text/plain": [
       "                           npo_accnt_id npo_operation_date  COUNT   SUM  \\\n",
       "499  0x0007EBCFDCF2E542A6F977245A12E464             2017Q2      1 -9.88   \n",
       "\n",
       "     TARGET  \n",
       "499   -9.88  "
      ]
     },
     "execution_count": 90,
     "metadata": {},
     "output_type": "execute_result"
    }
   ],
   "source": [
    "d[d.TARGET < 0][d.npo_accnt_id == '0x0007EBCFDCF2E542A6F977245A12E464']"
   ]
  },
  {
   "cell_type": "code",
   "execution_count": 92,
   "id": "740d33f3",
   "metadata": {},
   "outputs": [
    {
     "data": {
      "text/html": [
       "<div>\n",
       "<style scoped>\n",
       "    .dataframe tbody tr th:only-of-type {\n",
       "        vertical-align: middle;\n",
       "    }\n",
       "\n",
       "    .dataframe tbody tr th {\n",
       "        vertical-align: top;\n",
       "    }\n",
       "\n",
       "    .dataframe thead th {\n",
       "        text-align: right;\n",
       "    }\n",
       "</style>\n",
       "<table border=\"1\" class=\"dataframe\">\n",
       "  <thead>\n",
       "    <tr style=\"text-align: right;\">\n",
       "      <th></th>\n",
       "      <th>npo_accnt_id</th>\n",
       "      <th>npo_sum</th>\n",
       "      <th>slctn_nmbr</th>\n",
       "      <th>npo_operation_date</th>\n",
       "      <th>npo_operation_group</th>\n",
       "    </tr>\n",
       "  </thead>\n",
       "  <tbody>\n",
       "    <tr>\n",
       "      <th>12298909</th>\n",
       "      <td>0x0007EBCFDCF2E542A6F977245A12E464</td>\n",
       "      <td>16715.44</td>\n",
       "      <td>2</td>\n",
       "      <td>2010-09-16</td>\n",
       "      <td>0</td>\n",
       "    </tr>\n",
       "    <tr>\n",
       "      <th>12298910</th>\n",
       "      <td>0x0007EBCFDCF2E542A6F977245A12E464</td>\n",
       "      <td>-9.88</td>\n",
       "      <td>2</td>\n",
       "      <td>2017-05-02</td>\n",
       "      <td>0</td>\n",
       "    </tr>\n",
       "  </tbody>\n",
       "</table>\n",
       "</div>"
      ],
      "text/plain": [
       "                                npo_accnt_id   npo_sum  slctn_nmbr  \\\n",
       "12298909  0x0007EBCFDCF2E542A6F977245A12E464  16715.44           2   \n",
       "12298910  0x0007EBCFDCF2E542A6F977245A12E464     -9.88           2   \n",
       "\n",
       "         npo_operation_date  npo_operation_group  \n",
       "12298909         2010-09-16                    0  \n",
       "12298910         2017-05-02                    0  "
      ]
     },
     "execution_count": 92,
     "metadata": {},
     "output_type": "execute_result"
    }
   ],
   "source": [
    "npo_trnsctns[npo_trnsctns.npo_accnt_id == '0x0007EBCFDCF2E542A6F977245A12E464']"
   ]
  },
  {
   "cell_type": "code",
   "execution_count": 103,
   "id": "4a74dbaa",
   "metadata": {},
   "outputs": [],
   "source": [
    "f = d[d.TARGET > 0].rename(columns = {'npo_operation_date':'QUARTAL'})"
   ]
  },
  {
   "cell_type": "code",
   "execution_count": 104,
   "id": "ce2a05d9",
   "metadata": {},
   "outputs": [
    {
     "data": {
      "text/html": [
       "<div>\n",
       "<style scoped>\n",
       "    .dataframe tbody tr th:only-of-type {\n",
       "        vertical-align: middle;\n",
       "    }\n",
       "\n",
       "    .dataframe tbody tr th {\n",
       "        vertical-align: top;\n",
       "    }\n",
       "\n",
       "    .dataframe thead th {\n",
       "        text-align: right;\n",
       "    }\n",
       "</style>\n",
       "<table border=\"1\" class=\"dataframe\">\n",
       "  <thead>\n",
       "    <tr style=\"text-align: right;\">\n",
       "      <th></th>\n",
       "      <th>npo_accnt_id</th>\n",
       "      <th>QUARTAL</th>\n",
       "      <th>COUNT</th>\n",
       "      <th>SUM</th>\n",
       "      <th>TARGET</th>\n",
       "    </tr>\n",
       "  </thead>\n",
       "  <tbody>\n",
       "    <tr>\n",
       "      <th>0</th>\n",
       "      <td>0x0000132B2D126446B3E105530BA834B9</td>\n",
       "      <td>2007Q4</td>\n",
       "      <td>3</td>\n",
       "      <td>11170.70</td>\n",
       "      <td>3723.566667</td>\n",
       "    </tr>\n",
       "    <tr>\n",
       "      <th>1</th>\n",
       "      <td>0x0000132B2D126446B3E105530BA834B9</td>\n",
       "      <td>2008Q1</td>\n",
       "      <td>3</td>\n",
       "      <td>10524.92</td>\n",
       "      <td>3508.306667</td>\n",
       "    </tr>\n",
       "    <tr>\n",
       "      <th>2</th>\n",
       "      <td>0x0000132B2D126446B3E105530BA834B9</td>\n",
       "      <td>2008Q2</td>\n",
       "      <td>3</td>\n",
       "      <td>7063.38</td>\n",
       "      <td>2354.460000</td>\n",
       "    </tr>\n",
       "    <tr>\n",
       "      <th>3</th>\n",
       "      <td>0x0000132B2D126446B3E105530BA834B9</td>\n",
       "      <td>2008Q3</td>\n",
       "      <td>3</td>\n",
       "      <td>11463.29</td>\n",
       "      <td>3821.096667</td>\n",
       "    </tr>\n",
       "    <tr>\n",
       "      <th>4</th>\n",
       "      <td>0x0000132B2D126446B3E105530BA834B9</td>\n",
       "      <td>2008Q4</td>\n",
       "      <td>3</td>\n",
       "      <td>9866.99</td>\n",
       "      <td>3288.996667</td>\n",
       "    </tr>\n",
       "    <tr>\n",
       "      <th>...</th>\n",
       "      <td>...</td>\n",
       "      <td>...</td>\n",
       "      <td>...</td>\n",
       "      <td>...</td>\n",
       "      <td>...</td>\n",
       "    </tr>\n",
       "    <tr>\n",
       "      <th>3316705</th>\n",
       "      <td>0xFFFFF59735AAF14E9DABA46C84CAD40B</td>\n",
       "      <td>2021Q1</td>\n",
       "      <td>3</td>\n",
       "      <td>17308.09</td>\n",
       "      <td>5769.363333</td>\n",
       "    </tr>\n",
       "    <tr>\n",
       "      <th>3316706</th>\n",
       "      <td>0xFFFFF59735AAF14E9DABA46C84CAD40B</td>\n",
       "      <td>2021Q2</td>\n",
       "      <td>4</td>\n",
       "      <td>34002.61</td>\n",
       "      <td>8500.652500</td>\n",
       "    </tr>\n",
       "    <tr>\n",
       "      <th>3316707</th>\n",
       "      <td>0xFFFFF59735AAF14E9DABA46C84CAD40B</td>\n",
       "      <td>2021Q3</td>\n",
       "      <td>3</td>\n",
       "      <td>13900.61</td>\n",
       "      <td>4633.536667</td>\n",
       "    </tr>\n",
       "    <tr>\n",
       "      <th>3316708</th>\n",
       "      <td>0xFFFFF59735AAF14E9DABA46C84CAD40B</td>\n",
       "      <td>2021Q4</td>\n",
       "      <td>3</td>\n",
       "      <td>14341.05</td>\n",
       "      <td>4780.350000</td>\n",
       "    </tr>\n",
       "    <tr>\n",
       "      <th>3316709</th>\n",
       "      <td>0xFFFFF59735AAF14E9DABA46C84CAD40B</td>\n",
       "      <td>2022Q1</td>\n",
       "      <td>1</td>\n",
       "      <td>4361.70</td>\n",
       "      <td>4361.700000</td>\n",
       "    </tr>\n",
       "  </tbody>\n",
       "</table>\n",
       "<p>3312353 rows × 5 columns</p>\n",
       "</div>"
      ],
      "text/plain": [
       "                               npo_accnt_id QUARTAL  COUNT       SUM  \\\n",
       "0        0x0000132B2D126446B3E105530BA834B9  2007Q4      3  11170.70   \n",
       "1        0x0000132B2D126446B3E105530BA834B9  2008Q1      3  10524.92   \n",
       "2        0x0000132B2D126446B3E105530BA834B9  2008Q2      3   7063.38   \n",
       "3        0x0000132B2D126446B3E105530BA834B9  2008Q3      3  11463.29   \n",
       "4        0x0000132B2D126446B3E105530BA834B9  2008Q4      3   9866.99   \n",
       "...                                     ...     ...    ...       ...   \n",
       "3316705  0xFFFFF59735AAF14E9DABA46C84CAD40B  2021Q1      3  17308.09   \n",
       "3316706  0xFFFFF59735AAF14E9DABA46C84CAD40B  2021Q2      4  34002.61   \n",
       "3316707  0xFFFFF59735AAF14E9DABA46C84CAD40B  2021Q3      3  13900.61   \n",
       "3316708  0xFFFFF59735AAF14E9DABA46C84CAD40B  2021Q4      3  14341.05   \n",
       "3316709  0xFFFFF59735AAF14E9DABA46C84CAD40B  2022Q1      1   4361.70   \n",
       "\n",
       "              TARGET  \n",
       "0        3723.566667  \n",
       "1        3508.306667  \n",
       "2        2354.460000  \n",
       "3        3821.096667  \n",
       "4        3288.996667  \n",
       "...              ...  \n",
       "3316705  5769.363333  \n",
       "3316706  8500.652500  \n",
       "3316707  4633.536667  \n",
       "3316708  4780.350000  \n",
       "3316709  4361.700000  \n",
       "\n",
       "[3312353 rows x 5 columns]"
      ]
     },
     "execution_count": 104,
     "metadata": {},
     "output_type": "execute_result"
    }
   ],
   "source": [
    "f"
   ]
  },
  {
   "cell_type": "code",
   "execution_count": 107,
   "id": "9650af1f",
   "metadata": {},
   "outputs": [],
   "source": [
    "f[['npo_accnt_id','QUARTAL','COUNT','TARGET']].reset_index(drop=True).to_feather(r'./target.frt')"
   ]
  },
  {
   "cell_type": "code",
   "execution_count": 111,
   "id": "5b80416c",
   "metadata": {},
   "outputs": [
    {
     "data": {
      "text/html": [
       "<div>\n",
       "<style scoped>\n",
       "    .dataframe tbody tr th:only-of-type {\n",
       "        vertical-align: middle;\n",
       "    }\n",
       "\n",
       "    .dataframe tbody tr th {\n",
       "        vertical-align: top;\n",
       "    }\n",
       "\n",
       "    .dataframe thead th {\n",
       "        text-align: right;\n",
       "    }\n",
       "</style>\n",
       "<table border=\"1\" class=\"dataframe\">\n",
       "  <thead>\n",
       "    <tr style=\"text-align: right;\">\n",
       "      <th></th>\n",
       "      <th>COUNT</th>\n",
       "      <th>SUM</th>\n",
       "      <th>TARGET</th>\n",
       "    </tr>\n",
       "  </thead>\n",
       "  <tbody>\n",
       "    <tr>\n",
       "      <th>count</th>\n",
       "      <td>3.312353e+06</td>\n",
       "      <td>3.312353e+06</td>\n",
       "      <td>3.312353e+06</td>\n",
       "    </tr>\n",
       "    <tr>\n",
       "      <th>mean</th>\n",
       "      <td>2.929638e+00</td>\n",
       "      <td>1.208837e+04</td>\n",
       "      <td>4.942080e+03</td>\n",
       "    </tr>\n",
       "    <tr>\n",
       "      <th>std</th>\n",
       "      <td>9.110069e-01</td>\n",
       "      <td>6.091840e+06</td>\n",
       "      <td>4.719716e+06</td>\n",
       "    </tr>\n",
       "    <tr>\n",
       "      <th>min</th>\n",
       "      <td>1.000000e+00</td>\n",
       "      <td>1.000000e-02</td>\n",
       "      <td>1.000000e-02</td>\n",
       "    </tr>\n",
       "    <tr>\n",
       "      <th>25%</th>\n",
       "      <td>3.000000e+00</td>\n",
       "      <td>7.317000e+02</td>\n",
       "      <td>2.556233e+02</td>\n",
       "    </tr>\n",
       "    <tr>\n",
       "      <th>50%</th>\n",
       "      <td>3.000000e+00</td>\n",
       "      <td>2.439000e+03</td>\n",
       "      <td>8.246833e+02</td>\n",
       "    </tr>\n",
       "    <tr>\n",
       "      <th>75%</th>\n",
       "      <td>3.000000e+00</td>\n",
       "      <td>6.017930e+03</td>\n",
       "      <td>2.061410e+03</td>\n",
       "    </tr>\n",
       "    <tr>\n",
       "      <th>max</th>\n",
       "      <td>2.480000e+02</td>\n",
       "      <td>8.584059e+09</td>\n",
       "      <td>8.584059e+09</td>\n",
       "    </tr>\n",
       "  </tbody>\n",
       "</table>\n",
       "</div>"
      ],
      "text/plain": [
       "              COUNT           SUM        TARGET\n",
       "count  3.312353e+06  3.312353e+06  3.312353e+06\n",
       "mean   2.929638e+00  1.208837e+04  4.942080e+03\n",
       "std    9.110069e-01  6.091840e+06  4.719716e+06\n",
       "min    1.000000e+00  1.000000e-02  1.000000e-02\n",
       "25%    3.000000e+00  7.317000e+02  2.556233e+02\n",
       "50%    3.000000e+00  2.439000e+03  8.246833e+02\n",
       "75%    3.000000e+00  6.017930e+03  2.061410e+03\n",
       "max    2.480000e+02  8.584059e+09  8.584059e+09"
      ]
     },
     "execution_count": 111,
     "metadata": {},
     "output_type": "execute_result"
    }
   ],
   "source": [
    "f.describe()"
   ]
  },
  {
   "cell_type": "code",
   "execution_count": 99,
   "id": "515f1fb0",
   "metadata": {},
   "outputs": [
    {
     "data": {
      "text/plain": [
       "Period('2007Q4', 'Q-DEC')"
      ]
     },
     "execution_count": 99,
     "metadata": {},
     "output_type": "execute_result"
    }
   ],
   "source": [
    "f.npo_operation_date[0]"
   ]
  },
  {
   "cell_type": "code",
   "execution_count": 112,
   "id": "b68d4f63",
   "metadata": {},
   "outputs": [
    {
     "data": {
      "text/html": [
       "<div>\n",
       "<style scoped>\n",
       "    .dataframe tbody tr th:only-of-type {\n",
       "        vertical-align: middle;\n",
       "    }\n",
       "\n",
       "    .dataframe tbody tr th {\n",
       "        vertical-align: top;\n",
       "    }\n",
       "\n",
       "    .dataframe thead th {\n",
       "        text-align: right;\n",
       "    }\n",
       "</style>\n",
       "<table border=\"1\" class=\"dataframe\">\n",
       "  <thead>\n",
       "    <tr style=\"text-align: right;\">\n",
       "      <th></th>\n",
       "      <th>npo_accnt_id</th>\n",
       "      <th>clnt_id</th>\n",
       "      <th>accnt_pnsn_schm</th>\n",
       "      <th>slctn_nmbr</th>\n",
       "      <th>npo_accnt_status</th>\n",
       "      <th>npo_accnt_status_date</th>\n",
       "      <th>npo_blnc</th>\n",
       "      <th>npo_pmnts_sum</th>\n",
       "      <th>npo_pmnts_nmbr</th>\n",
       "      <th>npo_frst_pmnt_date</th>\n",
       "      <th>npo_lst_pmnt_date</th>\n",
       "      <th>npo_ttl_incm</th>\n",
       "    </tr>\n",
       "  </thead>\n",
       "  <tbody>\n",
       "    <tr>\n",
       "      <th>0</th>\n",
       "      <td>0x90B7458B8CBFF24980DEC312BA4A1AF5</td>\n",
       "      <td>0x85390230E8955E4FA736E62B0F0E3844</td>\n",
       "      <td>1.0</td>\n",
       "      <td>0</td>\n",
       "      <td>1</td>\n",
       "      <td>2001-05-14</td>\n",
       "      <td>10158.96</td>\n",
       "      <td>2276.42</td>\n",
       "      <td>1.0</td>\n",
       "      <td>2005-08-31</td>\n",
       "      <td>2005-08-31</td>\n",
       "      <td>5638.83</td>\n",
       "    </tr>\n",
       "    <tr>\n",
       "      <th>1</th>\n",
       "      <td>0xC64D3161D31A8441A65224792D370CB3</td>\n",
       "      <td>0xC2B51FD4FE57F7479210FD7258DF5B0B</td>\n",
       "      <td>3.0</td>\n",
       "      <td>2</td>\n",
       "      <td>0</td>\n",
       "      <td>2018-10-30</td>\n",
       "      <td>NaN</td>\n",
       "      <td>230084.40</td>\n",
       "      <td>55.0</td>\n",
       "      <td>2013-03-07</td>\n",
       "      <td>2017-09-10</td>\n",
       "      <td>39875.30</td>\n",
       "    </tr>\n",
       "    <tr>\n",
       "      <th>2</th>\n",
       "      <td>0xC92F1AA5587E2348BEF17432FBD6C2E6</td>\n",
       "      <td>0x8EC850934FF06A4AA0A856CF43B8D666</td>\n",
       "      <td>4.0</td>\n",
       "      <td>1</td>\n",
       "      <td>0</td>\n",
       "      <td>2014-01-20</td>\n",
       "      <td>NaN</td>\n",
       "      <td>7921.95</td>\n",
       "      <td>8.0</td>\n",
       "      <td>2012-11-26</td>\n",
       "      <td>2013-06-30</td>\n",
       "      <td>207.50</td>\n",
       "    </tr>\n",
       "    <tr>\n",
       "      <th>3</th>\n",
       "      <td>0x8DDD2D186B990F43AD5FC9F5C7124E16</td>\n",
       "      <td>0xAF0A0745F8241548B01C4CDA068C51E8</td>\n",
       "      <td>5.0</td>\n",
       "      <td>0</td>\n",
       "      <td>0</td>\n",
       "      <td>2019-05-30</td>\n",
       "      <td>NaN</td>\n",
       "      <td>8130.08</td>\n",
       "      <td>1.0</td>\n",
       "      <td>2015-08-14</td>\n",
       "      <td>2015-08-14</td>\n",
       "      <td>6866.61</td>\n",
       "    </tr>\n",
       "    <tr>\n",
       "      <th>4</th>\n",
       "      <td>0xA7F12C768A4FB38311E835E81716D8CD</td>\n",
       "      <td>0x943D2C768A4FB38311E65C7B0420641F</td>\n",
       "      <td>7.0</td>\n",
       "      <td>3</td>\n",
       "      <td>1</td>\n",
       "      <td>2007-04-16</td>\n",
       "      <td>NaN</td>\n",
       "      <td>NaN</td>\n",
       "      <td>NaN</td>\n",
       "      <td>NaN</td>\n",
       "      <td>NaN</td>\n",
       "      <td>NaN</td>\n",
       "    </tr>\n",
       "    <tr>\n",
       "      <th>...</th>\n",
       "      <td>...</td>\n",
       "      <td>...</td>\n",
       "      <td>...</td>\n",
       "      <td>...</td>\n",
       "      <td>...</td>\n",
       "      <td>...</td>\n",
       "      <td>...</td>\n",
       "      <td>...</td>\n",
       "      <td>...</td>\n",
       "      <td>...</td>\n",
       "      <td>...</td>\n",
       "      <td>...</td>\n",
       "    </tr>\n",
       "    <tr>\n",
       "      <th>248942</th>\n",
       "      <td>0xBCC44D37FC13140845A0699ED3176332</td>\n",
       "      <td>0x943D2C768A4FB38311E6620FA24FEA7C</td>\n",
       "      <td>89.0</td>\n",
       "      <td>3</td>\n",
       "      <td>1</td>\n",
       "      <td>2022-02-25</td>\n",
       "      <td>813.00</td>\n",
       "      <td>813.00</td>\n",
       "      <td>1.0</td>\n",
       "      <td>2022-02-25</td>\n",
       "      <td>2022-02-25</td>\n",
       "      <td>NaN</td>\n",
       "    </tr>\n",
       "    <tr>\n",
       "      <th>248943</th>\n",
       "      <td>0x8120005056AB57EC11EE46637F6FF1F2</td>\n",
       "      <td>0x8120005056AB57EC11EE457B92B38BD8</td>\n",
       "      <td>33.0</td>\n",
       "      <td>0</td>\n",
       "      <td>1</td>\n",
       "      <td>2022-04-28</td>\n",
       "      <td>894.30</td>\n",
       "      <td>894.30</td>\n",
       "      <td>2.0</td>\n",
       "      <td>2022-04-28</td>\n",
       "      <td>2022-04-29</td>\n",
       "      <td>NaN</td>\n",
       "    </tr>\n",
       "    <tr>\n",
       "      <th>248944</th>\n",
       "      <td>0x8F61B56D1DD804804FDE77B593B577C5</td>\n",
       "      <td>0x8AC1000C2962068211EE0B7C30706716</td>\n",
       "      <td>89.0</td>\n",
       "      <td>3</td>\n",
       "      <td>1</td>\n",
       "      <td>2022-02-13</td>\n",
       "      <td>406.50</td>\n",
       "      <td>406.50</td>\n",
       "      <td>1.0</td>\n",
       "      <td>2022-02-13</td>\n",
       "      <td>2022-02-13</td>\n",
       "      <td>NaN</td>\n",
       "    </tr>\n",
       "    <tr>\n",
       "      <th>248945</th>\n",
       "      <td>0xA4EF00505692D0BC11EE2608583314E2</td>\n",
       "      <td>0x943D2C768A4FB38311E65F808C6C5D73</td>\n",
       "      <td>102.0</td>\n",
       "      <td>3</td>\n",
       "      <td>1</td>\n",
       "      <td>2022-03-18</td>\n",
       "      <td>1626.01</td>\n",
       "      <td>1626.01</td>\n",
       "      <td>2.0</td>\n",
       "      <td>2022-03-18</td>\n",
       "      <td>2022-03-20</td>\n",
       "      <td>NaN</td>\n",
       "    </tr>\n",
       "    <tr>\n",
       "      <th>248946</th>\n",
       "      <td>0xA4F400505692D0BC11EE400B261BE776</td>\n",
       "      <td>0x943D2C768A4FB38311E65DD5103B1C16</td>\n",
       "      <td>89.0</td>\n",
       "      <td>3</td>\n",
       "      <td>1</td>\n",
       "      <td>2022-04-18</td>\n",
       "      <td>4065.04</td>\n",
       "      <td>4065.04</td>\n",
       "      <td>3.0</td>\n",
       "      <td>2022-04-18</td>\n",
       "      <td>2022-04-22</td>\n",
       "      <td>NaN</td>\n",
       "    </tr>\n",
       "  </tbody>\n",
       "</table>\n",
       "<p>230426 rows × 12 columns</p>\n",
       "</div>"
      ],
      "text/plain": [
       "                              npo_accnt_id  \\\n",
       "0       0x90B7458B8CBFF24980DEC312BA4A1AF5   \n",
       "1       0xC64D3161D31A8441A65224792D370CB3   \n",
       "2       0xC92F1AA5587E2348BEF17432FBD6C2E6   \n",
       "3       0x8DDD2D186B990F43AD5FC9F5C7124E16   \n",
       "4       0xA7F12C768A4FB38311E835E81716D8CD   \n",
       "...                                    ...   \n",
       "248942  0xBCC44D37FC13140845A0699ED3176332   \n",
       "248943  0x8120005056AB57EC11EE46637F6FF1F2   \n",
       "248944  0x8F61B56D1DD804804FDE77B593B577C5   \n",
       "248945  0xA4EF00505692D0BC11EE2608583314E2   \n",
       "248946  0xA4F400505692D0BC11EE400B261BE776   \n",
       "\n",
       "                                   clnt_id  accnt_pnsn_schm  slctn_nmbr  \\\n",
       "0       0x85390230E8955E4FA736E62B0F0E3844              1.0           0   \n",
       "1       0xC2B51FD4FE57F7479210FD7258DF5B0B              3.0           2   \n",
       "2       0x8EC850934FF06A4AA0A856CF43B8D666              4.0           1   \n",
       "3       0xAF0A0745F8241548B01C4CDA068C51E8              5.0           0   \n",
       "4       0x943D2C768A4FB38311E65C7B0420641F              7.0           3   \n",
       "...                                    ...              ...         ...   \n",
       "248942  0x943D2C768A4FB38311E6620FA24FEA7C             89.0           3   \n",
       "248943  0x8120005056AB57EC11EE457B92B38BD8             33.0           0   \n",
       "248944  0x8AC1000C2962068211EE0B7C30706716             89.0           3   \n",
       "248945  0x943D2C768A4FB38311E65F808C6C5D73            102.0           3   \n",
       "248946  0x943D2C768A4FB38311E65DD5103B1C16             89.0           3   \n",
       "\n",
       "        npo_accnt_status npo_accnt_status_date  npo_blnc  npo_pmnts_sum  \\\n",
       "0                      1            2001-05-14  10158.96        2276.42   \n",
       "1                      0            2018-10-30       NaN      230084.40   \n",
       "2                      0            2014-01-20       NaN        7921.95   \n",
       "3                      0            2019-05-30       NaN        8130.08   \n",
       "4                      1            2007-04-16       NaN            NaN   \n",
       "...                  ...                   ...       ...            ...   \n",
       "248942                 1            2022-02-25    813.00         813.00   \n",
       "248943                 1            2022-04-28    894.30         894.30   \n",
       "248944                 1            2022-02-13    406.50         406.50   \n",
       "248945                 1            2022-03-18   1626.01        1626.01   \n",
       "248946                 1            2022-04-18   4065.04        4065.04   \n",
       "\n",
       "        npo_pmnts_nmbr npo_frst_pmnt_date npo_lst_pmnt_date  npo_ttl_incm  \n",
       "0                  1.0         2005-08-31        2005-08-31       5638.83  \n",
       "1                 55.0         2013-03-07        2017-09-10      39875.30  \n",
       "2                  8.0         2012-11-26        2013-06-30        207.50  \n",
       "3                  1.0         2015-08-14        2015-08-14       6866.61  \n",
       "4                  NaN                NaN               NaN           NaN  \n",
       "...                ...                ...               ...           ...  \n",
       "248942             1.0         2022-02-25        2022-02-25           NaN  \n",
       "248943             2.0         2022-04-28        2022-04-29           NaN  \n",
       "248944             1.0         2022-02-13        2022-02-13           NaN  \n",
       "248945             2.0         2022-03-18        2022-03-20           NaN  \n",
       "248946             3.0         2022-04-18        2022-04-22           NaN  \n",
       "\n",
       "[230426 rows x 12 columns]"
      ]
     },
     "execution_count": 112,
     "metadata": {},
     "output_type": "execute_result"
    }
   ],
   "source": [
    "npo_cntrbtrs"
   ]
  },
  {
   "cell_type": "code",
   "execution_count": 115,
   "id": "9eaf9bfd",
   "metadata": {},
   "outputs": [
    {
     "data": {
      "text/plain": [
       "True"
      ]
     },
     "execution_count": 115,
     "metadata": {},
     "output_type": "execute_result"
    }
   ],
   "source": [
    "npo_cntrbtrs.clnt_id.nunique() == npo_cntrbtrs.npo_accnt_id.nunique()"
   ]
  },
  {
   "cell_type": "code",
   "execution_count": 118,
   "id": "e02bfc6a",
   "metadata": {},
   "outputs": [
    {
     "data": {
      "text/plain": [
       "3.0      66961\n",
       "2.0      33144\n",
       "1.0      25163\n",
       "15.0     11052\n",
       "23.0      6711\n",
       "         ...  \n",
       "298.0        1\n",
       "293.0        1\n",
       "292.0        1\n",
       "291.0        1\n",
       "375.0        1\n",
       "Name: accnt_pnsn_schm, Length: 353, dtype: int64"
      ]
     },
     "execution_count": 118,
     "metadata": {},
     "output_type": "execute_result"
    }
   ],
   "source": [
    "npo_cntrbtrs.accnt_pnsn_schm.value_counts()"
   ]
  },
  {
   "cell_type": "code",
   "execution_count": 121,
   "id": "dcd7d697",
   "metadata": {},
   "outputs": [],
   "source": [
    "npo_cntrbtrs[['npo_accnt_id', 'clnt_id']].reset_index(drop=True).to_feather(r'./mapper_id.frt')"
   ]
  },
  {
   "cell_type": "code",
   "execution_count": null,
   "id": "bb9b9436",
   "metadata": {},
   "outputs": [],
   "source": []
  },
  {
   "cell_type": "code",
   "execution_count": null,
   "id": "b2c11e0e",
   "metadata": {},
   "outputs": [],
   "source": []
  },
  {
   "cell_type": "code",
   "execution_count": null,
   "id": "7cbbf4f5",
   "metadata": {},
   "outputs": [],
   "source": []
  },
  {
   "cell_type": "code",
   "execution_count": null,
   "id": "8917ad7c",
   "metadata": {},
   "outputs": [],
   "source": []
  },
  {
   "cell_type": "code",
   "execution_count": null,
   "id": "93ee3ddb",
   "metadata": {},
   "outputs": [],
   "source": []
  },
  {
   "cell_type": "code",
   "execution_count": 123,
   "id": "c6cb7484",
   "metadata": {},
   "outputs": [],
   "source": [
    "ids = npo_cntrbtrs.npo_accnt_id.sample(1000)"
   ]
  },
  {
   "cell_type": "code",
   "execution_count": 124,
   "id": "e1f37a65",
   "metadata": {},
   "outputs": [],
   "source": [
    "df2 = npo_cntrbtrs[npo_cntrbtrs.npo_accnt_id.isin(ids)]"
   ]
  },
  {
   "cell_type": "code",
   "execution_count": 125,
   "id": "e9899211",
   "metadata": {},
   "outputs": [],
   "source": [
    "df3 = npo_trnsctns[npo_trnsctns.npo_accnt_id.isin(ids)]"
   ]
  },
  {
   "cell_type": "code",
   "execution_count": 126,
   "id": "62f92042",
   "metadata": {},
   "outputs": [],
   "source": [
    "df1 = npo_clients[npo_clients.clnt_id.isin(df2.clnt_id)]"
   ]
  },
  {
   "cell_type": "code",
   "execution_count": 129,
   "id": "b3c38852",
   "metadata": {},
   "outputs": [
    {
     "data": {
      "text/plain": [
       "((1000, 7), (1000, 12), (40845, 5))"
      ]
     },
     "execution_count": 129,
     "metadata": {},
     "output_type": "execute_result"
    }
   ],
   "source": [
    "df1.shape, df2.shape, df3.shape"
   ]
  },
  {
   "cell_type": "code",
   "execution_count": 130,
   "id": "253497f0",
   "metadata": {},
   "outputs": [
    {
     "ename": "KeyError",
     "evalue": "'accnt_id'",
     "output_type": "error",
     "traceback": [
      "\u001b[0;31m---------------------------------------------------------------------------\u001b[0m",
      "\u001b[0;31mKeyError\u001b[0m                                  Traceback (most recent call last)",
      "\u001b[0;32m/var/folders/d_/x_4_5nfx3m960gnd3stdgfwh0000gn/T/ipykernel_10932/4017268384.py\u001b[0m in \u001b[0;36m<module>\u001b[0;34m\u001b[0m\n\u001b[0;32m----> 1\u001b[0;31m \u001b[0mdf3\u001b[0m\u001b[0;34m.\u001b[0m\u001b[0mmerge\u001b[0m\u001b[0;34m(\u001b[0m\u001b[0mdf2\u001b[0m\u001b[0;34m,\u001b[0m \u001b[0mon\u001b[0m\u001b[0;34m=\u001b[0m\u001b[0;34m'accnt_id'\u001b[0m\u001b[0;34m)\u001b[0m\u001b[0;34m\u001b[0m\u001b[0;34m\u001b[0m\u001b[0m\n\u001b[0m",
      "\u001b[0;32m~/opt/anaconda3/lib/python3.9/site-packages/pandas/core/frame.py\u001b[0m in \u001b[0;36mmerge\u001b[0;34m(self, right, how, on, left_on, right_on, left_index, right_index, sort, suffixes, copy, indicator, validate)\u001b[0m\n\u001b[1;32m   9352\u001b[0m         \u001b[0;32mfrom\u001b[0m \u001b[0mpandas\u001b[0m\u001b[0;34m.\u001b[0m\u001b[0mcore\u001b[0m\u001b[0;34m.\u001b[0m\u001b[0mreshape\u001b[0m\u001b[0;34m.\u001b[0m\u001b[0mmerge\u001b[0m \u001b[0;32mimport\u001b[0m \u001b[0mmerge\u001b[0m\u001b[0;34m\u001b[0m\u001b[0;34m\u001b[0m\u001b[0m\n\u001b[1;32m   9353\u001b[0m \u001b[0;34m\u001b[0m\u001b[0m\n\u001b[0;32m-> 9354\u001b[0;31m         return merge(\n\u001b[0m\u001b[1;32m   9355\u001b[0m             \u001b[0mself\u001b[0m\u001b[0;34m,\u001b[0m\u001b[0;34m\u001b[0m\u001b[0;34m\u001b[0m\u001b[0m\n\u001b[1;32m   9356\u001b[0m             \u001b[0mright\u001b[0m\u001b[0;34m,\u001b[0m\u001b[0;34m\u001b[0m\u001b[0;34m\u001b[0m\u001b[0m\n",
      "\u001b[0;32m~/opt/anaconda3/lib/python3.9/site-packages/pandas/core/reshape/merge.py\u001b[0m in \u001b[0;36mmerge\u001b[0;34m(left, right, how, on, left_on, right_on, left_index, right_index, sort, suffixes, copy, indicator, validate)\u001b[0m\n\u001b[1;32m    105\u001b[0m     \u001b[0mvalidate\u001b[0m\u001b[0;34m:\u001b[0m \u001b[0mstr\u001b[0m \u001b[0;34m|\u001b[0m \u001b[0;32mNone\u001b[0m \u001b[0;34m=\u001b[0m \u001b[0;32mNone\u001b[0m\u001b[0;34m,\u001b[0m\u001b[0;34m\u001b[0m\u001b[0;34m\u001b[0m\u001b[0m\n\u001b[1;32m    106\u001b[0m ) -> DataFrame:\n\u001b[0;32m--> 107\u001b[0;31m     op = _MergeOperation(\n\u001b[0m\u001b[1;32m    108\u001b[0m         \u001b[0mleft\u001b[0m\u001b[0;34m,\u001b[0m\u001b[0;34m\u001b[0m\u001b[0;34m\u001b[0m\u001b[0m\n\u001b[1;32m    109\u001b[0m         \u001b[0mright\u001b[0m\u001b[0;34m,\u001b[0m\u001b[0;34m\u001b[0m\u001b[0;34m\u001b[0m\u001b[0m\n",
      "\u001b[0;32m~/opt/anaconda3/lib/python3.9/site-packages/pandas/core/reshape/merge.py\u001b[0m in \u001b[0;36m__init__\u001b[0;34m(self, left, right, how, on, left_on, right_on, axis, left_index, right_index, sort, suffixes, copy, indicator, validate)\u001b[0m\n\u001b[1;32m    698\u001b[0m             \u001b[0mself\u001b[0m\u001b[0;34m.\u001b[0m\u001b[0mright_join_keys\u001b[0m\u001b[0;34m,\u001b[0m\u001b[0;34m\u001b[0m\u001b[0;34m\u001b[0m\u001b[0m\n\u001b[1;32m    699\u001b[0m             \u001b[0mself\u001b[0m\u001b[0;34m.\u001b[0m\u001b[0mjoin_names\u001b[0m\u001b[0;34m,\u001b[0m\u001b[0;34m\u001b[0m\u001b[0;34m\u001b[0m\u001b[0m\n\u001b[0;32m--> 700\u001b[0;31m         ) = self._get_merge_keys()\n\u001b[0m\u001b[1;32m    701\u001b[0m \u001b[0;34m\u001b[0m\u001b[0m\n\u001b[1;32m    702\u001b[0m         \u001b[0;31m# validate the merge keys dtypes. We may need to coerce\u001b[0m\u001b[0;34m\u001b[0m\u001b[0;34m\u001b[0m\u001b[0m\n",
      "\u001b[0;32m~/opt/anaconda3/lib/python3.9/site-packages/pandas/core/reshape/merge.py\u001b[0m in \u001b[0;36m_get_merge_keys\u001b[0;34m(self)\u001b[0m\n\u001b[1;32m   1095\u001b[0m                     \u001b[0;32mif\u001b[0m \u001b[0;32mnot\u001b[0m \u001b[0mis_rkey\u001b[0m\u001b[0;34m(\u001b[0m\u001b[0mrk\u001b[0m\u001b[0;34m)\u001b[0m\u001b[0;34m:\u001b[0m\u001b[0;34m\u001b[0m\u001b[0;34m\u001b[0m\u001b[0m\n\u001b[1;32m   1096\u001b[0m                         \u001b[0;32mif\u001b[0m \u001b[0mrk\u001b[0m \u001b[0;32mis\u001b[0m \u001b[0;32mnot\u001b[0m \u001b[0;32mNone\u001b[0m\u001b[0;34m:\u001b[0m\u001b[0;34m\u001b[0m\u001b[0;34m\u001b[0m\u001b[0m\n\u001b[0;32m-> 1097\u001b[0;31m                             \u001b[0mright_keys\u001b[0m\u001b[0;34m.\u001b[0m\u001b[0mappend\u001b[0m\u001b[0;34m(\u001b[0m\u001b[0mright\u001b[0m\u001b[0;34m.\u001b[0m\u001b[0m_get_label_or_level_values\u001b[0m\u001b[0;34m(\u001b[0m\u001b[0mrk\u001b[0m\u001b[0;34m)\u001b[0m\u001b[0;34m)\u001b[0m\u001b[0;34m\u001b[0m\u001b[0;34m\u001b[0m\u001b[0m\n\u001b[0m\u001b[1;32m   1098\u001b[0m                         \u001b[0;32melse\u001b[0m\u001b[0;34m:\u001b[0m\u001b[0;34m\u001b[0m\u001b[0;34m\u001b[0m\u001b[0m\n\u001b[1;32m   1099\u001b[0m                             \u001b[0;31m# work-around for merge_asof(right_index=True)\u001b[0m\u001b[0;34m\u001b[0m\u001b[0;34m\u001b[0m\u001b[0m\n",
      "\u001b[0;32m~/opt/anaconda3/lib/python3.9/site-packages/pandas/core/generic.py\u001b[0m in \u001b[0;36m_get_label_or_level_values\u001b[0;34m(self, key, axis)\u001b[0m\n\u001b[1;32m   1838\u001b[0m             \u001b[0mvalues\u001b[0m \u001b[0;34m=\u001b[0m \u001b[0mself\u001b[0m\u001b[0;34m.\u001b[0m\u001b[0maxes\u001b[0m\u001b[0;34m[\u001b[0m\u001b[0maxis\u001b[0m\u001b[0;34m]\u001b[0m\u001b[0;34m.\u001b[0m\u001b[0mget_level_values\u001b[0m\u001b[0;34m(\u001b[0m\u001b[0mkey\u001b[0m\u001b[0;34m)\u001b[0m\u001b[0;34m.\u001b[0m\u001b[0m_values\u001b[0m\u001b[0;34m\u001b[0m\u001b[0;34m\u001b[0m\u001b[0m\n\u001b[1;32m   1839\u001b[0m         \u001b[0;32melse\u001b[0m\u001b[0;34m:\u001b[0m\u001b[0;34m\u001b[0m\u001b[0;34m\u001b[0m\u001b[0m\n\u001b[0;32m-> 1840\u001b[0;31m             \u001b[0;32mraise\u001b[0m \u001b[0mKeyError\u001b[0m\u001b[0;34m(\u001b[0m\u001b[0mkey\u001b[0m\u001b[0;34m)\u001b[0m\u001b[0;34m\u001b[0m\u001b[0;34m\u001b[0m\u001b[0m\n\u001b[0m\u001b[1;32m   1841\u001b[0m \u001b[0;34m\u001b[0m\u001b[0m\n\u001b[1;32m   1842\u001b[0m         \u001b[0;31m# Check for duplicates\u001b[0m\u001b[0;34m\u001b[0m\u001b[0;34m\u001b[0m\u001b[0m\n",
      "\u001b[0;31mKeyError\u001b[0m: 'accnt_id'"
     ]
    }
   ],
   "source": [
    "df3.merge(df2, on='accnt_id')"
   ]
  },
  {
   "cell_type": "code",
   "execution_count": null,
   "id": "30cc81dc",
   "metadata": {},
   "outputs": [],
   "source": []
  }
 ],
 "metadata": {
  "kernelspec": {
   "display_name": "Python 3 (ipykernel)",
   "language": "python",
   "name": "python3"
  },
  "language_info": {
   "codemirror_mode": {
    "name": "ipython",
    "version": 3
   },
   "file_extension": ".py",
   "mimetype": "text/x-python",
   "name": "python",
   "nbconvert_exporter": "python",
   "pygments_lexer": "ipython3",
   "version": "3.9.13"
  }
 },
 "nbformat": 4,
 "nbformat_minor": 5
}
