{
 "cells": [
  {
   "cell_type": "code",
   "execution_count": 1,
   "metadata": {},
   "outputs": [],
   "source": [
    "import pandas as pd\n",
    "import numpy as np"
   ]
  },
  {
   "cell_type": "code",
   "execution_count": 2,
   "metadata": {},
   "outputs": [],
   "source": [
    "data_path = '..\\\\data\\\\'"
   ]
  },
  {
   "cell_type": "code",
   "execution_count": 3,
   "metadata": {},
   "outputs": [],
   "source": [
    "target_data = pd.read_feather(data_path + 'interim\\\\correct_target.frt',\n",
    "                              columns=['clnt_id', 'quarter', 'transactions_count', 'paid_avg_correct'])\n",
    "target_data.sort_values(['clnt_id', 'quarter'], ascending=True, inplace=True)\n",
    "target_data['quarter'] = target_data.quarter.astype(str)\n",
    "\n",
    "internal_data = pd.read_feather(data_path + 'interim\\\\internal_features.frt')\n",
    "internal_data['quarter'] = internal_data.quarter.astype(str)\n",
    "internal_features = internal_data.columns[1:].values.tolist()\n",
    "\n",
    "external_data = pd.read_feather(data_path + 'interim\\\\external_features.frt')\n",
    "external_data['quarter'] = external_data.quarter.astype(str)"
   ]
  },
  {
   "cell_type": "code",
   "execution_count": 4,
   "metadata": {},
   "outputs": [],
   "source": [
    "base = pd.merge(target_data, external_data, on=['clnt_id', 'quarter'], how='left')\n",
    "base = pd.merge(base, internal_data, on='quarter', how='left')"
   ]
  },
  {
   "cell_type": "code",
   "execution_count": 5,
   "metadata": {},
   "outputs": [],
   "source": [
    "shifted_internal_data = base[['clnt_id', 'quarter'] + internal_features].shift(-1)\\\n",
    "    .add_suffix('__prev').reset_index(drop=True)"
   ]
  },
  {
   "cell_type": "code",
   "execution_count": 6,
   "metadata": {},
   "outputs": [],
   "source": [
    "base = pd.concat([base, shifted_internal_data], axis=1)\n",
    "base[base.clnt_id != base.clnt_id__prev] = np.nan\n",
    "base.dropna(inplace=True)\n",
    "base.drop(columns=internal_features + ['clnt_id__prev', 'quarter__prev'], inplace=True)\n",
    "base.reset_index(drop=True, inplace=True)"
   ]
  },
  {
   "cell_type": "code",
   "execution_count": 9,
   "metadata": {},
   "outputs": [
    {
     "name": "stderr",
     "output_type": "stream",
     "text": [
      "d:\\Programs\\Python\\Python311\\Lib\\site-packages\\pyarrow\\pandas_compat.py:373: FutureWarning: is_sparse is deprecated and will be removed in a future version. Check `isinstance(dtype, pd.SparseDtype)` instead.\n",
      "  if _pandas_api.is_sparse(col):\n"
     ]
    }
   ],
   "source": [
    "# base.to_feather(data_path + 'interim\\\\full_base.frt')"
   ]
  }
 ],
 "metadata": {
  "kernelspec": {
   "display_name": "Python 3",
   "language": "python",
   "name": "python3"
  },
  "language_info": {
   "codemirror_mode": {
    "name": "ipython",
    "version": 3
   },
   "file_extension": ".py",
   "mimetype": "text/x-python",
   "name": "python",
   "nbconvert_exporter": "python",
   "pygments_lexer": "ipython3",
   "version": "3.11.2"
  },
  "orig_nbformat": 4
 },
 "nbformat": 4,
 "nbformat_minor": 2
}
