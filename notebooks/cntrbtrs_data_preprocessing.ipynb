{
 "cells": [
  {
   "cell_type": "code",
   "execution_count": 1,
   "metadata": {},
   "outputs": [],
   "source": [
    "import pandas as pd\n",
    "import numpy as np\n",
    "from typing import defaultdict"
   ]
  },
  {
   "cell_type": "code",
   "execution_count": 2,
   "metadata": {},
   "outputs": [],
   "source": [
    "data_path = '..\\\\data\\\\'"
   ]
  },
  {
   "cell_type": "code",
   "execution_count": 3,
   "metadata": {},
   "outputs": [],
   "source": [
    "contrib_data = pd.read_csv(data_path + 'train_data_npo\\\\npo_cntrbtrs.csv')"
   ]
  },
  {
   "cell_type": "code",
   "execution_count": 4,
   "metadata": {},
   "outputs": [],
   "source": [
    "def columns_report(data: pd.DataFrame) -> None:\n",
    "\n",
    "    print('Rows:', data.shape[0], end='\\n'*2)\n",
    "\n",
    "    stats = defaultdict(list)\n",
    "    for col in data.columns:\n",
    "        stats['Column'].append(col)\n",
    "        stats['Unique'].append(data[col].nunique())\n",
    "        stats['Duplicates'].append(data[col].duplicated().sum())\n",
    "        stats['Missing'].append(data[col].isna().sum())\n",
    "        stats['Missing%'].append(data[col].isna().mean() * 100)\n",
    "        stats['HitRate%'].append((1 - data[col].isna().mean()) * 100)\n",
    "    stats = pd.DataFrame(stats)\n",
    "\n",
    "    print(stats.to_string(index=False))"
   ]
  },
  {
   "cell_type": "code",
   "execution_count": 5,
   "metadata": {},
   "outputs": [],
   "source": [
    "contrib_cleaned = contrib_data.copy()"
   ]
  },
  {
   "cell_type": "code",
   "execution_count": 6,
   "metadata": {},
   "outputs": [
    {
     "name": "stdout",
     "output_type": "stream",
     "text": [
      "<class 'pandas.core.frame.DataFrame'>\n",
      "RangeIndex: 248947 entries, 0 to 248946\n",
      "Data columns (total 12 columns):\n",
      " #   Column                 Non-Null Count   Dtype  \n",
      "---  ------                 --------------   -----  \n",
      " 0   npo_accnt_id           248947 non-null  object \n",
      " 1   clnt_id                248947 non-null  object \n",
      " 2   accnt_pnsn_schm        248866 non-null  float64\n",
      " 3   slctn_nmbr             248947 non-null  int64  \n",
      " 4   npo_accnt_status       248947 non-null  int64  \n",
      " 5   npo_accnt_status_date  248947 non-null  object \n",
      " 6   npo_blnc               119305 non-null  float64\n",
      " 7   npo_pmnts_sum          233181 non-null  float64\n",
      " 8   npo_pmnts_nmbr         233181 non-null  float64\n",
      " 9   npo_frst_pmnt_date     233181 non-null  object \n",
      " 10  npo_lst_pmnt_date      233181 non-null  object \n",
      " 11  npo_ttl_incm           235141 non-null  float64\n",
      "dtypes: float64(5), int64(2), object(5)\n",
      "memory usage: 22.8+ MB\n"
     ]
    }
   ],
   "source": [
    "contrib_cleaned.info()"
   ]
  },
  {
   "cell_type": "code",
   "execution_count": 7,
   "metadata": {},
   "outputs": [
    {
     "name": "stdout",
     "output_type": "stream",
     "text": [
      "Rows: 248947\n",
      "\n",
      "               Column  Unique  Duplicates  Missing  Missing%   HitRate%\n",
      "         npo_accnt_id  248947           0        0  0.000000 100.000000\n",
      "              clnt_id  230426       18521        0  0.000000 100.000000\n",
      "      accnt_pnsn_schm     357      248589       81  0.032537  99.967463\n",
      "           slctn_nmbr       4      248943        0  0.000000 100.000000\n",
      "     npo_accnt_status       2      248945        0  0.000000 100.000000\n",
      "npo_accnt_status_date    8031      240916        0  0.000000 100.000000\n",
      "             npo_blnc   94189      154757   129642 52.076145  47.923855\n",
      "        npo_pmnts_sum  157074       91872    15766  6.333075  93.666925\n",
      "       npo_pmnts_nmbr     233      248713    15766  6.333075  93.666925\n",
      "   npo_frst_pmnt_date    5802      243144    15766  6.333075  93.666925\n",
      "    npo_lst_pmnt_date    6178      242768    15766  6.333075  93.666925\n",
      "         npo_ttl_incm  189873       59073    13806  5.545759  94.454241\n"
     ]
    }
   ],
   "source": [
    "columns_report(contrib_cleaned)"
   ]
  },
  {
   "cell_type": "code",
   "execution_count": 8,
   "metadata": {},
   "outputs": [],
   "source": [
    "contrib_cleaned['accnt_pnsn_schm'] = contrib_cleaned.accnt_pnsn_schm.astype(float).fillna(\n",
    "    contrib_cleaned.accnt_pnsn_schm.mode()[0]\n",
    "    ).astype(int).astype('category')"
   ]
  },
  {
   "cell_type": "code",
   "execution_count": 9,
   "metadata": {},
   "outputs": [
    {
     "data": {
      "text/html": [
       "<div>\n",
       "<style scoped>\n",
       "    .dataframe tbody tr th:only-of-type {\n",
       "        vertical-align: middle;\n",
       "    }\n",
       "\n",
       "    .dataframe tbody tr th {\n",
       "        vertical-align: top;\n",
       "    }\n",
       "\n",
       "    .dataframe thead th {\n",
       "        text-align: right;\n",
       "    }\n",
       "</style>\n",
       "<table border=\"1\" class=\"dataframe\">\n",
       "  <thead>\n",
       "    <tr style=\"text-align: right;\">\n",
       "      <th></th>\n",
       "      <th>npo_blnc</th>\n",
       "      <th>npo_pmnts_sum</th>\n",
       "    </tr>\n",
       "  </thead>\n",
       "  <tbody>\n",
       "    <tr>\n",
       "      <th>npo_blnc</th>\n",
       "      <td>1.000000</td>\n",
       "      <td>0.999829</td>\n",
       "    </tr>\n",
       "    <tr>\n",
       "      <th>npo_pmnts_sum</th>\n",
       "      <td>0.999829</td>\n",
       "      <td>1.000000</td>\n",
       "    </tr>\n",
       "  </tbody>\n",
       "</table>\n",
       "</div>"
      ],
      "text/plain": [
       "               npo_blnc  npo_pmnts_sum\n",
       "npo_blnc       1.000000       0.999829\n",
       "npo_pmnts_sum  0.999829       1.000000"
      ]
     },
     "execution_count": 9,
     "metadata": {},
     "output_type": "execute_result"
    }
   ],
   "source": [
    "contrib_cleaned[['npo_blnc', 'npo_pmnts_sum']].corr()"
   ]
  },
  {
   "cell_type": "code",
   "execution_count": 10,
   "metadata": {},
   "outputs": [],
   "source": [
    "blnc_filter = (((contrib_cleaned.npo_blnc.isna()) | (contrib_cleaned.npo_blnc < 0)) & (contrib_cleaned.npo_accnt_status == 1))\n",
    "contrib_cleaned.loc[blnc_filter, 'npo_blnc'] = contrib_cleaned.loc[blnc_filter, 'npo_pmnts_sum'].fillna(0)\n",
    "contrib_cleaned.loc[contrib_cleaned.npo_accnt_status == 0, 'npo_blnc'] = np.nan\n",
    "contrib_cleaned.loc[contrib_cleaned.npo_pmnts_sum < 0, 'npo_pmnts_sum'] = np.nan\n",
    "contrib_cleaned.loc[contrib_cleaned.npo_ttl_incm < 0, 'npo_ttl_incm'] = 0\n",
    "contrib_cleaned['npo_ttl_incm'] = contrib_cleaned.npo_ttl_incm.fillna(0)"
   ]
  },
  {
   "cell_type": "code",
   "execution_count": 11,
   "metadata": {},
   "outputs": [],
   "source": [
    "contrib_cleaned.dropna(subset=['npo_pmnts_sum'], inplace=True)\n",
    "contrib_cleaned.reset_index(drop=True, inplace=True)"
   ]
  },
  {
   "cell_type": "code",
   "execution_count": 12,
   "metadata": {},
   "outputs": [
    {
     "name": "stdout",
     "output_type": "stream",
     "text": [
      "Rows: 233166\n",
      "\n",
      "               Column  Unique  Duplicates  Missing  Missing%   HitRate%\n",
      "         npo_accnt_id  233166           0        0  0.000000 100.000000\n",
      "              clnt_id  220745       12421        0  0.000000 100.000000\n",
      "      accnt_pnsn_schm     333      232833        0  0.000000 100.000000\n",
      "           slctn_nmbr       4      233162        0  0.000000 100.000000\n",
      "     npo_accnt_status       2      233164        0  0.000000 100.000000\n",
      "npo_accnt_status_date    7954      225212        0  0.000000 100.000000\n",
      "             npo_blnc   80045      153120   131566 56.425894  43.574106\n",
      "        npo_pmnts_sum  157070       76096        0  0.000000 100.000000\n",
      "       npo_pmnts_nmbr     233      232933        0  0.000000 100.000000\n",
      "   npo_frst_pmnt_date    5802      227364        0  0.000000 100.000000\n",
      "    npo_lst_pmnt_date    6178      226988        0  0.000000 100.000000\n",
      "         npo_ttl_incm  184882       48284        0  0.000000 100.000000\n"
     ]
    }
   ],
   "source": [
    "columns_report(contrib_cleaned)"
   ]
  },
  {
   "cell_type": "code",
   "execution_count": 13,
   "metadata": {},
   "outputs": [
    {
     "data": {
      "text/html": [
       "<div>\n",
       "<style scoped>\n",
       "    .dataframe tbody tr th:only-of-type {\n",
       "        vertical-align: middle;\n",
       "    }\n",
       "\n",
       "    .dataframe tbody tr th {\n",
       "        vertical-align: top;\n",
       "    }\n",
       "\n",
       "    .dataframe thead th {\n",
       "        text-align: right;\n",
       "    }\n",
       "</style>\n",
       "<table border=\"1\" class=\"dataframe\">\n",
       "  <thead>\n",
       "    <tr style=\"text-align: right;\">\n",
       "      <th></th>\n",
       "      <th>slctn_nmbr</th>\n",
       "      <th>npo_accnt_status</th>\n",
       "      <th>npo_blnc</th>\n",
       "      <th>npo_pmnts_sum</th>\n",
       "      <th>npo_pmnts_nmbr</th>\n",
       "      <th>npo_ttl_incm</th>\n",
       "    </tr>\n",
       "  </thead>\n",
       "  <tbody>\n",
       "    <tr>\n",
       "      <th>count</th>\n",
       "      <td>233166.000000</td>\n",
       "      <td>233166.000000</td>\n",
       "      <td>1.016000e+05</td>\n",
       "      <td>2.331660e+05</td>\n",
       "      <td>233166.000000</td>\n",
       "      <td>2.331660e+05</td>\n",
       "    </tr>\n",
       "    <tr>\n",
       "      <th>mean</th>\n",
       "      <td>1.429136</td>\n",
       "      <td>0.435741</td>\n",
       "      <td>3.427057e+05</td>\n",
       "      <td>1.715460e+05</td>\n",
       "      <td>39.978543</td>\n",
       "      <td>3.489296e+04</td>\n",
       "    </tr>\n",
       "    <tr>\n",
       "      <th>std</th>\n",
       "      <td>0.837221</td>\n",
       "      <td>0.495855</td>\n",
       "      <td>6.912609e+07</td>\n",
       "      <td>4.055415e+07</td>\n",
       "      <td>45.285748</td>\n",
       "      <td>5.172632e+06</td>\n",
       "    </tr>\n",
       "    <tr>\n",
       "      <th>min</th>\n",
       "      <td>0.000000</td>\n",
       "      <td>0.000000</td>\n",
       "      <td>0.000000e+00</td>\n",
       "      <td>-0.000000e+00</td>\n",
       "      <td>1.000000</td>\n",
       "      <td>0.000000e+00</td>\n",
       "    </tr>\n",
       "    <tr>\n",
       "      <th>1%</th>\n",
       "      <td>0.000000</td>\n",
       "      <td>0.000000</td>\n",
       "      <td>4.927000e+01</td>\n",
       "      <td>2.042000e+01</td>\n",
       "      <td>1.000000</td>\n",
       "      <td>0.000000e+00</td>\n",
       "    </tr>\n",
       "    <tr>\n",
       "      <th>10%</th>\n",
       "      <td>0.000000</td>\n",
       "      <td>0.000000</td>\n",
       "      <td>3.103700e+02</td>\n",
       "      <td>1.269000e+02</td>\n",
       "      <td>1.000000</td>\n",
       "      <td>9.211000e+01</td>\n",
       "    </tr>\n",
       "    <tr>\n",
       "      <th>25%</th>\n",
       "      <td>1.000000</td>\n",
       "      <td>0.000000</td>\n",
       "      <td>1.483600e+03</td>\n",
       "      <td>2.607762e+03</td>\n",
       "      <td>4.000000</td>\n",
       "      <td>6.098825e+02</td>\n",
       "    </tr>\n",
       "    <tr>\n",
       "      <th>50%</th>\n",
       "      <td>2.000000</td>\n",
       "      <td>0.000000</td>\n",
       "      <td>1.425265e+04</td>\n",
       "      <td>1.882150e+04</td>\n",
       "      <td>24.000000</td>\n",
       "      <td>3.631965e+03</td>\n",
       "    </tr>\n",
       "    <tr>\n",
       "      <th>75%</th>\n",
       "      <td>2.000000</td>\n",
       "      <td>1.000000</td>\n",
       "      <td>1.054361e+05</td>\n",
       "      <td>7.530484e+04</td>\n",
       "      <td>62.000000</td>\n",
       "      <td>1.543901e+04</td>\n",
       "    </tr>\n",
       "    <tr>\n",
       "      <th>90%</th>\n",
       "      <td>2.000000</td>\n",
       "      <td>1.000000</td>\n",
       "      <td>2.849908e+05</td>\n",
       "      <td>1.935817e+05</td>\n",
       "      <td>103.000000</td>\n",
       "      <td>4.470799e+04</td>\n",
       "    </tr>\n",
       "    <tr>\n",
       "      <th>99%</th>\n",
       "      <td>3.000000</td>\n",
       "      <td>1.000000</td>\n",
       "      <td>1.188435e+06</td>\n",
       "      <td>8.114242e+05</td>\n",
       "      <td>197.000000</td>\n",
       "      <td>2.552227e+05</td>\n",
       "    </tr>\n",
       "    <tr>\n",
       "      <th>max</th>\n",
       "      <td>3.000000</td>\n",
       "      <td>1.000000</td>\n",
       "      <td>2.199324e+10</td>\n",
       "      <td>1.952195e+10</td>\n",
       "      <td>385.000000</td>\n",
       "      <td>2.481963e+09</td>\n",
       "    </tr>\n",
       "  </tbody>\n",
       "</table>\n",
       "</div>"
      ],
      "text/plain": [
       "          slctn_nmbr  npo_accnt_status      npo_blnc  npo_pmnts_sum  \\\n",
       "count  233166.000000     233166.000000  1.016000e+05   2.331660e+05   \n",
       "mean        1.429136          0.435741  3.427057e+05   1.715460e+05   \n",
       "std         0.837221          0.495855  6.912609e+07   4.055415e+07   \n",
       "min         0.000000          0.000000  0.000000e+00  -0.000000e+00   \n",
       "1%          0.000000          0.000000  4.927000e+01   2.042000e+01   \n",
       "10%         0.000000          0.000000  3.103700e+02   1.269000e+02   \n",
       "25%         1.000000          0.000000  1.483600e+03   2.607762e+03   \n",
       "50%         2.000000          0.000000  1.425265e+04   1.882150e+04   \n",
       "75%         2.000000          1.000000  1.054361e+05   7.530484e+04   \n",
       "90%         2.000000          1.000000  2.849908e+05   1.935817e+05   \n",
       "99%         3.000000          1.000000  1.188435e+06   8.114242e+05   \n",
       "max         3.000000          1.000000  2.199324e+10   1.952195e+10   \n",
       "\n",
       "       npo_pmnts_nmbr  npo_ttl_incm  \n",
       "count   233166.000000  2.331660e+05  \n",
       "mean        39.978543  3.489296e+04  \n",
       "std         45.285748  5.172632e+06  \n",
       "min          1.000000  0.000000e+00  \n",
       "1%           1.000000  0.000000e+00  \n",
       "10%          1.000000  9.211000e+01  \n",
       "25%          4.000000  6.098825e+02  \n",
       "50%         24.000000  3.631965e+03  \n",
       "75%         62.000000  1.543901e+04  \n",
       "90%        103.000000  4.470799e+04  \n",
       "99%        197.000000  2.552227e+05  \n",
       "max        385.000000  2.481963e+09  "
      ]
     },
     "execution_count": 13,
     "metadata": {},
     "output_type": "execute_result"
    }
   ],
   "source": [
    "contrib_cleaned.describe(percentiles=[.01, .1, .25, .5, .75, .9, .99])"
   ]
  },
  {
   "cell_type": "code",
   "execution_count": 14,
   "metadata": {},
   "outputs": [
    {
     "name": "stderr",
     "output_type": "stream",
     "text": [
      "d:\\Programs\\Python\\Python311\\Lib\\site-packages\\pyarrow\\pandas_compat.py:373: FutureWarning: is_sparse is deprecated and will be removed in a future version. Check `isinstance(dtype, pd.SparseDtype)` instead.\n",
      "  if _pandas_api.is_sparse(col):\n"
     ]
    }
   ],
   "source": [
    "# contrib_cleaned.to_feather(data_path + '\\\\interim\\\\contrib.frt')"
   ]
  },
  {
   "cell_type": "code",
   "execution_count": null,
   "metadata": {},
   "outputs": [],
   "source": []
  },
  {
   "cell_type": "code",
   "execution_count": null,
   "metadata": {},
   "outputs": [],
   "source": []
  },
  {
   "cell_type": "code",
   "execution_count": null,
   "metadata": {},
   "outputs": [],
   "source": []
  }
 ],
 "metadata": {
  "kernelspec": {
   "display_name": "Python 3",
   "language": "python",
   "name": "python3"
  },
  "language_info": {
   "codemirror_mode": {
    "name": "ipython",
    "version": 3
   },
   "file_extension": ".py",
   "mimetype": "text/x-python",
   "name": "python",
   "nbconvert_exporter": "python",
   "pygments_lexer": "ipython3",
   "version": "3.11.2"
  },
  "orig_nbformat": 4
 },
 "nbformat": 4,
 "nbformat_minor": 2
}
