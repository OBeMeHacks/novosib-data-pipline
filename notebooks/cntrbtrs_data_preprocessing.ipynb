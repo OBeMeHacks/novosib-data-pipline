{
 "cells": [
  {
   "cell_type": "code",
   "execution_count": 1,
   "metadata": {},
   "outputs": [],
   "source": [
    "import pandas as pd\n",
    "import numpy as np\n",
    "from typing import defaultdict"
   ]
  },
  {
   "cell_type": "code",
   "execution_count": 2,
   "metadata": {},
   "outputs": [],
   "source": [
    "data_path = '..\\\\data\\\\'"
   ]
  },
  {
   "cell_type": "code",
   "execution_count": 3,
   "metadata": {},
   "outputs": [],
   "source": [
    "contrib_data = pd.read_csv(data_path + 'test_data_npo\\\\npo_cntrbtrs.csv')"
   ]
  },
  {
   "cell_type": "code",
   "execution_count": 4,
   "metadata": {},
   "outputs": [],
   "source": [
    "def columns_report(data: pd.DataFrame) -> None:\n",
    "\n",
    "    print('Rows:', data.shape[0], end='\\n'*2)\n",
    "\n",
    "    stats = defaultdict(list)\n",
    "    for col in data.columns:\n",
    "        stats['Column'].append(col)\n",
    "        stats['Unique'].append(data[col].nunique())\n",
    "        stats['Duplicates'].append(data[col].duplicated().sum())\n",
    "        stats['Missing'].append(data[col].isna().sum())\n",
    "        stats['Missing%'].append(data[col].isna().mean() * 100)\n",
    "        stats['HitRate%'].append((1 - data[col].isna().mean()) * 100)\n",
    "    stats = pd.DataFrame(stats)\n",
    "\n",
    "    print(stats.to_string(index=False))"
   ]
  },
  {
   "cell_type": "code",
   "execution_count": 5,
   "metadata": {},
   "outputs": [],
   "source": [
    "contrib_cleaned = contrib_data.copy()"
   ]
  },
  {
   "cell_type": "code",
   "execution_count": 6,
   "metadata": {},
   "outputs": [
    {
     "name": "stdout",
     "output_type": "stream",
     "text": [
      "<class 'pandas.core.frame.DataFrame'>\n",
      "RangeIndex: 106692 entries, 0 to 106691\n",
      "Data columns (total 12 columns):\n",
      " #   Column                 Non-Null Count   Dtype  \n",
      "---  ------                 --------------   -----  \n",
      " 0   npo_accnt_id           106692 non-null  object \n",
      " 1   clnt_id                106692 non-null  object \n",
      " 2   accnt_pnsn_schm        106655 non-null  float64\n",
      " 3   slctn_nmbr             106692 non-null  int64  \n",
      " 4   npo_accnt_status       106692 non-null  int64  \n",
      " 5   npo_accnt_status_date  106692 non-null  object \n",
      " 6   npo_blnc               51287 non-null   float64\n",
      " 7   npo_pmnts_sum          100009 non-null  float64\n",
      " 8   npo_pmnts_nmbr         100009 non-null  float64\n",
      " 9   npo_frst_pmnt_date     100009 non-null  object \n",
      " 10  npo_lst_pmnt_date      100009 non-null  object \n",
      " 11  npo_ttl_incm           100888 non-null  float64\n",
      "dtypes: float64(5), int64(2), object(5)\n",
      "memory usage: 9.8+ MB\n"
     ]
    }
   ],
   "source": [
    "contrib_cleaned.info()"
   ]
  },
  {
   "cell_type": "code",
   "execution_count": 7,
   "metadata": {},
   "outputs": [
    {
     "name": "stdout",
     "output_type": "stream",
     "text": [
      "Rows: 106692\n",
      "\n",
      "               Column  Unique  Duplicates  Missing  Missing%   HitRate%\n",
      "         npo_accnt_id  106692           0        0  0.000000 100.000000\n",
      "              clnt_id  102898        3794        0  0.000000 100.000000\n",
      "      accnt_pnsn_schm     292      106399       37  0.034679  99.965321\n",
      "           slctn_nmbr       4      106688        0  0.000000 100.000000\n",
      "     npo_accnt_status       2      106690        0  0.000000 100.000000\n",
      "npo_accnt_status_date    7088       99604        0  0.000000 100.000000\n",
      "             npo_blnc   42136       64555    55405 51.929854  48.070146\n",
      "        npo_pmnts_sum   70135       36556     6683  6.263825  93.736175\n",
      "       npo_pmnts_nmbr     227      106464     6683  6.263825  93.736175\n",
      "   npo_frst_pmnt_date    5039      101652     6683  6.263825  93.736175\n",
      "    npo_lst_pmnt_date    5245      101446     6683  6.263825  93.736175\n",
      "         npo_ttl_incm   87356       19335     5804  5.439958  94.560042\n"
     ]
    }
   ],
   "source": [
    "columns_report(contrib_cleaned)"
   ]
  },
  {
   "cell_type": "code",
   "execution_count": 8,
   "metadata": {},
   "outputs": [],
   "source": [
    "contrib_cleaned['accnt_pnsn_schm'] = contrib_cleaned.accnt_pnsn_schm.astype(float).fillna(\n",
    "    contrib_cleaned.accnt_pnsn_schm.mode()[0]\n",
    "    ).astype(int).astype('category')"
   ]
  },
  {
   "cell_type": "code",
   "execution_count": 9,
   "metadata": {},
   "outputs": [
    {
     "data": {
      "text/html": [
       "<div>\n",
       "<style scoped>\n",
       "    .dataframe tbody tr th:only-of-type {\n",
       "        vertical-align: middle;\n",
       "    }\n",
       "\n",
       "    .dataframe tbody tr th {\n",
       "        vertical-align: top;\n",
       "    }\n",
       "\n",
       "    .dataframe thead th {\n",
       "        text-align: right;\n",
       "    }\n",
       "</style>\n",
       "<table border=\"1\" class=\"dataframe\">\n",
       "  <thead>\n",
       "    <tr style=\"text-align: right;\">\n",
       "      <th></th>\n",
       "      <th>npo_blnc</th>\n",
       "      <th>npo_pmnts_sum</th>\n",
       "    </tr>\n",
       "  </thead>\n",
       "  <tbody>\n",
       "    <tr>\n",
       "      <th>npo_blnc</th>\n",
       "      <td>1.000000</td>\n",
       "      <td>0.998212</td>\n",
       "    </tr>\n",
       "    <tr>\n",
       "      <th>npo_pmnts_sum</th>\n",
       "      <td>0.998212</td>\n",
       "      <td>1.000000</td>\n",
       "    </tr>\n",
       "  </tbody>\n",
       "</table>\n",
       "</div>"
      ],
      "text/plain": [
       "               npo_blnc  npo_pmnts_sum\n",
       "npo_blnc       1.000000       0.998212\n",
       "npo_pmnts_sum  0.998212       1.000000"
      ]
     },
     "execution_count": 9,
     "metadata": {},
     "output_type": "execute_result"
    }
   ],
   "source": [
    "contrib_cleaned[['npo_blnc', 'npo_pmnts_sum']].corr()"
   ]
  },
  {
   "cell_type": "code",
   "execution_count": 10,
   "metadata": {},
   "outputs": [],
   "source": [
    "blnc_filter = (((contrib_cleaned.npo_blnc.isna()) | (contrib_cleaned.npo_blnc < 0)) & (contrib_cleaned.npo_accnt_status == 1))\n",
    "contrib_cleaned.loc[blnc_filter, 'npo_blnc'] = contrib_cleaned.loc[blnc_filter, 'npo_pmnts_sum'].fillna(0)\n",
    "contrib_cleaned.loc[contrib_cleaned.npo_accnt_status == 0, 'npo_blnc'] = np.nan\n",
    "contrib_cleaned.loc[contrib_cleaned.npo_pmnts_sum < 0, 'npo_pmnts_sum'] = np.nan\n",
    "contrib_cleaned.loc[contrib_cleaned.npo_ttl_incm < 0, 'npo_ttl_incm'] = 0\n",
    "contrib_cleaned['npo_ttl_incm'] = contrib_cleaned.npo_ttl_incm.fillna(0)"
   ]
  },
  {
   "cell_type": "code",
   "execution_count": 11,
   "metadata": {},
   "outputs": [],
   "source": [
    "contrib_cleaned.dropna(subset=['npo_pmnts_sum'], inplace=True)\n",
    "contrib_cleaned.reset_index(drop=True, inplace=True)"
   ]
  },
  {
   "cell_type": "code",
   "execution_count": 12,
   "metadata": {},
   "outputs": [
    {
     "name": "stdout",
     "output_type": "stream",
     "text": [
      "Rows: 99999\n",
      "\n",
      "               Column  Unique  Duplicates  Missing  Missing%   HitRate%\n",
      "         npo_accnt_id   99999           0        0  0.000000 100.000000\n",
      "              clnt_id   97439        2560        0  0.000000 100.000000\n",
      "      accnt_pnsn_schm     267       99732        0  0.000000 100.000000\n",
      "           slctn_nmbr       4       99995        0  0.000000 100.000000\n",
      "     npo_accnt_status       2       99997        0  0.000000 100.000000\n",
      "npo_accnt_status_date    6988       93011        0  0.000000 100.000000\n",
      "             npo_blnc   35897       64101    56345 56.345563  43.654437\n",
      "        npo_pmnts_sum   70133       29866        0  0.000000 100.000000\n",
      "       npo_pmnts_nmbr     227       99772        0  0.000000 100.000000\n",
      "   npo_frst_pmnt_date    5039       94960        0  0.000000 100.000000\n",
      "    npo_lst_pmnt_date    5245       94754        0  0.000000 100.000000\n",
      "         npo_ttl_incm   84746       15253        0  0.000000 100.000000\n"
     ]
    }
   ],
   "source": [
    "columns_report(contrib_cleaned)"
   ]
  },
  {
   "cell_type": "code",
   "execution_count": 13,
   "metadata": {},
   "outputs": [
    {
     "data": {
      "text/html": [
       "<div>\n",
       "<style scoped>\n",
       "    .dataframe tbody tr th:only-of-type {\n",
       "        vertical-align: middle;\n",
       "    }\n",
       "\n",
       "    .dataframe tbody tr th {\n",
       "        vertical-align: top;\n",
       "    }\n",
       "\n",
       "    .dataframe thead th {\n",
       "        text-align: right;\n",
       "    }\n",
       "</style>\n",
       "<table border=\"1\" class=\"dataframe\">\n",
       "  <thead>\n",
       "    <tr style=\"text-align: right;\">\n",
       "      <th></th>\n",
       "      <th>slctn_nmbr</th>\n",
       "      <th>npo_accnt_status</th>\n",
       "      <th>npo_blnc</th>\n",
       "      <th>npo_pmnts_sum</th>\n",
       "      <th>npo_pmnts_nmbr</th>\n",
       "      <th>npo_ttl_incm</th>\n",
       "    </tr>\n",
       "  </thead>\n",
       "  <tbody>\n",
       "    <tr>\n",
       "      <th>count</th>\n",
       "      <td>99999.000000</td>\n",
       "      <td>99999.000000</td>\n",
       "      <td>4.365400e+04</td>\n",
       "      <td>9.999900e+04</td>\n",
       "      <td>99999.000000</td>\n",
       "      <td>9.999900e+04</td>\n",
       "    </tr>\n",
       "    <tr>\n",
       "      <th>mean</th>\n",
       "      <td>1.433184</td>\n",
       "      <td>0.436544</td>\n",
       "      <td>1.504186e+05</td>\n",
       "      <td>9.648671e+04</td>\n",
       "      <td>39.997940</td>\n",
       "      <td>2.572182e+04</td>\n",
       "    </tr>\n",
       "    <tr>\n",
       "      <th>std</th>\n",
       "      <td>0.835755</td>\n",
       "      <td>0.495960</td>\n",
       "      <td>5.577909e+06</td>\n",
       "      <td>3.561202e+06</td>\n",
       "      <td>46.873419</td>\n",
       "      <td>5.945093e+05</td>\n",
       "    </tr>\n",
       "    <tr>\n",
       "      <th>min</th>\n",
       "      <td>0.000000</td>\n",
       "      <td>0.000000</td>\n",
       "      <td>0.000000e+00</td>\n",
       "      <td>-0.000000e+00</td>\n",
       "      <td>1.000000</td>\n",
       "      <td>0.000000e+00</td>\n",
       "    </tr>\n",
       "    <tr>\n",
       "      <th>1%</th>\n",
       "      <td>0.000000</td>\n",
       "      <td>0.000000</td>\n",
       "      <td>4.878000e+01</td>\n",
       "      <td>2.042000e+01</td>\n",
       "      <td>1.000000</td>\n",
       "      <td>0.000000e+00</td>\n",
       "    </tr>\n",
       "    <tr>\n",
       "      <th>10%</th>\n",
       "      <td>0.000000</td>\n",
       "      <td>0.000000</td>\n",
       "      <td>3.151060e+02</td>\n",
       "      <td>1.260100e+02</td>\n",
       "      <td>1.000000</td>\n",
       "      <td>9.211000e+01</td>\n",
       "    </tr>\n",
       "    <tr>\n",
       "      <th>25%</th>\n",
       "      <td>1.000000</td>\n",
       "      <td>0.000000</td>\n",
       "      <td>1.490555e+03</td>\n",
       "      <td>2.572095e+03</td>\n",
       "      <td>4.000000</td>\n",
       "      <td>6.118150e+02</td>\n",
       "    </tr>\n",
       "    <tr>\n",
       "      <th>50%</th>\n",
       "      <td>2.000000</td>\n",
       "      <td>0.000000</td>\n",
       "      <td>1.455810e+04</td>\n",
       "      <td>1.906504e+04</td>\n",
       "      <td>23.000000</td>\n",
       "      <td>3.580880e+03</td>\n",
       "    </tr>\n",
       "    <tr>\n",
       "      <th>75%</th>\n",
       "      <td>2.000000</td>\n",
       "      <td>1.000000</td>\n",
       "      <td>1.072836e+05</td>\n",
       "      <td>7.659023e+04</td>\n",
       "      <td>62.000000</td>\n",
       "      <td>1.563320e+04</td>\n",
       "    </tr>\n",
       "    <tr>\n",
       "      <th>90%</th>\n",
       "      <td>2.000000</td>\n",
       "      <td>1.000000</td>\n",
       "      <td>2.893583e+05</td>\n",
       "      <td>1.950911e+05</td>\n",
       "      <td>103.000000</td>\n",
       "      <td>4.470313e+04</td>\n",
       "    </tr>\n",
       "    <tr>\n",
       "      <th>99%</th>\n",
       "      <td>3.000000</td>\n",
       "      <td>1.000000</td>\n",
       "      <td>1.263016e+06</td>\n",
       "      <td>8.474974e+05</td>\n",
       "      <td>198.000000</td>\n",
       "      <td>2.642729e+05</td>\n",
       "    </tr>\n",
       "    <tr>\n",
       "      <th>max</th>\n",
       "      <td>3.000000</td>\n",
       "      <td>1.000000</td>\n",
       "      <td>1.132400e+09</td>\n",
       "      <td>1.098027e+09</td>\n",
       "      <td>3674.000000</td>\n",
       "      <td>1.599261e+08</td>\n",
       "    </tr>\n",
       "  </tbody>\n",
       "</table>\n",
       "</div>"
      ],
      "text/plain": [
       "         slctn_nmbr  npo_accnt_status      npo_blnc  npo_pmnts_sum  \\\n",
       "count  99999.000000      99999.000000  4.365400e+04   9.999900e+04   \n",
       "mean       1.433184          0.436544  1.504186e+05   9.648671e+04   \n",
       "std        0.835755          0.495960  5.577909e+06   3.561202e+06   \n",
       "min        0.000000          0.000000  0.000000e+00  -0.000000e+00   \n",
       "1%         0.000000          0.000000  4.878000e+01   2.042000e+01   \n",
       "10%        0.000000          0.000000  3.151060e+02   1.260100e+02   \n",
       "25%        1.000000          0.000000  1.490555e+03   2.572095e+03   \n",
       "50%        2.000000          0.000000  1.455810e+04   1.906504e+04   \n",
       "75%        2.000000          1.000000  1.072836e+05   7.659023e+04   \n",
       "90%        2.000000          1.000000  2.893583e+05   1.950911e+05   \n",
       "99%        3.000000          1.000000  1.263016e+06   8.474974e+05   \n",
       "max        3.000000          1.000000  1.132400e+09   1.098027e+09   \n",
       "\n",
       "       npo_pmnts_nmbr  npo_ttl_incm  \n",
       "count    99999.000000  9.999900e+04  \n",
       "mean        39.997940  2.572182e+04  \n",
       "std         46.873419  5.945093e+05  \n",
       "min          1.000000  0.000000e+00  \n",
       "1%           1.000000  0.000000e+00  \n",
       "10%          1.000000  9.211000e+01  \n",
       "25%          4.000000  6.118150e+02  \n",
       "50%         23.000000  3.580880e+03  \n",
       "75%         62.000000  1.563320e+04  \n",
       "90%        103.000000  4.470313e+04  \n",
       "99%        198.000000  2.642729e+05  \n",
       "max       3674.000000  1.599261e+08  "
      ]
     },
     "execution_count": 13,
     "metadata": {},
     "output_type": "execute_result"
    }
   ],
   "source": [
    "contrib_cleaned.describe(percentiles=[.01, .1, .25, .5, .75, .9, .99])"
   ]
  },
  {
   "cell_type": "code",
   "execution_count": 15,
   "metadata": {},
   "outputs": [
    {
     "name": "stderr",
     "output_type": "stream",
     "text": [
      "d:\\Programs\\Python\\Python311\\Lib\\site-packages\\pyarrow\\pandas_compat.py:373: FutureWarning: is_sparse is deprecated and will be removed in a future version. Check `isinstance(dtype, pd.SparseDtype)` instead.\n",
      "  if _pandas_api.is_sparse(col):\n"
     ]
    }
   ],
   "source": [
    "# contrib_cleaned.to_feather(data_path + '\\\\interim\\\\contrib_test.frt')"
   ]
  }
 ],
 "metadata": {
  "kernelspec": {
   "display_name": "Python 3",
   "language": "python",
   "name": "python3"
  },
  "language_info": {
   "codemirror_mode": {
    "name": "ipython",
    "version": 3
   },
   "file_extension": ".py",
   "mimetype": "text/x-python",
   "name": "python",
   "nbconvert_exporter": "python",
   "pygments_lexer": "ipython3",
   "version": "3.11.2"
  },
  "orig_nbformat": 4
 },
 "nbformat": 4,
 "nbformat_minor": 2
}
