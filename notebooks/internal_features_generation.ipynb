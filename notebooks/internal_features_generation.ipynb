{
 "cells": [
  {
   "cell_type": "code",
   "execution_count": 1,
   "metadata": {},
   "outputs": [],
   "source": [
    "import pandas as pd"
   ]
  },
  {
   "cell_type": "code",
   "execution_count": 2,
   "metadata": {},
   "outputs": [],
   "source": [
    "data_path = '..\\\\data\\\\'"
   ]
  },
  {
   "cell_type": "code",
   "execution_count": 3,
   "metadata": {},
   "outputs": [],
   "source": [
    "contrib_data = pd.read_feather(data_path + 'interim\\\\contrib.frt')"
   ]
  },
  {
   "cell_type": "code",
   "execution_count": 4,
   "metadata": {},
   "outputs": [],
   "source": [
    "contrib_data['npo_accnt_status_date'] = pd.to_datetime(contrib_data.npo_accnt_status_date) + pd.DateOffset(days=487)\n",
    "\n",
    "contrib_data['quarter'] = pd.to_datetime(contrib_data.npo_accnt_status_date).dt.to_period('Q')\n",
    "\n",
    "contrib_data['last_to_first_pmt_term'] = (pd.to_datetime(contrib_data.npo_lst_pmnt_date) -\\\n",
    "    pd.to_datetime(contrib_data.npo_frst_pmnt_date)).dt.days"
   ]
  },
  {
   "cell_type": "code",
   "execution_count": 5,
   "metadata": {},
   "outputs": [],
   "source": [
    "internal_features = contrib_data.groupby('quarter', as_index=False)\\\n",
    "    [['npo_pmnts_sum', 'npo_pmnts_nmbr', 'npo_ttl_incm', 'last_to_first_pmt_term']].median()"
   ]
  },
  {
   "cell_type": "code",
   "execution_count": 8,
   "metadata": {},
   "outputs": [
    {
     "name": "stderr",
     "output_type": "stream",
     "text": [
      "d:\\Programs\\Python\\Python311\\Lib\\site-packages\\pyarrow\\pandas_compat.py:373: FutureWarning: is_sparse is deprecated and will be removed in a future version. Check `isinstance(dtype, pd.SparseDtype)` instead.\n",
      "  if _pandas_api.is_sparse(col):\n"
     ]
    }
   ],
   "source": [
    "# internal_features.to_feather(data_path + 'interim\\\\internal_features.frt')"
   ]
  }
 ],
 "metadata": {
  "kernelspec": {
   "display_name": "Python 3",
   "language": "python",
   "name": "python3"
  },
  "language_info": {
   "codemirror_mode": {
    "name": "ipython",
    "version": 3
   },
   "file_extension": ".py",
   "mimetype": "text/x-python",
   "name": "python",
   "nbconvert_exporter": "python",
   "pygments_lexer": "ipython3",
   "version": "3.11.2"
  },
  "orig_nbformat": 4
 },
 "nbformat": 4,
 "nbformat_minor": 2
}
